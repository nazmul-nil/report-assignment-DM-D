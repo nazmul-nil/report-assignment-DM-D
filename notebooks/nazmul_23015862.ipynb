{
  "nbformat": 4,
  "nbformat_minor": 0,
  "metadata": {
    "colab": {
      "provenance": []
    },
    "kernelspec": {
      "name": "python3",
      "display_name": "Python 3"
    },
    "language_info": {
      "name": "python"
    }
  },
  "cells": [
    {
      "cell_type": "markdown",
      "source": [
        "# Data Mining and Discovery <br>\n",
        "## Report Assignment\n",
        "**Nazmul Hossain** | **23015862**"
      ],
      "metadata": {
        "id": "b8YpQZ-4c5e2"
      }
    },
    {
      "cell_type": "markdown",
      "source": [
        "## Import necessary libraries"
      ],
      "metadata": {
        "id": "ve3ZNMJ1et7t"
      }
    },
    {
      "cell_type": "code",
      "execution_count": null,
      "metadata": {
        "id": "uKAPHba2csf6"
      },
      "outputs": [],
      "source": []
    },
    {
      "cell_type": "markdown",
      "source": [
        "## Choose and load a random dataset from `datasets.txt`"
      ],
      "metadata": {
        "id": "0XTMRTZufBG9"
      }
    },
    {
      "cell_type": "code",
      "source": [],
      "metadata": {
        "id": "G1aNnerjfLv1"
      },
      "execution_count": null,
      "outputs": []
    },
    {
      "cell_type": "markdown",
      "source": [
        "## Dataset preprocessing"
      ],
      "metadata": {
        "id": "1sTpM8oGfgNV"
      }
    },
    {
      "cell_type": "code",
      "source": [],
      "metadata": {
        "id": "mDpdv2F2fj3W"
      },
      "execution_count": null,
      "outputs": []
    },
    {
      "cell_type": "markdown",
      "source": [
        "## Understand and apply subtopic 1 (Linear Regression) to the dataset"
      ],
      "metadata": {
        "id": "3p0E7MtBfMok"
      }
    },
    {
      "cell_type": "code",
      "source": [],
      "metadata": {
        "id": "2_rKgYKffWFM"
      },
      "execution_count": null,
      "outputs": []
    },
    {
      "cell_type": "markdown",
      "source": [
        "## Apply subtopic 2 (Classification)"
      ],
      "metadata": {
        "id": "X6NxZl6rfkmc"
      }
    },
    {
      "cell_type": "code",
      "source": [],
      "metadata": {
        "id": "WynoKI67fzYM"
      },
      "execution_count": null,
      "outputs": []
    },
    {
      "cell_type": "markdown",
      "source": [
        "## Compare and contrast both results (subtopic 1 vs subtopic 2)"
      ],
      "metadata": {
        "id": "ArocvbVef0Cl"
      }
    },
    {
      "cell_type": "code",
      "source": [],
      "metadata": {
        "id": "JhoUGT6qf5ns"
      },
      "execution_count": null,
      "outputs": []
    }
  ]
}