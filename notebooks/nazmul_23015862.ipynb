{
  "nbformat": 4,
  "nbformat_minor": 0,
  "metadata": {
    "colab": {
      "provenance": []
    },
    "kernelspec": {
      "name": "python3",
      "display_name": "Python 3"
    },
    "language_info": {
      "name": "python"
    }
  },
  "cells": [
    {
      "cell_type": "markdown",
      "source": [
        "# Data Mining and Discovery <br>\n",
        "## Report Assignment\n",
        "**Nazmul Hossain** | **23015862**"
      ],
      "metadata": {
        "id": "b8YpQZ-4c5e2"
      }
    },
    {
      "cell_type": "markdown",
      "source": [
        "## Import necessary libraries"
      ],
      "metadata": {
        "id": "ve3ZNMJ1et7t"
      }
    },
    {
      "cell_type": "code",
      "execution_count": 45,
      "metadata": {
        "id": "uKAPHba2csf6"
      },
      "outputs": [],
      "source": [
        "import numpy as np\n",
        "import pandas as pd\n",
        "import matplotlib.pyplot as plt\n",
        "import seaborn as sns\n",
        "\n",
        "from sklearn.model_selection import train_test_split\n",
        "from sklearn.linear_model import LinearRegression\n",
        "from sklearn.metrics import mean_squared_error, r2_score\n",
        "from sklearn.preprocessing import PolynomialFeatures\n",
        "\n",
        "from sklearn.linear_model import LogisticRegression\n",
        "from sklearn.metrics import accuracy_score, classification_report, confusion_matrix\n",
        "\n",
        "from sklearn.preprocessing import StandardScaler"
      ]
    },
    {
      "cell_type": "markdown",
      "source": [
        "## Choose and load a dataset from `datasets.txt`\n",
        "\n",
        "Air Quality Data Set (UCI), regression - https://archive.ics.uci.edu/ml/datasets/Air+Quality"
      ],
      "metadata": {
        "id": "0XTMRTZufBG9"
      }
    },
    {
      "cell_type": "code",
      "source": [
        "air_quality_df = pd.read_csv('datasets/AirQualityUCI.csv', sep=';')\n",
        "air_quality_df.head()"
      ],
      "metadata": {
        "id": "G1aNnerjfLv1",
        "colab": {
          "base_uri": "https://localhost:8080/",
          "height": 206
        },
        "outputId": "1ccc683b-63d6-43ee-8415-ded604fa999c"
      },
      "execution_count": 13,
      "outputs": [
        {
          "output_type": "execute_result",
          "data": {
            "text/plain": [
              "         Date      Time CO(GT)  PT08.S1(CO)  NMHC(GT) C6H6(GT)  PT08.S2(NMHC)  \\\n",
              "0  10/03/2004  18.00.00    2,6       1360.0     150.0     11,9         1046.0   \n",
              "1  10/03/2004  19.00.00      2       1292.0     112.0      9,4          955.0   \n",
              "2  10/03/2004  20.00.00    2,2       1402.0      88.0      9,0          939.0   \n",
              "3  10/03/2004  21.00.00    2,2       1376.0      80.0      9,2          948.0   \n",
              "4  10/03/2004  22.00.00    1,6       1272.0      51.0      6,5          836.0   \n",
              "\n",
              "   NOx(GT)  PT08.S3(NOx)  NO2(GT)  PT08.S4(NO2)  PT08.S5(O3)     T    RH  \\\n",
              "0    166.0        1056.0    113.0        1692.0       1268.0  13,6  48,9   \n",
              "1    103.0        1174.0     92.0        1559.0        972.0  13,3  47,7   \n",
              "2    131.0        1140.0    114.0        1555.0       1074.0  11,9  54,0   \n",
              "3    172.0        1092.0    122.0        1584.0       1203.0  11,0  60,0   \n",
              "4    131.0        1205.0    116.0        1490.0       1110.0  11,2  59,6   \n",
              "\n",
              "       AH  Unnamed: 15  Unnamed: 16  \n",
              "0  0,7578          NaN          NaN  \n",
              "1  0,7255          NaN          NaN  \n",
              "2  0,7502          NaN          NaN  \n",
              "3  0,7867          NaN          NaN  \n",
              "4  0,7888          NaN          NaN  "
            ],
            "text/html": [
              "\n",
              "  <div id=\"df-323934a0-f778-43df-ae38-c2b34dd0a974\" class=\"colab-df-container\">\n",
              "    <div>\n",
              "<style scoped>\n",
              "    .dataframe tbody tr th:only-of-type {\n",
              "        vertical-align: middle;\n",
              "    }\n",
              "\n",
              "    .dataframe tbody tr th {\n",
              "        vertical-align: top;\n",
              "    }\n",
              "\n",
              "    .dataframe thead th {\n",
              "        text-align: right;\n",
              "    }\n",
              "</style>\n",
              "<table border=\"1\" class=\"dataframe\">\n",
              "  <thead>\n",
              "    <tr style=\"text-align: right;\">\n",
              "      <th></th>\n",
              "      <th>Date</th>\n",
              "      <th>Time</th>\n",
              "      <th>CO(GT)</th>\n",
              "      <th>PT08.S1(CO)</th>\n",
              "      <th>NMHC(GT)</th>\n",
              "      <th>C6H6(GT)</th>\n",
              "      <th>PT08.S2(NMHC)</th>\n",
              "      <th>NOx(GT)</th>\n",
              "      <th>PT08.S3(NOx)</th>\n",
              "      <th>NO2(GT)</th>\n",
              "      <th>PT08.S4(NO2)</th>\n",
              "      <th>PT08.S5(O3)</th>\n",
              "      <th>T</th>\n",
              "      <th>RH</th>\n",
              "      <th>AH</th>\n",
              "      <th>Unnamed: 15</th>\n",
              "      <th>Unnamed: 16</th>\n",
              "    </tr>\n",
              "  </thead>\n",
              "  <tbody>\n",
              "    <tr>\n",
              "      <th>0</th>\n",
              "      <td>10/03/2004</td>\n",
              "      <td>18.00.00</td>\n",
              "      <td>2,6</td>\n",
              "      <td>1360.0</td>\n",
              "      <td>150.0</td>\n",
              "      <td>11,9</td>\n",
              "      <td>1046.0</td>\n",
              "      <td>166.0</td>\n",
              "      <td>1056.0</td>\n",
              "      <td>113.0</td>\n",
              "      <td>1692.0</td>\n",
              "      <td>1268.0</td>\n",
              "      <td>13,6</td>\n",
              "      <td>48,9</td>\n",
              "      <td>0,7578</td>\n",
              "      <td>NaN</td>\n",
              "      <td>NaN</td>\n",
              "    </tr>\n",
              "    <tr>\n",
              "      <th>1</th>\n",
              "      <td>10/03/2004</td>\n",
              "      <td>19.00.00</td>\n",
              "      <td>2</td>\n",
              "      <td>1292.0</td>\n",
              "      <td>112.0</td>\n",
              "      <td>9,4</td>\n",
              "      <td>955.0</td>\n",
              "      <td>103.0</td>\n",
              "      <td>1174.0</td>\n",
              "      <td>92.0</td>\n",
              "      <td>1559.0</td>\n",
              "      <td>972.0</td>\n",
              "      <td>13,3</td>\n",
              "      <td>47,7</td>\n",
              "      <td>0,7255</td>\n",
              "      <td>NaN</td>\n",
              "      <td>NaN</td>\n",
              "    </tr>\n",
              "    <tr>\n",
              "      <th>2</th>\n",
              "      <td>10/03/2004</td>\n",
              "      <td>20.00.00</td>\n",
              "      <td>2,2</td>\n",
              "      <td>1402.0</td>\n",
              "      <td>88.0</td>\n",
              "      <td>9,0</td>\n",
              "      <td>939.0</td>\n",
              "      <td>131.0</td>\n",
              "      <td>1140.0</td>\n",
              "      <td>114.0</td>\n",
              "      <td>1555.0</td>\n",
              "      <td>1074.0</td>\n",
              "      <td>11,9</td>\n",
              "      <td>54,0</td>\n",
              "      <td>0,7502</td>\n",
              "      <td>NaN</td>\n",
              "      <td>NaN</td>\n",
              "    </tr>\n",
              "    <tr>\n",
              "      <th>3</th>\n",
              "      <td>10/03/2004</td>\n",
              "      <td>21.00.00</td>\n",
              "      <td>2,2</td>\n",
              "      <td>1376.0</td>\n",
              "      <td>80.0</td>\n",
              "      <td>9,2</td>\n",
              "      <td>948.0</td>\n",
              "      <td>172.0</td>\n",
              "      <td>1092.0</td>\n",
              "      <td>122.0</td>\n",
              "      <td>1584.0</td>\n",
              "      <td>1203.0</td>\n",
              "      <td>11,0</td>\n",
              "      <td>60,0</td>\n",
              "      <td>0,7867</td>\n",
              "      <td>NaN</td>\n",
              "      <td>NaN</td>\n",
              "    </tr>\n",
              "    <tr>\n",
              "      <th>4</th>\n",
              "      <td>10/03/2004</td>\n",
              "      <td>22.00.00</td>\n",
              "      <td>1,6</td>\n",
              "      <td>1272.0</td>\n",
              "      <td>51.0</td>\n",
              "      <td>6,5</td>\n",
              "      <td>836.0</td>\n",
              "      <td>131.0</td>\n",
              "      <td>1205.0</td>\n",
              "      <td>116.0</td>\n",
              "      <td>1490.0</td>\n",
              "      <td>1110.0</td>\n",
              "      <td>11,2</td>\n",
              "      <td>59,6</td>\n",
              "      <td>0,7888</td>\n",
              "      <td>NaN</td>\n",
              "      <td>NaN</td>\n",
              "    </tr>\n",
              "  </tbody>\n",
              "</table>\n",
              "</div>\n",
              "    <div class=\"colab-df-buttons\">\n",
              "\n",
              "  <div class=\"colab-df-container\">\n",
              "    <button class=\"colab-df-convert\" onclick=\"convertToInteractive('df-323934a0-f778-43df-ae38-c2b34dd0a974')\"\n",
              "            title=\"Convert this dataframe to an interactive table.\"\n",
              "            style=\"display:none;\">\n",
              "\n",
              "  <svg xmlns=\"http://www.w3.org/2000/svg\" height=\"24px\" viewBox=\"0 -960 960 960\">\n",
              "    <path d=\"M120-120v-720h720v720H120Zm60-500h600v-160H180v160Zm220 220h160v-160H400v160Zm0 220h160v-160H400v160ZM180-400h160v-160H180v160Zm440 0h160v-160H620v160ZM180-180h160v-160H180v160Zm440 0h160v-160H620v160Z\"/>\n",
              "  </svg>\n",
              "    </button>\n",
              "\n",
              "  <style>\n",
              "    .colab-df-container {\n",
              "      display:flex;\n",
              "      gap: 12px;\n",
              "    }\n",
              "\n",
              "    .colab-df-convert {\n",
              "      background-color: #E8F0FE;\n",
              "      border: none;\n",
              "      border-radius: 50%;\n",
              "      cursor: pointer;\n",
              "      display: none;\n",
              "      fill: #1967D2;\n",
              "      height: 32px;\n",
              "      padding: 0 0 0 0;\n",
              "      width: 32px;\n",
              "    }\n",
              "\n",
              "    .colab-df-convert:hover {\n",
              "      background-color: #E2EBFA;\n",
              "      box-shadow: 0px 1px 2px rgba(60, 64, 67, 0.3), 0px 1px 3px 1px rgba(60, 64, 67, 0.15);\n",
              "      fill: #174EA6;\n",
              "    }\n",
              "\n",
              "    .colab-df-buttons div {\n",
              "      margin-bottom: 4px;\n",
              "    }\n",
              "\n",
              "    [theme=dark] .colab-df-convert {\n",
              "      background-color: #3B4455;\n",
              "      fill: #D2E3FC;\n",
              "    }\n",
              "\n",
              "    [theme=dark] .colab-df-convert:hover {\n",
              "      background-color: #434B5C;\n",
              "      box-shadow: 0px 1px 3px 1px rgba(0, 0, 0, 0.15);\n",
              "      filter: drop-shadow(0px 1px 2px rgba(0, 0, 0, 0.3));\n",
              "      fill: #FFFFFF;\n",
              "    }\n",
              "  </style>\n",
              "\n",
              "    <script>\n",
              "      const buttonEl =\n",
              "        document.querySelector('#df-323934a0-f778-43df-ae38-c2b34dd0a974 button.colab-df-convert');\n",
              "      buttonEl.style.display =\n",
              "        google.colab.kernel.accessAllowed ? 'block' : 'none';\n",
              "\n",
              "      async function convertToInteractive(key) {\n",
              "        const element = document.querySelector('#df-323934a0-f778-43df-ae38-c2b34dd0a974');\n",
              "        const dataTable =\n",
              "          await google.colab.kernel.invokeFunction('convertToInteractive',\n",
              "                                                    [key], {});\n",
              "        if (!dataTable) return;\n",
              "\n",
              "        const docLinkHtml = 'Like what you see? Visit the ' +\n",
              "          '<a target=\"_blank\" href=https://colab.research.google.com/notebooks/data_table.ipynb>data table notebook</a>'\n",
              "          + ' to learn more about interactive tables.';\n",
              "        element.innerHTML = '';\n",
              "        dataTable['output_type'] = 'display_data';\n",
              "        await google.colab.output.renderOutput(dataTable, element);\n",
              "        const docLink = document.createElement('div');\n",
              "        docLink.innerHTML = docLinkHtml;\n",
              "        element.appendChild(docLink);\n",
              "      }\n",
              "    </script>\n",
              "  </div>\n",
              "\n",
              "\n",
              "<div id=\"df-8d2badfa-a417-457a-afa5-3940d3c587be\">\n",
              "  <button class=\"colab-df-quickchart\" onclick=\"quickchart('df-8d2badfa-a417-457a-afa5-3940d3c587be')\"\n",
              "            title=\"Suggest charts\"\n",
              "            style=\"display:none;\">\n",
              "\n",
              "<svg xmlns=\"http://www.w3.org/2000/svg\" height=\"24px\"viewBox=\"0 0 24 24\"\n",
              "     width=\"24px\">\n",
              "    <g>\n",
              "        <path d=\"M19 3H5c-1.1 0-2 .9-2 2v14c0 1.1.9 2 2 2h14c1.1 0 2-.9 2-2V5c0-1.1-.9-2-2-2zM9 17H7v-7h2v7zm4 0h-2V7h2v10zm4 0h-2v-4h2v4z\"/>\n",
              "    </g>\n",
              "</svg>\n",
              "  </button>\n",
              "\n",
              "<style>\n",
              "  .colab-df-quickchart {\n",
              "      --bg-color: #E8F0FE;\n",
              "      --fill-color: #1967D2;\n",
              "      --hover-bg-color: #E2EBFA;\n",
              "      --hover-fill-color: #174EA6;\n",
              "      --disabled-fill-color: #AAA;\n",
              "      --disabled-bg-color: #DDD;\n",
              "  }\n",
              "\n",
              "  [theme=dark] .colab-df-quickchart {\n",
              "      --bg-color: #3B4455;\n",
              "      --fill-color: #D2E3FC;\n",
              "      --hover-bg-color: #434B5C;\n",
              "      --hover-fill-color: #FFFFFF;\n",
              "      --disabled-bg-color: #3B4455;\n",
              "      --disabled-fill-color: #666;\n",
              "  }\n",
              "\n",
              "  .colab-df-quickchart {\n",
              "    background-color: var(--bg-color);\n",
              "    border: none;\n",
              "    border-radius: 50%;\n",
              "    cursor: pointer;\n",
              "    display: none;\n",
              "    fill: var(--fill-color);\n",
              "    height: 32px;\n",
              "    padding: 0;\n",
              "    width: 32px;\n",
              "  }\n",
              "\n",
              "  .colab-df-quickchart:hover {\n",
              "    background-color: var(--hover-bg-color);\n",
              "    box-shadow: 0 1px 2px rgba(60, 64, 67, 0.3), 0 1px 3px 1px rgba(60, 64, 67, 0.15);\n",
              "    fill: var(--button-hover-fill-color);\n",
              "  }\n",
              "\n",
              "  .colab-df-quickchart-complete:disabled,\n",
              "  .colab-df-quickchart-complete:disabled:hover {\n",
              "    background-color: var(--disabled-bg-color);\n",
              "    fill: var(--disabled-fill-color);\n",
              "    box-shadow: none;\n",
              "  }\n",
              "\n",
              "  .colab-df-spinner {\n",
              "    border: 2px solid var(--fill-color);\n",
              "    border-color: transparent;\n",
              "    border-bottom-color: var(--fill-color);\n",
              "    animation:\n",
              "      spin 1s steps(1) infinite;\n",
              "  }\n",
              "\n",
              "  @keyframes spin {\n",
              "    0% {\n",
              "      border-color: transparent;\n",
              "      border-bottom-color: var(--fill-color);\n",
              "      border-left-color: var(--fill-color);\n",
              "    }\n",
              "    20% {\n",
              "      border-color: transparent;\n",
              "      border-left-color: var(--fill-color);\n",
              "      border-top-color: var(--fill-color);\n",
              "    }\n",
              "    30% {\n",
              "      border-color: transparent;\n",
              "      border-left-color: var(--fill-color);\n",
              "      border-top-color: var(--fill-color);\n",
              "      border-right-color: var(--fill-color);\n",
              "    }\n",
              "    40% {\n",
              "      border-color: transparent;\n",
              "      border-right-color: var(--fill-color);\n",
              "      border-top-color: var(--fill-color);\n",
              "    }\n",
              "    60% {\n",
              "      border-color: transparent;\n",
              "      border-right-color: var(--fill-color);\n",
              "    }\n",
              "    80% {\n",
              "      border-color: transparent;\n",
              "      border-right-color: var(--fill-color);\n",
              "      border-bottom-color: var(--fill-color);\n",
              "    }\n",
              "    90% {\n",
              "      border-color: transparent;\n",
              "      border-bottom-color: var(--fill-color);\n",
              "    }\n",
              "  }\n",
              "</style>\n",
              "\n",
              "  <script>\n",
              "    async function quickchart(key) {\n",
              "      const quickchartButtonEl =\n",
              "        document.querySelector('#' + key + ' button');\n",
              "      quickchartButtonEl.disabled = true;  // To prevent multiple clicks.\n",
              "      quickchartButtonEl.classList.add('colab-df-spinner');\n",
              "      try {\n",
              "        const charts = await google.colab.kernel.invokeFunction(\n",
              "            'suggestCharts', [key], {});\n",
              "      } catch (error) {\n",
              "        console.error('Error during call to suggestCharts:', error);\n",
              "      }\n",
              "      quickchartButtonEl.classList.remove('colab-df-spinner');\n",
              "      quickchartButtonEl.classList.add('colab-df-quickchart-complete');\n",
              "    }\n",
              "    (() => {\n",
              "      let quickchartButtonEl =\n",
              "        document.querySelector('#df-8d2badfa-a417-457a-afa5-3940d3c587be button');\n",
              "      quickchartButtonEl.style.display =\n",
              "        google.colab.kernel.accessAllowed ? 'block' : 'none';\n",
              "    })();\n",
              "  </script>\n",
              "</div>\n",
              "\n",
              "    </div>\n",
              "  </div>\n"
            ],
            "application/vnd.google.colaboratory.intrinsic+json": {
              "type": "dataframe",
              "variable_name": "air_quality_df",
              "summary": "{\n  \"name\": \"air_quality_df\",\n  \"rows\": 9471,\n  \"fields\": [\n    {\n      \"column\": \"Date\",\n      \"properties\": {\n        \"dtype\": \"category\",\n        \"num_unique_values\": 391,\n        \"samples\": [\n          \"19/03/2004\",\n          \"21/04/2004\",\n          \"12/04/2004\"\n        ],\n        \"semantic_type\": \"\",\n        \"description\": \"\"\n      }\n    },\n    {\n      \"column\": \"Time\",\n      \"properties\": {\n        \"dtype\": \"category\",\n        \"num_unique_values\": 24,\n        \"samples\": [\n          \"02.00.00\",\n          \"10.00.00\",\n          \"18.00.00\"\n        ],\n        \"semantic_type\": \"\",\n        \"description\": \"\"\n      }\n    },\n    {\n      \"column\": \"CO(GT)\",\n      \"properties\": {\n        \"dtype\": \"category\",\n        \"num_unique_values\": 104,\n        \"samples\": [\n          \"3,5\",\n          \"4,9\",\n          \"5,2\"\n        ],\n        \"semantic_type\": \"\",\n        \"description\": \"\"\n      }\n    },\n    {\n      \"column\": \"PT08.S1(CO)\",\n      \"properties\": {\n        \"dtype\": \"number\",\n        \"std\": 329.8327098861891,\n        \"min\": -200.0,\n        \"max\": 2040.0,\n        \"num_unique_values\": 1042,\n        \"samples\": [\n          1765.0,\n          1526.0,\n          1081.0\n        ],\n        \"semantic_type\": \"\",\n        \"description\": \"\"\n      }\n    },\n    {\n      \"column\": \"NMHC(GT)\",\n      \"properties\": {\n        \"dtype\": \"number\",\n        \"std\": 139.7890928968176,\n        \"min\": -200.0,\n        \"max\": 1189.0,\n        \"num_unique_values\": 430,\n        \"samples\": [\n          174.0,\n          92.0,\n          320.0\n        ],\n        \"semantic_type\": \"\",\n        \"description\": \"\"\n      }\n    },\n    {\n      \"column\": \"C6H6(GT)\",\n      \"properties\": {\n        \"dtype\": \"category\",\n        \"num_unique_values\": 408,\n        \"samples\": [\n          \"9,7\",\n          \"15,9\",\n          \"28,3\"\n        ],\n        \"semantic_type\": \"\",\n        \"description\": \"\"\n      }\n    },\n    {\n      \"column\": \"PT08.S2(NMHC)\",\n      \"properties\": {\n        \"dtype\": \"number\",\n        \"std\": 342.3332516496712,\n        \"min\": -200.0,\n        \"max\": 2214.0,\n        \"num_unique_values\": 1246,\n        \"samples\": [\n          616.0,\n          1128.0,\n          1889.0\n        ],\n        \"semantic_type\": \"\",\n        \"description\": \"\"\n      }\n    },\n    {\n      \"column\": \"NOx(GT)\",\n      \"properties\": {\n        \"dtype\": \"number\",\n        \"std\": 257.43386629107437,\n        \"min\": -200.0,\n        \"max\": 1479.0,\n        \"num_unique_values\": 926,\n        \"samples\": [\n          285.0,\n          580.0,\n          82.0\n        ],\n        \"semantic_type\": \"\",\n        \"description\": \"\"\n      }\n    },\n    {\n      \"column\": \"PT08.S3(NOx)\",\n      \"properties\": {\n        \"dtype\": \"number\",\n        \"std\": 321.99355160311677,\n        \"min\": -200.0,\n        \"max\": 2683.0,\n        \"num_unique_values\": 1222,\n        \"samples\": [\n          996.0,\n          618.0,\n          949.0\n        ],\n        \"semantic_type\": \"\",\n        \"description\": \"\"\n      }\n    },\n    {\n      \"column\": \"NO2(GT)\",\n      \"properties\": {\n        \"dtype\": \"number\",\n        \"std\": 126.94045525890907,\n        \"min\": -200.0,\n        \"max\": 340.0,\n        \"num_unique_values\": 284,\n        \"samples\": [\n          -200.0,\n          195.0,\n          17.0\n        ],\n        \"semantic_type\": \"\",\n        \"description\": \"\"\n      }\n    },\n    {\n      \"column\": \"PT08.S4(NO2)\",\n      \"properties\": {\n        \"dtype\": \"number\",\n        \"std\": 467.2101245570639,\n        \"min\": -200.0,\n        \"max\": 2775.0,\n        \"num_unique_values\": 1604,\n        \"samples\": [\n          1346.0,\n          2280.0,\n          1648.0\n        ],\n        \"semantic_type\": \"\",\n        \"description\": \"\"\n      }\n    },\n    {\n      \"column\": \"PT08.S5(O3)\",\n      \"properties\": {\n        \"dtype\": \"number\",\n        \"std\": 456.9381844739877,\n        \"min\": -200.0,\n        \"max\": 2523.0,\n        \"num_unique_values\": 1744,\n        \"samples\": [\n          816.0,\n          829.0,\n          639.0\n        ],\n        \"semantic_type\": \"\",\n        \"description\": \"\"\n      }\n    },\n    {\n      \"column\": \"T\",\n      \"properties\": {\n        \"dtype\": \"category\",\n        \"num_unique_values\": 437,\n        \"samples\": [\n          \"5,8\",\n          \"23,3\",\n          \"39,7\"\n        ],\n        \"semantic_type\": \"\",\n        \"description\": \"\"\n      }\n    },\n    {\n      \"column\": \"RH\",\n      \"properties\": {\n        \"dtype\": \"category\",\n        \"num_unique_values\": 754,\n        \"samples\": [\n          \"13,1\",\n          \"56,1\",\n          \"15,6\"\n        ],\n        \"semantic_type\": \"\",\n        \"description\": \"\"\n      }\n    },\n    {\n      \"column\": \"AH\",\n      \"properties\": {\n        \"dtype\": \"string\",\n        \"num_unique_values\": 6684,\n        \"samples\": [\n          \"2,1059\",\n          \"0,6898\",\n          \"1,0526\"\n        ],\n        \"semantic_type\": \"\",\n        \"description\": \"\"\n      }\n    },\n    {\n      \"column\": \"Unnamed: 15\",\n      \"properties\": {\n        \"dtype\": \"number\",\n        \"std\": null,\n        \"min\": null,\n        \"max\": null,\n        \"num_unique_values\": 0,\n        \"samples\": [],\n        \"semantic_type\": \"\",\n        \"description\": \"\"\n      }\n    },\n    {\n      \"column\": \"Unnamed: 16\",\n      \"properties\": {\n        \"dtype\": \"number\",\n        \"std\": null,\n        \"min\": null,\n        \"max\": null,\n        \"num_unique_values\": 0,\n        \"samples\": [],\n        \"semantic_type\": \"\",\n        \"description\": \"\"\n      }\n    }\n  ]\n}"
            }
          },
          "metadata": {},
          "execution_count": 13
        }
      ]
    },
    {
      "cell_type": "markdown",
      "source": [
        "## Dataset preprocessing"
      ],
      "metadata": {
        "id": "1sTpM8oGfgNV"
      }
    },
    {
      "cell_type": "code",
      "source": [
        "air_quality_df.shape"
      ],
      "metadata": {
        "colab": {
          "base_uri": "https://localhost:8080/"
        },
        "id": "Rp6w2zcseuTs",
        "outputId": "ff56ef73-72aa-4552-9e8f-9b374fd346ff"
      },
      "execution_count": 9,
      "outputs": [
        {
          "output_type": "execute_result",
          "data": {
            "text/plain": [
              "(9471, 17)"
            ]
          },
          "metadata": {},
          "execution_count": 9
        }
      ]
    },
    {
      "cell_type": "code",
      "source": [
        "air_quality_df.columns"
      ],
      "metadata": {
        "colab": {
          "base_uri": "https://localhost:8080/"
        },
        "id": "oNO71Vi-fDOs",
        "outputId": "13571b1e-7697-43c6-9328-5a39edbf9106"
      },
      "execution_count": 10,
      "outputs": [
        {
          "output_type": "execute_result",
          "data": {
            "text/plain": [
              "Index(['Date', 'Time', 'CO(GT)', 'PT08.S1(CO)', 'NMHC(GT)', 'C6H6(GT)',\n",
              "       'PT08.S2(NMHC)', 'NOx(GT)', 'PT08.S3(NOx)', 'NO2(GT)', 'PT08.S4(NO2)',\n",
              "       'PT08.S5(O3)', 'T', 'RH', 'AH', 'Unnamed: 15', 'Unnamed: 16'],\n",
              "      dtype='object')"
            ]
          },
          "metadata": {},
          "execution_count": 10
        }
      ]
    },
    {
      "cell_type": "code",
      "source": [
        "air_quality_df.info()"
      ],
      "metadata": {
        "id": "mDpdv2F2fj3W",
        "colab": {
          "base_uri": "https://localhost:8080/"
        },
        "outputId": "a4b99762-8e17-4a53-c8e6-44e6b8a5f41b"
      },
      "execution_count": 6,
      "outputs": [
        {
          "output_type": "stream",
          "name": "stdout",
          "text": [
            "<class 'pandas.core.frame.DataFrame'>\n",
            "RangeIndex: 9471 entries, 0 to 9470\n",
            "Data columns (total 17 columns):\n",
            " #   Column         Non-Null Count  Dtype  \n",
            "---  ------         --------------  -----  \n",
            " 0   Date           9357 non-null   object \n",
            " 1   Time           9357 non-null   object \n",
            " 2   CO(GT)         9357 non-null   object \n",
            " 3   PT08.S1(CO)    9357 non-null   float64\n",
            " 4   NMHC(GT)       9357 non-null   float64\n",
            " 5   C6H6(GT)       9357 non-null   object \n",
            " 6   PT08.S2(NMHC)  9357 non-null   float64\n",
            " 7   NOx(GT)        9357 non-null   float64\n",
            " 8   PT08.S3(NOx)   9357 non-null   float64\n",
            " 9   NO2(GT)        9357 non-null   float64\n",
            " 10  PT08.S4(NO2)   9357 non-null   float64\n",
            " 11  PT08.S5(O3)    9357 non-null   float64\n",
            " 12  T              9357 non-null   object \n",
            " 13  RH             9357 non-null   object \n",
            " 14  AH             9357 non-null   object \n",
            " 15  Unnamed: 15    0 non-null      float64\n",
            " 16  Unnamed: 16    0 non-null      float64\n",
            "dtypes: float64(10), object(7)\n",
            "memory usage: 1.2+ MB\n"
          ]
        }
      ]
    },
    {
      "cell_type": "code",
      "source": [
        "air_quality_df.describe()"
      ],
      "metadata": {
        "colab": {
          "base_uri": "https://localhost:8080/",
          "height": 300
        },
        "id": "53gHJK38ed6E",
        "outputId": "3c04a8cd-7e8e-4f7b-e34a-ecf2c8d15c7c"
      },
      "execution_count": 7,
      "outputs": [
        {
          "output_type": "execute_result",
          "data": {
            "text/plain": [
              "       PT08.S1(CO)     NMHC(GT)  PT08.S2(NMHC)      NOx(GT)  PT08.S3(NOx)  \\\n",
              "count  9357.000000  9357.000000    9357.000000  9357.000000   9357.000000   \n",
              "mean   1048.990061  -159.090093     894.595276   168.616971    794.990168   \n",
              "std     329.832710   139.789093     342.333252   257.433866    321.993552   \n",
              "min    -200.000000  -200.000000    -200.000000  -200.000000   -200.000000   \n",
              "25%     921.000000  -200.000000     711.000000    50.000000    637.000000   \n",
              "50%    1053.000000  -200.000000     895.000000   141.000000    794.000000   \n",
              "75%    1221.000000  -200.000000    1105.000000   284.000000    960.000000   \n",
              "max    2040.000000  1189.000000    2214.000000  1479.000000   2683.000000   \n",
              "\n",
              "           NO2(GT)  PT08.S4(NO2)  PT08.S5(O3)  Unnamed: 15  Unnamed: 16  \n",
              "count  9357.000000   9357.000000  9357.000000          0.0          0.0  \n",
              "mean     58.148873   1391.479641   975.072032          NaN          NaN  \n",
              "std     126.940455    467.210125   456.938184          NaN          NaN  \n",
              "min    -200.000000   -200.000000  -200.000000          NaN          NaN  \n",
              "25%      53.000000   1185.000000   700.000000          NaN          NaN  \n",
              "50%      96.000000   1446.000000   942.000000          NaN          NaN  \n",
              "75%     133.000000   1662.000000  1255.000000          NaN          NaN  \n",
              "max     340.000000   2775.000000  2523.000000          NaN          NaN  "
            ],
            "text/html": [
              "\n",
              "  <div id=\"df-f8f6eb0e-5aa0-431e-b7be-b0df905bd6c7\" class=\"colab-df-container\">\n",
              "    <div>\n",
              "<style scoped>\n",
              "    .dataframe tbody tr th:only-of-type {\n",
              "        vertical-align: middle;\n",
              "    }\n",
              "\n",
              "    .dataframe tbody tr th {\n",
              "        vertical-align: top;\n",
              "    }\n",
              "\n",
              "    .dataframe thead th {\n",
              "        text-align: right;\n",
              "    }\n",
              "</style>\n",
              "<table border=\"1\" class=\"dataframe\">\n",
              "  <thead>\n",
              "    <tr style=\"text-align: right;\">\n",
              "      <th></th>\n",
              "      <th>PT08.S1(CO)</th>\n",
              "      <th>NMHC(GT)</th>\n",
              "      <th>PT08.S2(NMHC)</th>\n",
              "      <th>NOx(GT)</th>\n",
              "      <th>PT08.S3(NOx)</th>\n",
              "      <th>NO2(GT)</th>\n",
              "      <th>PT08.S4(NO2)</th>\n",
              "      <th>PT08.S5(O3)</th>\n",
              "      <th>Unnamed: 15</th>\n",
              "      <th>Unnamed: 16</th>\n",
              "    </tr>\n",
              "  </thead>\n",
              "  <tbody>\n",
              "    <tr>\n",
              "      <th>count</th>\n",
              "      <td>9357.000000</td>\n",
              "      <td>9357.000000</td>\n",
              "      <td>9357.000000</td>\n",
              "      <td>9357.000000</td>\n",
              "      <td>9357.000000</td>\n",
              "      <td>9357.000000</td>\n",
              "      <td>9357.000000</td>\n",
              "      <td>9357.000000</td>\n",
              "      <td>0.0</td>\n",
              "      <td>0.0</td>\n",
              "    </tr>\n",
              "    <tr>\n",
              "      <th>mean</th>\n",
              "      <td>1048.990061</td>\n",
              "      <td>-159.090093</td>\n",
              "      <td>894.595276</td>\n",
              "      <td>168.616971</td>\n",
              "      <td>794.990168</td>\n",
              "      <td>58.148873</td>\n",
              "      <td>1391.479641</td>\n",
              "      <td>975.072032</td>\n",
              "      <td>NaN</td>\n",
              "      <td>NaN</td>\n",
              "    </tr>\n",
              "    <tr>\n",
              "      <th>std</th>\n",
              "      <td>329.832710</td>\n",
              "      <td>139.789093</td>\n",
              "      <td>342.333252</td>\n",
              "      <td>257.433866</td>\n",
              "      <td>321.993552</td>\n",
              "      <td>126.940455</td>\n",
              "      <td>467.210125</td>\n",
              "      <td>456.938184</td>\n",
              "      <td>NaN</td>\n",
              "      <td>NaN</td>\n",
              "    </tr>\n",
              "    <tr>\n",
              "      <th>min</th>\n",
              "      <td>-200.000000</td>\n",
              "      <td>-200.000000</td>\n",
              "      <td>-200.000000</td>\n",
              "      <td>-200.000000</td>\n",
              "      <td>-200.000000</td>\n",
              "      <td>-200.000000</td>\n",
              "      <td>-200.000000</td>\n",
              "      <td>-200.000000</td>\n",
              "      <td>NaN</td>\n",
              "      <td>NaN</td>\n",
              "    </tr>\n",
              "    <tr>\n",
              "      <th>25%</th>\n",
              "      <td>921.000000</td>\n",
              "      <td>-200.000000</td>\n",
              "      <td>711.000000</td>\n",
              "      <td>50.000000</td>\n",
              "      <td>637.000000</td>\n",
              "      <td>53.000000</td>\n",
              "      <td>1185.000000</td>\n",
              "      <td>700.000000</td>\n",
              "      <td>NaN</td>\n",
              "      <td>NaN</td>\n",
              "    </tr>\n",
              "    <tr>\n",
              "      <th>50%</th>\n",
              "      <td>1053.000000</td>\n",
              "      <td>-200.000000</td>\n",
              "      <td>895.000000</td>\n",
              "      <td>141.000000</td>\n",
              "      <td>794.000000</td>\n",
              "      <td>96.000000</td>\n",
              "      <td>1446.000000</td>\n",
              "      <td>942.000000</td>\n",
              "      <td>NaN</td>\n",
              "      <td>NaN</td>\n",
              "    </tr>\n",
              "    <tr>\n",
              "      <th>75%</th>\n",
              "      <td>1221.000000</td>\n",
              "      <td>-200.000000</td>\n",
              "      <td>1105.000000</td>\n",
              "      <td>284.000000</td>\n",
              "      <td>960.000000</td>\n",
              "      <td>133.000000</td>\n",
              "      <td>1662.000000</td>\n",
              "      <td>1255.000000</td>\n",
              "      <td>NaN</td>\n",
              "      <td>NaN</td>\n",
              "    </tr>\n",
              "    <tr>\n",
              "      <th>max</th>\n",
              "      <td>2040.000000</td>\n",
              "      <td>1189.000000</td>\n",
              "      <td>2214.000000</td>\n",
              "      <td>1479.000000</td>\n",
              "      <td>2683.000000</td>\n",
              "      <td>340.000000</td>\n",
              "      <td>2775.000000</td>\n",
              "      <td>2523.000000</td>\n",
              "      <td>NaN</td>\n",
              "      <td>NaN</td>\n",
              "    </tr>\n",
              "  </tbody>\n",
              "</table>\n",
              "</div>\n",
              "    <div class=\"colab-df-buttons\">\n",
              "\n",
              "  <div class=\"colab-df-container\">\n",
              "    <button class=\"colab-df-convert\" onclick=\"convertToInteractive('df-f8f6eb0e-5aa0-431e-b7be-b0df905bd6c7')\"\n",
              "            title=\"Convert this dataframe to an interactive table.\"\n",
              "            style=\"display:none;\">\n",
              "\n",
              "  <svg xmlns=\"http://www.w3.org/2000/svg\" height=\"24px\" viewBox=\"0 -960 960 960\">\n",
              "    <path d=\"M120-120v-720h720v720H120Zm60-500h600v-160H180v160Zm220 220h160v-160H400v160Zm0 220h160v-160H400v160ZM180-400h160v-160H180v160Zm440 0h160v-160H620v160ZM180-180h160v-160H180v160Zm440 0h160v-160H620v160Z\"/>\n",
              "  </svg>\n",
              "    </button>\n",
              "\n",
              "  <style>\n",
              "    .colab-df-container {\n",
              "      display:flex;\n",
              "      gap: 12px;\n",
              "    }\n",
              "\n",
              "    .colab-df-convert {\n",
              "      background-color: #E8F0FE;\n",
              "      border: none;\n",
              "      border-radius: 50%;\n",
              "      cursor: pointer;\n",
              "      display: none;\n",
              "      fill: #1967D2;\n",
              "      height: 32px;\n",
              "      padding: 0 0 0 0;\n",
              "      width: 32px;\n",
              "    }\n",
              "\n",
              "    .colab-df-convert:hover {\n",
              "      background-color: #E2EBFA;\n",
              "      box-shadow: 0px 1px 2px rgba(60, 64, 67, 0.3), 0px 1px 3px 1px rgba(60, 64, 67, 0.15);\n",
              "      fill: #174EA6;\n",
              "    }\n",
              "\n",
              "    .colab-df-buttons div {\n",
              "      margin-bottom: 4px;\n",
              "    }\n",
              "\n",
              "    [theme=dark] .colab-df-convert {\n",
              "      background-color: #3B4455;\n",
              "      fill: #D2E3FC;\n",
              "    }\n",
              "\n",
              "    [theme=dark] .colab-df-convert:hover {\n",
              "      background-color: #434B5C;\n",
              "      box-shadow: 0px 1px 3px 1px rgba(0, 0, 0, 0.15);\n",
              "      filter: drop-shadow(0px 1px 2px rgba(0, 0, 0, 0.3));\n",
              "      fill: #FFFFFF;\n",
              "    }\n",
              "  </style>\n",
              "\n",
              "    <script>\n",
              "      const buttonEl =\n",
              "        document.querySelector('#df-f8f6eb0e-5aa0-431e-b7be-b0df905bd6c7 button.colab-df-convert');\n",
              "      buttonEl.style.display =\n",
              "        google.colab.kernel.accessAllowed ? 'block' : 'none';\n",
              "\n",
              "      async function convertToInteractive(key) {\n",
              "        const element = document.querySelector('#df-f8f6eb0e-5aa0-431e-b7be-b0df905bd6c7');\n",
              "        const dataTable =\n",
              "          await google.colab.kernel.invokeFunction('convertToInteractive',\n",
              "                                                    [key], {});\n",
              "        if (!dataTable) return;\n",
              "\n",
              "        const docLinkHtml = 'Like what you see? Visit the ' +\n",
              "          '<a target=\"_blank\" href=https://colab.research.google.com/notebooks/data_table.ipynb>data table notebook</a>'\n",
              "          + ' to learn more about interactive tables.';\n",
              "        element.innerHTML = '';\n",
              "        dataTable['output_type'] = 'display_data';\n",
              "        await google.colab.output.renderOutput(dataTable, element);\n",
              "        const docLink = document.createElement('div');\n",
              "        docLink.innerHTML = docLinkHtml;\n",
              "        element.appendChild(docLink);\n",
              "      }\n",
              "    </script>\n",
              "  </div>\n",
              "\n",
              "\n",
              "<div id=\"df-49b9e6c7-a1ab-444e-b591-6f0422af7a46\">\n",
              "  <button class=\"colab-df-quickchart\" onclick=\"quickchart('df-49b9e6c7-a1ab-444e-b591-6f0422af7a46')\"\n",
              "            title=\"Suggest charts\"\n",
              "            style=\"display:none;\">\n",
              "\n",
              "<svg xmlns=\"http://www.w3.org/2000/svg\" height=\"24px\"viewBox=\"0 0 24 24\"\n",
              "     width=\"24px\">\n",
              "    <g>\n",
              "        <path d=\"M19 3H5c-1.1 0-2 .9-2 2v14c0 1.1.9 2 2 2h14c1.1 0 2-.9 2-2V5c0-1.1-.9-2-2-2zM9 17H7v-7h2v7zm4 0h-2V7h2v10zm4 0h-2v-4h2v4z\"/>\n",
              "    </g>\n",
              "</svg>\n",
              "  </button>\n",
              "\n",
              "<style>\n",
              "  .colab-df-quickchart {\n",
              "      --bg-color: #E8F0FE;\n",
              "      --fill-color: #1967D2;\n",
              "      --hover-bg-color: #E2EBFA;\n",
              "      --hover-fill-color: #174EA6;\n",
              "      --disabled-fill-color: #AAA;\n",
              "      --disabled-bg-color: #DDD;\n",
              "  }\n",
              "\n",
              "  [theme=dark] .colab-df-quickchart {\n",
              "      --bg-color: #3B4455;\n",
              "      --fill-color: #D2E3FC;\n",
              "      --hover-bg-color: #434B5C;\n",
              "      --hover-fill-color: #FFFFFF;\n",
              "      --disabled-bg-color: #3B4455;\n",
              "      --disabled-fill-color: #666;\n",
              "  }\n",
              "\n",
              "  .colab-df-quickchart {\n",
              "    background-color: var(--bg-color);\n",
              "    border: none;\n",
              "    border-radius: 50%;\n",
              "    cursor: pointer;\n",
              "    display: none;\n",
              "    fill: var(--fill-color);\n",
              "    height: 32px;\n",
              "    padding: 0;\n",
              "    width: 32px;\n",
              "  }\n",
              "\n",
              "  .colab-df-quickchart:hover {\n",
              "    background-color: var(--hover-bg-color);\n",
              "    box-shadow: 0 1px 2px rgba(60, 64, 67, 0.3), 0 1px 3px 1px rgba(60, 64, 67, 0.15);\n",
              "    fill: var(--button-hover-fill-color);\n",
              "  }\n",
              "\n",
              "  .colab-df-quickchart-complete:disabled,\n",
              "  .colab-df-quickchart-complete:disabled:hover {\n",
              "    background-color: var(--disabled-bg-color);\n",
              "    fill: var(--disabled-fill-color);\n",
              "    box-shadow: none;\n",
              "  }\n",
              "\n",
              "  .colab-df-spinner {\n",
              "    border: 2px solid var(--fill-color);\n",
              "    border-color: transparent;\n",
              "    border-bottom-color: var(--fill-color);\n",
              "    animation:\n",
              "      spin 1s steps(1) infinite;\n",
              "  }\n",
              "\n",
              "  @keyframes spin {\n",
              "    0% {\n",
              "      border-color: transparent;\n",
              "      border-bottom-color: var(--fill-color);\n",
              "      border-left-color: var(--fill-color);\n",
              "    }\n",
              "    20% {\n",
              "      border-color: transparent;\n",
              "      border-left-color: var(--fill-color);\n",
              "      border-top-color: var(--fill-color);\n",
              "    }\n",
              "    30% {\n",
              "      border-color: transparent;\n",
              "      border-left-color: var(--fill-color);\n",
              "      border-top-color: var(--fill-color);\n",
              "      border-right-color: var(--fill-color);\n",
              "    }\n",
              "    40% {\n",
              "      border-color: transparent;\n",
              "      border-right-color: var(--fill-color);\n",
              "      border-top-color: var(--fill-color);\n",
              "    }\n",
              "    60% {\n",
              "      border-color: transparent;\n",
              "      border-right-color: var(--fill-color);\n",
              "    }\n",
              "    80% {\n",
              "      border-color: transparent;\n",
              "      border-right-color: var(--fill-color);\n",
              "      border-bottom-color: var(--fill-color);\n",
              "    }\n",
              "    90% {\n",
              "      border-color: transparent;\n",
              "      border-bottom-color: var(--fill-color);\n",
              "    }\n",
              "  }\n",
              "</style>\n",
              "\n",
              "  <script>\n",
              "    async function quickchart(key) {\n",
              "      const quickchartButtonEl =\n",
              "        document.querySelector('#' + key + ' button');\n",
              "      quickchartButtonEl.disabled = true;  // To prevent multiple clicks.\n",
              "      quickchartButtonEl.classList.add('colab-df-spinner');\n",
              "      try {\n",
              "        const charts = await google.colab.kernel.invokeFunction(\n",
              "            'suggestCharts', [key], {});\n",
              "      } catch (error) {\n",
              "        console.error('Error during call to suggestCharts:', error);\n",
              "      }\n",
              "      quickchartButtonEl.classList.remove('colab-df-spinner');\n",
              "      quickchartButtonEl.classList.add('colab-df-quickchart-complete');\n",
              "    }\n",
              "    (() => {\n",
              "      let quickchartButtonEl =\n",
              "        document.querySelector('#df-49b9e6c7-a1ab-444e-b591-6f0422af7a46 button');\n",
              "      quickchartButtonEl.style.display =\n",
              "        google.colab.kernel.accessAllowed ? 'block' : 'none';\n",
              "    })();\n",
              "  </script>\n",
              "</div>\n",
              "\n",
              "    </div>\n",
              "  </div>\n"
            ],
            "application/vnd.google.colaboratory.intrinsic+json": {
              "type": "dataframe",
              "summary": "{\n  \"name\": \"air_quality_df\",\n  \"rows\": 8,\n  \"fields\": [\n    {\n      \"column\": \"PT08.S1(CO)\",\n      \"properties\": {\n        \"dtype\": \"number\",\n        \"std\": 3054.791398206689,\n        \"min\": -200.0,\n        \"max\": 9357.0,\n        \"num_unique_values\": 8,\n        \"samples\": [\n          1048.9900609169606,\n          1053.0,\n          9357.0\n        ],\n        \"semantic_type\": \"\",\n        \"description\": \"\"\n      }\n    },\n    {\n      \"column\": \"NMHC(GT)\",\n      \"properties\": {\n        \"dtype\": \"number\",\n        \"std\": 3324.066710453162,\n        \"min\": -200.0,\n        \"max\": 9357.0,\n        \"num_unique_values\": 5,\n        \"samples\": [\n          -159.09009297851875,\n          1189.0,\n          139.7890928968176\n        ],\n        \"semantic_type\": \"\",\n        \"description\": \"\"\n      }\n    },\n    {\n      \"column\": \"PT08.S2(NMHC)\",\n      \"properties\": {\n        \"dtype\": \"number\",\n        \"std\": 3084.6766989214716,\n        \"min\": -200.0,\n        \"max\": 9357.0,\n        \"num_unique_values\": 8,\n        \"samples\": [\n          894.5952762637597,\n          895.0,\n          9357.0\n        ],\n        \"semantic_type\": \"\",\n        \"description\": \"\"\n      }\n    },\n    {\n      \"column\": \"NOx(GT)\",\n      \"properties\": {\n        \"dtype\": \"number\",\n        \"std\": 3236.8566790506243,\n        \"min\": -200.0,\n        \"max\": 9357.0,\n        \"num_unique_values\": 8,\n        \"samples\": [\n          168.6169712514695,\n          141.0,\n          9357.0\n        ],\n        \"semantic_type\": \"\",\n        \"description\": \"\"\n      }\n    },\n    {\n      \"column\": \"PT08.S3(NOx)\",\n      \"properties\": {\n        \"dtype\": \"number\",\n        \"std\": 3117.6996254751425,\n        \"min\": -200.0,\n        \"max\": 9357.0,\n        \"num_unique_values\": 8,\n        \"samples\": [\n          794.9901677888212,\n          794.0,\n          9357.0\n        ],\n        \"semantic_type\": \"\",\n        \"description\": \"\"\n      }\n    },\n    {\n      \"column\": \"NO2(GT)\",\n      \"properties\": {\n        \"dtype\": \"number\",\n        \"std\": 3280.850796757821,\n        \"min\": -200.0,\n        \"max\": 9357.0,\n        \"num_unique_values\": 8,\n        \"samples\": [\n          58.14887250187026,\n          96.0,\n          9357.0\n        ],\n        \"semantic_type\": \"\",\n        \"description\": \"\"\n      }\n    },\n    {\n      \"column\": \"PT08.S4(NO2)\",\n      \"properties\": {\n        \"dtype\": \"number\",\n        \"std\": 2995.9134178278687,\n        \"min\": -200.0,\n        \"max\": 9357.0,\n        \"num_unique_values\": 8,\n        \"samples\": [\n          1391.4796409105481,\n          1446.0,\n          9357.0\n        ],\n        \"semantic_type\": \"\",\n        \"description\": \"\"\n      }\n    },\n    {\n      \"column\": \"PT08.S5(O3)\",\n      \"properties\": {\n        \"dtype\": \"number\",\n        \"std\": 3071.409028881739,\n        \"min\": -200.0,\n        \"max\": 9357.0,\n        \"num_unique_values\": 8,\n        \"samples\": [\n          975.0720316340708,\n          942.0,\n          9357.0\n        ],\n        \"semantic_type\": \"\",\n        \"description\": \"\"\n      }\n    },\n    {\n      \"column\": \"Unnamed: 15\",\n      \"properties\": {\n        \"dtype\": \"number\",\n        \"std\": null,\n        \"min\": 0.0,\n        \"max\": 0.0,\n        \"num_unique_values\": 1,\n        \"samples\": [\n          0.0\n        ],\n        \"semantic_type\": \"\",\n        \"description\": \"\"\n      }\n    },\n    {\n      \"column\": \"Unnamed: 16\",\n      \"properties\": {\n        \"dtype\": \"number\",\n        \"std\": null,\n        \"min\": 0.0,\n        \"max\": 0.0,\n        \"num_unique_values\": 1,\n        \"samples\": [\n          0.0\n        ],\n        \"semantic_type\": \"\",\n        \"description\": \"\"\n      }\n    }\n  ]\n}"
            }
          },
          "metadata": {},
          "execution_count": 7
        }
      ]
    },
    {
      "cell_type": "code",
      "source": [
        "air_quality_df.isnull().sum()"
      ],
      "metadata": {
        "colab": {
          "base_uri": "https://localhost:8080/",
          "height": 617
        },
        "id": "NJHl1_lberRk",
        "outputId": "1ec160c7-2c92-4c9f-e2c0-1b2afe284cf0"
      },
      "execution_count": 8,
      "outputs": [
        {
          "output_type": "execute_result",
          "data": {
            "text/plain": [
              "Date              114\n",
              "Time              114\n",
              "CO(GT)            114\n",
              "PT08.S1(CO)       114\n",
              "NMHC(GT)          114\n",
              "C6H6(GT)          114\n",
              "PT08.S2(NMHC)     114\n",
              "NOx(GT)           114\n",
              "PT08.S3(NOx)      114\n",
              "NO2(GT)           114\n",
              "PT08.S4(NO2)      114\n",
              "PT08.S5(O3)       114\n",
              "T                 114\n",
              "RH                114\n",
              "AH                114\n",
              "Unnamed: 15      9471\n",
              "Unnamed: 16      9471\n",
              "dtype: int64"
            ],
            "text/html": [
              "<div>\n",
              "<style scoped>\n",
              "    .dataframe tbody tr th:only-of-type {\n",
              "        vertical-align: middle;\n",
              "    }\n",
              "\n",
              "    .dataframe tbody tr th {\n",
              "        vertical-align: top;\n",
              "    }\n",
              "\n",
              "    .dataframe thead th {\n",
              "        text-align: right;\n",
              "    }\n",
              "</style>\n",
              "<table border=\"1\" class=\"dataframe\">\n",
              "  <thead>\n",
              "    <tr style=\"text-align: right;\">\n",
              "      <th></th>\n",
              "      <th>0</th>\n",
              "    </tr>\n",
              "  </thead>\n",
              "  <tbody>\n",
              "    <tr>\n",
              "      <th>Date</th>\n",
              "      <td>114</td>\n",
              "    </tr>\n",
              "    <tr>\n",
              "      <th>Time</th>\n",
              "      <td>114</td>\n",
              "    </tr>\n",
              "    <tr>\n",
              "      <th>CO(GT)</th>\n",
              "      <td>114</td>\n",
              "    </tr>\n",
              "    <tr>\n",
              "      <th>PT08.S1(CO)</th>\n",
              "      <td>114</td>\n",
              "    </tr>\n",
              "    <tr>\n",
              "      <th>NMHC(GT)</th>\n",
              "      <td>114</td>\n",
              "    </tr>\n",
              "    <tr>\n",
              "      <th>C6H6(GT)</th>\n",
              "      <td>114</td>\n",
              "    </tr>\n",
              "    <tr>\n",
              "      <th>PT08.S2(NMHC)</th>\n",
              "      <td>114</td>\n",
              "    </tr>\n",
              "    <tr>\n",
              "      <th>NOx(GT)</th>\n",
              "      <td>114</td>\n",
              "    </tr>\n",
              "    <tr>\n",
              "      <th>PT08.S3(NOx)</th>\n",
              "      <td>114</td>\n",
              "    </tr>\n",
              "    <tr>\n",
              "      <th>NO2(GT)</th>\n",
              "      <td>114</td>\n",
              "    </tr>\n",
              "    <tr>\n",
              "      <th>PT08.S4(NO2)</th>\n",
              "      <td>114</td>\n",
              "    </tr>\n",
              "    <tr>\n",
              "      <th>PT08.S5(O3)</th>\n",
              "      <td>114</td>\n",
              "    </tr>\n",
              "    <tr>\n",
              "      <th>T</th>\n",
              "      <td>114</td>\n",
              "    </tr>\n",
              "    <tr>\n",
              "      <th>RH</th>\n",
              "      <td>114</td>\n",
              "    </tr>\n",
              "    <tr>\n",
              "      <th>AH</th>\n",
              "      <td>114</td>\n",
              "    </tr>\n",
              "    <tr>\n",
              "      <th>Unnamed: 15</th>\n",
              "      <td>9471</td>\n",
              "    </tr>\n",
              "    <tr>\n",
              "      <th>Unnamed: 16</th>\n",
              "      <td>9471</td>\n",
              "    </tr>\n",
              "  </tbody>\n",
              "</table>\n",
              "</div><br><label><b>dtype:</b> int64</label>"
            ]
          },
          "metadata": {},
          "execution_count": 8
        }
      ]
    },
    {
      "cell_type": "markdown",
      "source": [
        "### Handling missing values"
      ],
      "metadata": {
        "id": "y1gsZQc4sYgJ"
      }
    },
    {
      "cell_type": "code",
      "source": [
        "# Drop unnecessary columns\n",
        "air_quality_df = air_quality_df.drop(columns=['Unnamed: 15', 'Unnamed: 16'])"
      ],
      "metadata": {
        "id": "VB0ozTsPs4ER"
      },
      "execution_count": 15,
      "outputs": []
    },
    {
      "cell_type": "code",
      "source": [
        "# Fill missing numeric values with the column mean\n",
        "air_quality_df = air_quality_df.fillna(air_quality_df.mean())"
      ],
      "metadata": {
        "colab": {
          "base_uri": "https://localhost:8080/",
          "height": 395
        },
        "id": "a70339GaseNx",
        "outputId": "7b95e013-aaa3-4be4-9ccf-a82f9ef7db1c"
      },
      "execution_count": 19,
      "outputs": [
        {
          "output_type": "error",
          "ename": "TypeError",
          "evalue": "Could not convert ['10/03/200410/03/200410/03/200410/03/200410/03/200410/03/200411/03/200411/03/200411/03/200411/03/200411/03/200411/03/200411/03/200411/03/200411/03/200411/03/200411/03/200411/03/200411/03/200411/03/200411/03/200411/03/200411/03/200411/03/200411/03/200411/03/200411/03/200411/03/200411/03/200411/03/200412/03/200412/03/200412/03/200412/03/200412/03/200412/03/200412/03/200412/03/200412/03/200412/03/200412/03/200412/03/200412/03/200412/03/200412/03/200412/03/200412/03/200412/03/200412/03/200412/03/200412/03/200412/03/200412/03/200412/03/200413/03/200413/03/200413/03/200413/03/200413/03/200413/03/200413/03/200413/03/200413/03/200413/03/200413/03/200413/03/200413/03/200413/03/200413/03/200413/03/200413/03/200413/03/200413/03/200413/03/200413/03/200413/03/200413/03/200413/03/200414/03/200414/03/200414/03/200414/03/200414/03/200414/03/200414/03/200414/03/200414/03/200414/03/200414/03/200414/03/200414/03/200414/03/200414/03/200414/03/200414/03/200414/03/200414/03/200414/03/200414/03/200414/03/200414/03/200414/03/200415/03/200415/03/200415/03/200415/03/200415/03/200415/03/200415/03/200415/03/200415/03/200415/03/200415/03/200415/03/200415/03/200415/03/200415/03/200415/03/200415/03/200415/03/200415/03/200415/03/200415/03/200415/03/200415/03/200415/03/200416/03/200416/03/200416/03/200416/03/200416/03/200416/03/200416/03/200416/03/200416/03/200416/03/200416/03/200416/03/200416/03/200416/03/200416/03/200416/03/200416/03/200416/03/200416/03/200416/03/200416/03/200416/03/200416/03/200416/03/200417/03/200417/03/200417/03/200417/03/200417/03/200417/03/200417/03/200417/03/200417/03/200417/03/200417/03/200417/03/200417/03/200417/03/200417/03/200417/03/200417/03/200417/03/200417/03/200417/03/200417/03/200417/03/200417/03/200417/03/200418/03/200418/03/200418/03/200418/03/200418/03/200418/03/200418/03/200418/03/200418/03/200418/03/200418/03/200418/03/200418/03/200418/03/200418/03/200418/03/200418/03/200418/03/200418/03/200418/03/200418/03/200418/03/200418/03/200418/03/200419/03/200419/03/200419/03/200419/03/200419/03/200419/03/200419/03/200419/03/200419/03/200419/03/200419/03/200419/03/200419/03/200419/03/200419/03/200419/03/200419/03/200419/03/200419/03/200419/03/200419/03/200419/03/200419/03/200419/03/200420/03/200420/03/200420/03/200420/03/200420/03/200420/03/200420/03/200420/03/200420/03/200420/03/200420/03/200420/03/200420/03/200420/03/200420/03/200420/03/200420/03/200420/03/200420/03/200420/03/200420/03/200420/03/200420/03/200420/03/200421/03/200421/03/200421/03/200421/03/200421/03/200421/03/200421/03/200421/03/200421/03/200421/03/200421/03/200421/03/200421/03/200421/03/200421/03/200421/03/200421/03/200421/03/200421/03/200421/03/200421/03/200421/03/200421/03/200421/03/200422/03/200422/03/200422/03/200422/03/200422/03/200422/03/200422/03/200422/03/200422/03/200422/03/200422/03/200422/03/200422/03/200422/03/200422/03/200422/03/200422/03/200422/03/200422/03/200422/03/200422/03/200422/03/200422/03/200422/03/200423/03/200423/03/200423/03/200423/03/200423/03/200423/03/200423/03/200423/03/200423/03/200423/03/200423/03/200423/03/200423/03/200423/03/200423/03/200423/03/200423/03/200423/03/200423/03/200423/03/200423/03/200423/03/200423/03/200423/03/200424/03/200424/03/200424/03/200424/03/200424/03/200424/03/200424/03/200424/03/200424/03/200424/03/200424/03/200424/03/200424/03/200424/03/200424/03/200424/03/200424/03/200424/03/200424/03/200424/03/200424/03/200424/03/200424/03/200424/03/200425/03/200425/03/200425/03/200425/03/200425/03/200425/03/200425/03/200425/03/200425/03/200425/03/200425/03/200425/03/200425/03/200425/03/200425/03/200425/03/200425/03/200425/03/200425/03/200425/03/200425/03/200425/03/200425/03/200425/03/200426/03/200426/03/200426/03/200426/03/200426/03/200426/03/200426/03/200426/03/200426/03/200426/03/200426/03/200426/03/200426/03/200426/03/200426/03/200426/03/200426/03/200426/03/200426/03/200426/03/200426/03/200426/03/200426/03/200426/03/200427/03/200427/03/200427/03/200427/03/200427/03/200427/03/200427/03/200427/03/200427/03/200427/03/200427/03/200427/03/200427/03/200427/03/200427/03/200427/03/200427/03/200427/03/200427/03/200427/03/200427/03/200427/03/200427/03/200427/03/200428/03/200428/03/200428/03/200428/03/200428/03/200428/03/200428/03/200428/03/200428/03/200428/03/200428/03/200428/03/200428/03/200428/03/200428/03/200428/03/200428/03/200428/03/200428/03/200428/03/200428/03/200428/03/200428/03/200428/03/200429/03/200429/03/200429/03/200429/03/200429/03/200429/03/200429/03/200429/03/200429/03/200429/03/200429/03/200429/03/200429/03/200429/03/200429/03/200429/03/200429/03/200429/03/200429/03/200429/03/200429/03/200429/03/200429/03/200429/03/200430/03/200430/03/200430/03/200430/03/200430/03/200430/03/200430/03/200430/03/200430/03/200430/03/200430/03/200430/03/200430/03/200430/03/200430/03/200430/03/200430/03/200430/03/200430/03/200430/03/200430/03/200430/03/200430/03/200430/03/200431/03/200431/03/200431/03/200431/03/200431/03/200431/03/200431/03/200431/03/200431/03/200431/03/200431/03/200431/03/200431/03/200431/03/200431/03/200431/03/200431/03/200431/03/200431/03/200431/03/200431/03/200431/03/200431/03/200431/03/200401/04/200401/04/200401/04/200401/04/200401/04/200401/04/200401/04/200401/04/200401/04/200401/04/200401/04/200401/04/200401/04/200401/04/200401/04/200401/04/200401/04/200401/04/200401/04/200401/04/200401/04/200401/04/200401/04/200401/04/200402/04/200402/04/200402/04/200402/04/200402/04/200402/04/200402/04/200402/04/200402/04/200402/04/200402/04/200402/04/200402/04/200402/04/200402/04/200402/04/200402/04/200402/04/200402/04/200402/04/200402/04/200402/04/200402/04/200402/04/200403/04/200403/04/200403/04/200403/04/200403/04/200403/04/200403/04/200403/04/200403/04/200403/04/200403/04/200403/04/200403/04/200403/04/200403/04/200403/04/200403/04/200403/04/200403/04/200403/04/200403/04/200403/04/200403/04/200403/04/200404/04/200404/04/200404/04/200404/04/200404/04/200404/04/200404/04/200404/04/200404/04/200404/04/200404/04/200404/04/200404/04/200404/04/200404/04/200404/04/200404/04/200404/04/200404/04/200404/04/200404/04/200404/04/200404/04/200404/04/200405/04/200405/04/200405/04/200405/04/200405/04/200405/04/200405/04/200405/04/200405/04/200405/04/200405/04/200405/04/200405/04/200405/04/200405/04/200405/04/200405/04/200405/04/200405/04/200405/04/200405/04/200405/04/200405/04/200405/04/200406/04/200406/04/200406/04/200406/04/200406/04/200406/04/200406/04/200406/04/200406/04/200406/04/200406/04/200406/04/200406/04/200406/04/200406/04/200406/04/200406/04/200406/04/200406/04/200406/04/200406/04/200406/04/200406/04/200406/04/200407/04/200407/04/200407/04/200407/04/200407/04/200407/04/200407/04/200407/04/200407/04/200407/04/200407/04/200407/04/200407/04/200407/04/200407/04/200407/04/200407/04/200407/04/200407/04/200407/04/200407/04/200407/04/200407/04/200407/04/200408/04/200408/04/200408/04/200408/04/200408/04/200408/04/200408/04/200408/04/200408/04/200408/04/200408/04/200408/04/200408/04/200408/04/200408/04/200408/04/200408/04/200408/04/200408/04/200408/04/200408/04/200408/04/200408/04/200408/04/200409/04/200409/04/200409/04/200409/04/200409/04/200409/04/200409/04/200409/04/200409/04/200409/04/200409/04/200409/04/200409/04/200409/04/200409/04/200409/04/200409/04/200409/04/200409/04/200409/04/200409/04/200409/04/200409/04/200409/04/200410/04/200410/04/200410/04/200410/04/200410/04/200410/04/200410/04/200410/04/200410/04/200410/04/200410/04/200410/04/200410/04/200410/04/200410/04/200410/04/200410/04/200410/04/200410/04/200410/04/200410/04/200410/04/200410/04/200410/04/200411/04/200411/04/200411/04/200411/04/200411/04/200411/04/200411/04/200411/04/200411/04/200411/04/200411/04/200411/04/200411/04/200411/04/200411/04/200411/04/200411/04/200411/04/200411/04/200411/04/200411/04/200411/04/200411/04/200411/04/200412/04/200412/04/200412/04/200412/04/200412/04/200412/04/200412/04/200412/04/200412/04/200412/04/200412/04/200412/04/200412/04/200412/04/200412/04/200412/04/200412/04/200412/04/200412/04/200412/04/200412/04/200412/04/200412/04/200412/04/200413/04/200413/04/200413/04/200413/04/200413/04/200413/04/200413/04/200413/04/200413/04/200413/04/200413/04/200413/04/200413/04/200413/04/200413/04/200413/04/200413/04/200413/04/200413/04/200413/04/200413/04/200413/04/200413/04/200413/04/200414/04/200414/04/200414/04/200414/04/200414/04/200414/04/200414/04/200414/04/200414/04/200414/04/200414/04/200414/04/200414/04/200414/04/200414/04/200414/04/200414/04/200414/04/200414/04/200414/04/200414/04/200414/04/200414/04/200414/04/200415/04/200415/04/200415/04/200415/04/200415/04/200415/04/200415/04/200415/04/200415/04/200415/04/200415/04/200415/04/200415/04/200415/04/200415/04/200415/04/200415/04/200415/04/200415/04/200415/04/200415/04/200415/04/200415/04/200415/04/200416/04/200416/04/200416/04/200416/04/200416/04/200416/04/200416/04/200416/04/200416/04/200416/04/200416/04/200416/04/200416/04/200416/04/200416/04/200416/04/200416/04/200416/04/200416/04/200416/04/200416/04/200416/04/200416/04/200416/04/200417/04/200417/04/200417/04/200417/04/200417/04/200417/04/200417/04/200417/04/200417/04/200417/04/200417/04/200417/04/200417/04/200417/04/200417/04/200417/04/200417/04/200417/04/200417/04/200417/04/200417/04/200417/04/200417/04/200417/04/200418/04/200418/04/200418/04/200418/04/200418/04/200418/04/200418/04/200418/04/200418/04/200418/04/200418/04/200418/04/200418/04/200418/04/200418/04/200418/04/200418/04/200418/04/200418/04/200418/04/200418/04/200418/04/200418/04/200418/04/200419/04/200419/04/200419/04/200419/04/200419/04/200419/04/200419/04/200419/04/200419/04/200419/04/200419/04/200419/04/200419/04/200419/04/200419/04/200419/04/200419/04/200419/04/200419/04/200419/04/200419/04/200419/04/200419/04/200419/04/200420/04/200420/04/200420/04/200420/04/200420/04/200420/04/200420/04/200420/04/200420/04/200420/04/200420/04/200420/04/200420/04/200420/04/200420/04/200420/04/200420/04/200420/04/200420/04/200420/04/200420/04/200420/04/200420/04/200420/04/200421/04/200421/04/200421/04/200421/04/200421/04/200421/04/200421/04/200421/04/200421/04/200421/04/200421/04/200421/04/200421/04/200421/04/200421/04/200421/04/200421/04/200421/04/200421/04/200421/04/200421/04/200421/04/200421/04/200421/04/200422/04/200422/04/200422/04/200422/04/200422/04/200422/04/200422/04/200422/04/200422/04/200422/04/200422/04/200422/04/200422/04/200422/04/200422/04/200422/04/200422/04/200422/04/200422/04/200422/04/200422/04/200422/04/200422/04/200422/04/200423/04/200423/04/200423/04/200423/04/200423/04/200423/04/200423/04/200423/04/200423/04/200423/04/200423/04/200423/04/200423/04/200423/04/200423/04/200423/04/200423/04/200423/04/200423/04/200423/04/200423/04/200423/04/200423/04/200423/04/200424/04/200424/04/200424/04/200424/04/200424/04/200424/04/200424/04/200424/04/200424/04/200424/04/200424/04/200424/04/200424/04/200424/04/200424/04/200424/04/200424/04/200424/04/200424/04/200424/04/200424/04/200424/04/200424/04/200424/04/200425/04/200425/04/200425/04/200425/04/200425/04/200425/04/200425/04/200425/04/200425/04/200425/04/200425/04/200425/04/200425/04/200425/04/200425/04/200425/04/200425/04/200425/04/200425/04/200425/04/200425/04/200425/04/200425/04/200425/04/200426/04/200426/04/200426/04/200426/04/200426/04/200426/04/200426/04/200426/04/200426/04/200426/04/200426/04/200426/04/200426/04/200426/04/200426/04/200426/04/200426/04/200426/04/200426/04/200426/04/200426/04/200426/04/200426/04/200426/04/200427/04/200427/04/200427/04/200427/04/200427/04/200427/04/200427/04/200427/04/200427/04/200427/04/200427/04/200427/04/200427/04/200427/04/200427/04/200427/04/200427/04/200427/04/200427/04/200427/04/200427/04/200427/04/200427/04/200427/04/200428/04/200428/04/200428/04/200428/04/200428/04/200428/04/200428/04/200428/04/200428/04/200428/04/200428/04/200428/04/200428/04/200428/04/200428/04/200428/04/200428/04/200428/04/200428/04/200428/04/200428/04/200428/04/200428/04/200428/04/200429/04/200429/04/200429/04/200429/04/200429/04/200429/04/200429/04/200429/04/200429/04/200429/04/200429/04/200429/04/200429/04/200429/04/200429/04/200429/04/200429/04/200429/04/200429/04/200429/04/200429/04/200429/04/200429/04/200429/04/200430/04/200430/04/200430/04/200430/04/200430/04/200430/04/200430/04/200430/04/200430/04/200430/04/200430/04/200430/04/200430/04/200430/04/200430/04/200430/04/200430/04/200430/04/200430/04/200430/04/200430/04/200430/04/200430/04/200430/04/200401/05/200401/05/200401/05/200401/05/200401/05/200401/05/200401/05/200401/05/200401/05/200401/05/200401/05/200401/05/200401/05/200401/05/200401/05/200401/05/200401/05/200401/05/200401/05/200401/05/200401/05/200401/05/200401/05/200401/05/200402/05/200402/05/200402/05/200402/05/200402/05/200402/05/200402/05/200402/05/200402/05/200402/05/200402/05/200402/05/200402/05/200402/05/200402/05/200402/05/200402/05/200402/05/200402/05/200402/05/200402/05/200402/05/200402/05/200402/05/200403/05/200403/05/200403/05/200403/05/200403/05/200403/05/200403/05/200403/05/200403/05/200403/05/200403/05/200403/05/200403/05/200403/05/200403/05/200403/05/200403/05/200403/05/200403/05/200403/05/200403/05/200403/05/200403/05/200403/05/200404/05/200404/05/200404/05/200404/05/200404/05/200404/05/200404/05/200404/05/200404/05/200404/05/200404/05/200404/05/200404/05/200404/05/200404/05/200404/05/200404/05/200404/05/200404/05/200404/05/200404/05/200404/05/200404/05/200404/05/200405/05/200405/05/200405/05/200405/05/200405/05/200405/05/200405/05/200405/05/200405/05/200405/05/200405/05/200405/05/200405/05/200405/05/200405/05/200405/05/200405/05/200405/05/200405/05/200405/05/200405/05/200405/05/200405/05/200405/05/200406/05/200406/05/200406/05/200406/05/200406/05/200406/05/200406/05/200406/05/200406/05/200406/05/200406/05/200406/05/200406/05/200406/05/200406/05/200406/05/200406/05/200406/05/200406/05/200406/05/200406/05/200406/05/200406/05/200406/05/200407/05/200407/05/200407/05/200407/05/200407/05/200407/05/200407/05/200407/05/200407/05/200407/05/200407/05/200407/05/200407/05/200407/05/200407/05/200407/05/200407/05/200407/05/200407/05/200407/05/200407/05/200407/05/200407/05/200407/05/200408/05/200408/05/200408/05/200408/05/200408/05/200408/05/200408/05/200408/05/200408/05/200408/05/200408/05/200408/05/200408/05/200408/05/200408/05/200408/05/200408/05/200408/05/200408/05/200408/05/200408/05/200408/05/200408/05/200408/05/200409/05/200409/05/200409/05/200409/05/200409/05/200409/05/200409/05/200409/05/200409/05/200409/05/200409/05/200409/05/200409/05/200409/05/200409/05/200409/05/200409/05/200409/05/200409/05/200409/05/200409/05/200409/05/200409/05/200409/05/200410/05/200410/05/200410/05/200410/05/200410/05/200410/05/200410/05/200410/05/200410/05/200410/05/200410/05/200410/05/200410/05/200410/05/200410/05/200410/05/200410/05/200410/05/200410/05/200410/05/200410/05/200410/05/200410/05/200410/05/200411/05/200411/05/200411/05/200411/05/200411/05/200411/05/200411/05/200411/05/200411/05/200411/05/200411/05/200411/05/200411/05/200411/05/200411/05/200411/05/200411/05/200411/05/200411/05/200411/05/200411/05/200411/05/200411/05/200411/05/200412/05/200412/05/200412/05/200412/05/200412/05/200412/05/200412/05/200412/05/200412/05/200412/05/200412/05/200412/05/200412/05/200412/05/200412/05/200412/05/200412/05/200412/05/200412/05/200412/05/200412/05/200412/05/200412/05/200412/05/200413/05/200413/05/200413/05/200413/05/200413/05/200413/05/200413/05/200413/05/200413/05/200413/05/200413/05/200413/05/200413/05/200413/05/200413/05/200413/05/200413/05/200413/05/200413/05/200413/05/200413/05/200413/05/200413/05/200413/05/200414/05/200414/05/200414/05/200414/05/200414/05/200414/05/200414/05/200414/05/200414/05/200414/05/200414/05/200414/05/200414/05/200414/05/200414/05/200414/05/200414/05/200414/05/200414/05/200414/05/200414/05/200414/05/200414/05/200414/05/200415/05/200415/05/200415/05/200415/05/200415/05/200415/05/200415/05/200415/05/200415/05/200415/05/200415/05/200415/05/200415/05/200415/05/200415/05/200415/05/200415/05/200415/05/200415/05/200415/05/200415/05/200415/05/200415/05/200415/05/200416/05/200416/05/200416/05/200416/05/200416/05/200416/05/200416/05/200416/05/200416/05/200416/05/200416/05/200416/05/200416/05/200416/05/200416/05/200416/05/200416/05/200416/05/200416/05/200416/05/200416/05/200416/05/200416/05/200416/05/200417/05/200417/05/200417/05/200417/05/200417/05/200417/05/200417/05/200417/05/200417/05/200417/05/200417/05/200417/05/200417/05/200417/05/200417/05/200417/05/200417/05/200417/05/200417/05/200417/05/200417/05/200417/05/200417/05/200417/05/200418/05/200418/05/200418/05/200418/05/200418/05/200418/05/200418/05/200418/05/200418/05/200418/05/200418/05/200418/05/200418/05/200418/05/200418/05/200418/05/200418/05/200418/05/200418/05/200418/05/200418/05/200418/05/200418/05/200418/05/200419/05/200419/05/200419/05/200419/05/200419/05/200419/05/200419/05/200419/05/200419/05/200419/05/200419/05/200419/05/200419/05/200419/05/200419/05/200419/05/200419/05/200419/05/200419/05/200419/05/200419/05/200419/05/200419/05/200419/05/200420/05/200420/05/200420/05/200420/05/200420/05/200420/05/200420/05/200420/05/200420/05/200420/05/200420/05/200420/05/200420/05/200420/05/200420/05/200420/05/200420/05/200420/05/200420/05/200420/05/200420/05/200420/05/200420/05/200420/05/200421/05/200421/05/200421/05/200421/05/200421/05/200421/05/200421/05/200421/05/200421/05/200421/05/200421/05/200421/05/200421/05/200421/05/200421/05/200421/05/200421/05/200421/05/200421/05/200421/05/200421/05/200421/05/200421/05/200421/05/200422/05/200422/05/200422/05/200422/05/200422/05/200422/05/200422/05/200422/05/200422/05/200422/05/200422/05/200422/05/200422/05/200422/05/200422/05/200422/05/200422/05/200422/05/200422/05/200422/05/200422/05/200422/05/200422/05/200422/05/200423/05/200423/05/200423/05/200423/05/200423/05/200423/05/200423/05/200423/05/200423/05/200423/05/200423/05/200423/05/200423/05/200423/05/200423/05/200423/05/200423/05/200423/05/200423/05/200423/05/200423/05/200423/05/200423/05/200423/05/200424/05/200424/05/200424/05/200424/05/200424/05/200424/05/200424/05/200424/05/200424/05/200424/05/200424/05/200424/05/200424/05/200424/05/200424/05/200424/05/200424/05/200424/05/200424/05/200424/05/200424/05/200424/05/200424/05/200424/05/200425/05/200425/05/200425/05/200425/05/200425/05/200425/05/200425/05/200425/05/200425/05/200425/05/200425/05/200425/05/200425/05/200425/05/200425/05/200425/05/200425/05/200425/05/200425/05/200425/05/200425/05/200425/05/200425/05/200425/05/200426/05/200426/05/200426/05/200426/05/200426/05/200426/05/200426/05/200426/05/200426/05/200426/05/200426/05/200426/05/200426/05/200426/05/200426/05/200426/05/200426/05/200426/05/200426/05/200426/05/200426/05/200426/05/200426/05/200426/05/200427/05/200427/05/200427/05/200427/05/200427/05/200427/05/200427/05/200427/05/200427/05/200427/05/200427/05/200427/05/200427/05/200427/05/200427/05/200427/05/200427/05/200427/05/200427/05/200427/05/200427/05/200427/05/200427/05/200427/05/200428/05/200428/05/200428/05/200428/05/200428/05/200428/05/200428/05/200428/05/200428/05/200428/05/200428/05/200428/05/200428/05/200428/05/200428/05/200428/05/200428/05/200428/05/200428/05/200428/05/200428/05/200428/05/200428/05/200428/05/200429/05/200429/05/200429/05/200429/05/200429/05/200429/05/200429/05/200429/05/200429/05/200429/05/200429/05/200429/05/200429/05/200429/05/200429/05/200429/05/200429/05/200429/05/200429/05/200429/05/200429/05/200429/05/200429/05/200429/05/200430/05/200430/05/200430/05/200430/05/200430/05/200430/05/200430/05/200430/05/200430/05/200430/05/200430/05/200430/05/200430/05/200430/05/200430/05/200430/05/200430/05/200430/05/200430/05/200430/05/200430/05/200430/05/200430/05/200430/05/200431/05/200431/05/200431/05/200431/05/200431/05/200431/05/200431/05/200431/05/200431/05/200431/05/200431/05/200431/05/200431/05/200431/05/200431/05/200431/05/200431/05/200431/05/200431/05/200431/05/200431/05/200431/05/200431/05/200431/05/200401/06/200401/06/200401/06/200401/06/200401/06/200401/06/200401/06/200401/06/200401/06/200401/06/200401/06/200401/06/200401/06/200401/06/200401/06/200401/06/200401/06/200401/06/200401/06/200401/06/200401/06/200401/06/200401/06/200401/06/200402/06/200402/06/200402/06/200402/06/200402/06/200402/06/200402/06/200402/06/200402/06/200402/06/200402/06/200402/06/200402/06/200402/06/200402/06/200402/06/200402/06/200402/06/200402/06/200402/06/200402/06/200402/06/200402/06/200402/06/200403/06/200403/06/200403/06/200403/06/200403/06/200403/06/200403/06/200403/06/200403/06/200403/06/200403/06/200403/06/200403/06/200403/06/200403/06/200403/06/200403/06/200403/06/200403/06/200403/06/200403/06/200403/06/200403/06/200403/06/200404/06/200404/06/200404/06/200404/06/200404/06/200404/06/200404/06/200404/06/200404/06/200404/06/200404/06/200404/06/200404/06/200404/06/200404/06/200404/06/200404/06/200404/06/200404/06/200404/06/200404/06/200404/06/200404/06/200404/06/200405/06/200405/06/200405/06/200405/06/200405/06/200405/06/200405/06/200405/06/200405/06/200405/06/200405/06/200405/06/200405/06/200405/06/200405/06/200405/06/200405/06/200405/06/200405/06/200405/06/200405/06/200405/06/200405/06/200405/06/200406/06/200406/06/200406/06/200406/06/200406/06/200406/06/200406/06/200406/06/200406/06/200406/06/200406/06/200406/06/200406/06/200406/06/200406/06/200406/06/200406/06/200406/06/200406/06/200406/06/200406/06/200406/06/200406/06/200406/06/200407/06/200407/06/200407/06/200407/06/200407/06/200407/06/200407/06/200407/06/200407/06/200407/06/200407/06/200407/06/200407/06/200407/06/200407/06/200407/06/200407/06/200407/06/200407/06/200407/06/200407/06/200407/06/200407/06/200407/06/200408/06/200408/06/200408/06/200408/06/200408/06/200408/06/200408/06/200408/06/200408/06/200408/06/200408/06/200408/06/200408/06/200408/06/200408/06/200408/06/200408/06/200408/06/200408/06/200408/06/200408/06/200408/06/200408/06/200408/06/200409/06/200409/06/200409/06/200409/06/200409/06/200409/06/200409/06/200409/06/200409/06/200409/06/200409/06/200409/06/200409/06/200409/06/200409/06/200409/06/200409/06/200409/06/200409/06/200409/06/200409/06/200409/06/200409/06/200409/06/200410/06/200410/06/200410/06/200410/06/200410/06/200410/06/200410/06/200410/06/200410/06/200410/06/200410/06/200410/06/200410/06/200410/06/200410/06/200410/06/200410/06/200410/06/200410/06/200410/06/200410/06/200410/06/200410/06/200410/06/200411/06/200411/06/200411/06/200411/06/200411/06/200411/06/200411/06/200411/06/200411/06/200411/06/200411/06/200411/06/200411/06/200411/06/200411/06/200411/06/200411/06/200411/06/200411/06/200411/06/200411/06/200411/06/200411/06/200411/06/200412/06/200412/06/200412/06/200412/06/200412/06/200412/06/200412/06/200412/06/200412/06/200412/06/200412/06/200412/06/200412/06/200412/06/200412/06/200412/06/200412/06/200412/06/200412/06/200412/06/200412/06/200412/06/200412/06/200412/06/200413/06/200413/06/200413/06/200413/06/200413/06/200413/06/200413/06/200413/06/200413/06/200413/06/200413/06/200413/06/200413/06/200413/06/200413/06/200413/06/200413/06/200413/06/200413/06/200413/06/200413/06/200413/06/200413/06/200413/06/200414/06/200414/06/200414/06/200414/06/200414/06/200414/06/200414/06/200414/06/200414/06/200414/06/200414/06/200414/06/200414/06/200414/06/200414/06/200414/06/200414/06/200414/06/200414/06/200414/06/200414/06/200414/06/200414/06/200414/06/200415/06/200415/06/200415/06/200415/06/200415/06/200415/06/200415/06/200415/06/200415/06/200415/06/200415/06/200415/06/200415/06/200415/06/200415/06/200415/06/200415/06/200415/06/200415/06/200415/06/200415/06/200415/06/200415/06/200415/06/200416/06/200416/06/200416/06/200416/06/200416/06/200416/06/200416/06/200416/06/200416/06/200416/06/200416/06/200416/06/200416/06/200416/06/200416/06/200416/06/200416/06/200416/06/200416/06/200416/06/200416/06/200416/06/200416/06/200416/06/200417/06/200417/06/200417/06/200417/06/200417/06/200417/06/200417/06/200417/06/200417/06/200417/06/200417/06/200417/06/200417/06/200417/06/200417/06/200417/06/200417/06/200417/06/200417/06/200417/06/200417/06/200417/06/200417/06/200417/06/200418/06/200418/06/200418/06/200418/06/200418/06/200418/06/200418/06/200418/06/200418/06/200418/06/200418/06/200418/06/200418/06/200418/06/200418/06/200418/06/200418/06/200418/06/200418/06/200418/06/200418/06/200418/06/200418/06/200418/06/200419/06/200419/06/200419/06/200419/06/200419/06/200419/06/200419/06/200419/06/200419/06/200419/06/200419/06/200419/06/200419/06/200419/06/200419/06/200419/06/200419/06/200419/06/200419/06/200419/06/200419/06/200419/06/200419/06/200419/06/200420/06/200420/06/200420/06/200420/06/200420/06/200420/06/200420/06/200420/06/200420/06/200420/06/200420/06/200420/06/200420/06/200420/06/200420/06/200420/06/200420/06/200420/06/200420/06/200420/06/200420/06/200420/06/200420/06/200420/06/200421/06/200421/06/200421/06/200421/06/200421/06/200421/06/200421/06/200421/06/200421/06/200421/06/200421/06/200421/06/200421/06/200421/06/200421/06/200421/06/200421/06/200421/06/200421/06/200421/06/200421/06/200421/06/200421/06/200421/06/200422/06/200422/06/200422/06/200422/06/200422/06/200422/06/200422/06/200422/06/200422/06/200422/06/200422/06/200422/06/200422/06/200422/06/200422/06/200422/06/200422/06/200422/06/200422/06/200422/06/200422/06/200422/06/200422/06/200422/06/200423/06/200423/06/200423/06/200423/06/200423/06/200423/06/200423/06/200423/06/200423/06/200423/06/200423/06/200423/06/200423/06/200423/06/200423/06/200423/06/200423/06/200423/06/200423/06/200423/06/200423/06/200423/06/200423/06/200423/06/200424/06/200424/06/200424/06/200424/06/200424/06/200424/06/200424/06/200424/06/200424/06/200424/06/200424/06/200424/06/200424/06/200424/06/200424/06/200424/06/200424/06/200424/06/200424/06/200424/06/200424/06/200424/06/200424/06/200424/06/200425/06/200425/06/200425/06/200425/06/200425/06/200425/06/200425/06/200425/06/200425/06/200425/06/200425/06/200425/06/200425/06/200425/06/200425/06/200425/06/200425/06/200425/06/200425/06/200425/06/200425/06/200425/06/200425/06/200425/06/200426/06/200426/06/200426/06/200426/06/200426/06/200426/06/200426/06/200426/06/200426/06/200426/06/200426/06/200426/06/200426/06/200426/06/200426/06/200426/06/200426/06/200426/06/200426/06/200426/06/200426/06/200426/06/200426/06/200426/06/200427/06/200427/06/200427/06/200427/06/200427/06/200427/06/200427/06/200427/06/200427/06/200427/06/200427/06/200427/06/200427/06/200427/06/200427/06/200427/06/200427/06/200427/06/200427/06/200427/06/200427/06/200427/06/200427/06/200427/06/200428/06/200428/06/200428/06/200428/06/200428/06/200428/06/200428/06/200428/06/200428/06/200428/06/200428/06/200428/06/200428/06/200428/06/200428/06/200428/06/200428/06/200428/06/200428/06/200428/06/200428/06/200428/06/200428/06/200428/06/200429/06/200429/06/200429/06/200429/06/200429/06/200429/06/200429/06/200429/06/200429/06/200429/06/200429/06/200429/06/200429/06/200429/06/200429/06/200429/06/200429/06/200429/06/200429/06/200429/06/200429/06/200429/06/200429/06/200429/06/200430/06/200430/06/200430/06/200430/06/200430/06/200430/06/200430/06/200430/06/200430/06/200430/06/200430/06/200430/06/200430/06/200430/06/200430/06/200430/06/200430/06/200430/06/200430/06/200430/06/200430/06/200430/06/200430/06/200430/06/200401/07/200401/07/200401/07/200401/07/200401/07/200401/07/200401/07/200401/07/200401/07/200401/07/200401/07/200401/07/200401/07/200401/07/200401/07/200401/07/200401/07/200401/07/200401/07/200401/07/200401/07/200401/07/200401/07/200401/07/200402/07/200402/07/200402/07/200402/07/200402/07/200402/07/200402/07/200402/07/200402/07/200402/07/200402/07/200402/07/200402/07/200402/07/200402/07/200402/07/200402/07/200402/07/200402/07/200402/07/200402/07/200402/07/200402/07/200402/07/200403/07/200403/07/200403/07/200403/07/200403/07/200403/07/200403/07/200403/07/200403/07/200403/07/200403/07/200403/07/200403/07/200403/07/200403/07/200403/07/200403/07/200403/07/200403/07/200403/07/200403/07/200403/07/200403/07/200403/07/200404/07/200404/07/200404/07/200404/07/200404/07/200404/07/200404/07/200404/07/200404/07/200404/07/200404/07/200404/07/200404/07/200404/07/200404/07/200404/07/200404/07/200404/07/200404/07/200404/07/200404/07/200404/07/200404/07/200404/07/200405/07/200405/07/200405/07/200405/07/200405/07/200405/07/200405/07/200405/07/200405/07/200405/07/200405/07/200405/07/200405/07/200405/07/200405/07/200405/07/200405/07/200405/07/200405/07/200405/07/200405/07/200405/07/200405/07/200405/07/200406/07/200406/07/200406/07/200406/07/200406/07/200406/07/200406/07/200406/07/200406/07/200406/07/200406/07/200406/07/200406/07/200406/07/200406/07/200406/07/200406/07/200406/07/200406/07/200406/07/200406/07/200406/07/200406/07/200406/07/200407/07/200407/07/200407/07/200407/07/200407/07/200407/07/200407/07/200407/07/200407/07/200407/07/200407/07/200407/07/200407/07/200407/07/200407/07/200407/07/200407/07/200407/07/200407/07/200407/07/200407/07/200407/07/200407/07/200407/07/200408/07/200408/07/200408/07/200408/07/200408/07/200408/07/200408/07/200408/07/200408/07/200408/07/200408/07/200408/07/200408/07/200408/07/200408/07/200408/07/200408/07/200408/07/200408/07/200408/07/200408/07/200408/07/200408/07/200408/07/200409/07/200409/07/200409/07/200409/07/200409/07/200409/07/200409/07/200409/07/200409/07/200409/07/200409/07/200409/07/200409/07/200409/07/200409/07/200409/07/200409/07/200409/07/200409/07/200409/07/200409/07/200409/07/200409/07/200409/07/200410/07/200410/07/200410/07/200410/07/200410/07/200410/07/200410/07/200410/07/200410/07/200410/07/200410/07/200410/07/200410/07/200410/07/200410/07/200410/07/200410/07/200410/07/200410/07/200410/07/200410/07/200410/07/200410/07/200410/07/200411/07/200411/07/200411/07/200411/07/200411/07/200411/07/200411/07/200411/07/200411/07/200411/07/200411/07/200411/07/200411/07/200411/07/200411/07/200411/07/200411/07/200411/07/200411/07/200411/07/200411/07/200411/07/200411/07/200411/07/200412/07/200412/07/200412/07/200412/07/200412/07/200412/07/200412/07/200412/07/200412/07/200412/07/200412/07/200412/07/200412/07/200412/07/200412/07/200412/07/200412/07/200412/07/200412/07/200412/07/200412/07/200412/07/200412/07/200412/07/200413/07/200413/07/200413/07/200413/07/200413/07/200413/07/200413/07/200413/07/200413/07/200413/07/200413/07/200413/07/200413/07/200413/07/200413/07/200413/07/200413/07/200413/07/200413/07/200413/07/200413/07/200413/07/200413/07/200413/07/200414/07/200414/07/200414/07/200414/07/200414/07/200414/07/200414/07/200414/07/200414/07/200414/07/200414/07/200414/07/200414/07/200414/07/200414/07/200414/07/200414/07/200414/07/200414/07/200414/07/200414/07/200414/07/200414/07/200414/07/200415/07/200415/07/200415/07/200415/07/200415/07/200415/07/200415/07/200415/07/200415/07/200415/07/200415/07/200415/07/200415/07/200415/07/200415/07/200415/07/200415/07/200415/07/200415/07/200415/07/200415/07/200415/07/200415/07/200415/07/200416/07/200416/07/200416/07/200416/07/200416/07/200416/07/200416/07/200416/07/200416/07/200416/07/200416/07/200416/07/200416/07/200416/07/200416/07/200416/07/200416/07/200416/07/200416/07/200416/07/200416/07/200416/07/200416/07/200416/07/200417/07/200417/07/200417/07/200417/07/200417/07/200417/07/200417/07/200417/07/200417/07/200417/07/200417/07/200417/07/200417/07/200417/07/200417/07/200417/07/200417/07/200417/07/200417/07/200417/07/200417/07/200417/07/200417/07/200417/07/200418/07/200418/07/200418/07/200418/07/200418/07/200418/07/200418/07/200418/07/200418/07/200418/07/200418/07/200418/07/200418/07/200418/07/200418/07/200418/07/200418/07/200418/07/200418/07/200418/07/200418/07/200418/07/200418/07/200418/07/200419/07/200419/07/200419/07/200419/07/200419/07/200419/07/200419/07/200419/07/200419/07/200419/07/200419/07/200419/07/200419/07/200419/07/200419/07/200419/07/200419/07/200419/07/200419/07/200419/07/200419/07/200419/07/200419/07/200419/07/200420/07/200420/07/200420/07/200420/07/200420/07/200420/07/200420/07/200420/07/200420/07/200420/07/200420/07/200420/07/200420/07/200420/07/200420/07/200420/07/200420/07/200420/07/200420/07/200420/07/200420/07/200420/07/200420/07/200420/07/200421/07/200421/07/200421/07/200421/07/200421/07/200421/07/200421/07/200421/07/200421/07/200421/07/200421/07/200421/07/200421/07/200421/07/200421/07/200421/07/200421/07/200421/07/200421/07/200421/07/200421/07/200421/07/200421/07/200421/07/200422/07/200422/07/200422/07/200422/07/200422/07/200422/07/200422/07/200422/07/200422/07/200422/07/200422/07/200422/07/200422/07/200422/07/200422/07/200422/07/200422/07/200422/07/200422/07/200422/07/200422/07/200422/07/200422/07/200422/07/200423/07/200423/07/200423/07/200423/07/200423/07/200423/07/200423/07/200423/07/200423/07/200423/07/200423/07/200423/07/200423/07/200423/07/200423/07/200423/07/200423/07/200423/07/200423/07/200423/07/200423/07/200423/07/200423/07/200423/07/200424/07/200424/07/200424/07/200424/07/200424/07/200424/07/200424/07/200424/07/200424/07/200424/07/200424/07/200424/07/200424/07/200424/07/200424/07/200424/07/200424/07/200424/07/200424/07/200424/07/200424/07/200424/07/200424/07/200424/07/200425/07/200425/07/200425/07/200425/07/200425/07/200425/07/200425/07/200425/07/200425/07/200425/07/200425/07/200425/07/200425/07/200425/07/200425/07/200425/07/200425/07/200425/07/200425/07/200425/07/200425/07/200425/07/200425/07/200425/07/200426/07/200426/07/200426/07/200426/07/200426/07/200426/07/200426/07/200426/07/200426/07/200426/07/200426/07/200426/07/200426/07/200426/07/200426/07/200426/07/200426/07/200426/07/200426/07/200426/07/200426/07/200426/07/200426/07/200426/07/200427/07/200427/07/200427/07/200427/07/200427/07/200427/07/200427/07/200427/07/200427/07/200427/07/200427/07/200427/07/200427/07/200427/07/200427/07/200427/07/200427/07/200427/07/200427/07/200427/07/200427/07/200427/07/200427/07/200427/07/200428/07/200428/07/200428/07/200428/07/200428/07/200428/07/200428/07/200428/07/200428/07/200428/07/200428/07/200428/07/200428/07/200428/07/200428/07/200428/07/200428/07/200428/07/200428/07/200428/07/200428/07/200428/07/200428/07/200428/07/200429/07/200429/07/200429/07/200429/07/200429/07/200429/07/200429/07/200429/07/200429/07/200429/07/200429/07/200429/07/200429/07/200429/07/200429/07/200429/07/200429/07/200429/07/200429/07/200429/07/200429/07/200429/07/200429/07/200429/07/200430/07/200430/07/200430/07/200430/07/200430/07/200430/07/200430/07/200430/07/200430/07/200430/07/200430/07/200430/07/200430/07/200430/07/200430/07/200430/07/200430/07/200430/07/200430/07/200430/07/200430/07/200430/07/200430/07/200430/07/200431/07/200431/07/200431/07/200431/07/200431/07/200431/07/200431/07/200431/07/200431/07/200431/07/200431/07/200431/07/200431/07/200431/07/200431/07/200431/07/200431/07/200431/07/200431/07/200431/07/200431/07/200431/07/200431/07/200431/07/200401/08/200401/08/200401/08/200401/08/200401/08/200401/08/200401/08/200401/08/200401/08/200401/08/200401/08/200401/08/200401/08/200401/08/200401/08/200401/08/200401/08/200401/08/200401/08/200401/08/200401/08/200401/08/200401/08/200401/08/200402/08/200402/08/200402/08/200402/08/200402/08/200402/08/200402/08/200402/08/200402/08/200402/08/200402/08/200402/08/200402/08/200402/08/200402/08/200402/08/200402/08/200402/08/200402/08/200402/08/200402/08/200402/08/200402/08/200402/08/200403/08/200403/08/200403/08/200403/08/200403/08/200403/08/200403/08/200403/08/200403/08/200403/08/200403/08/200403/08/200403/08/200403/08/200403/08/200403/08/200403/08/200403/08/200403/08/200403/08/200403/08/200403/08/200403/08/200403/08/200404/08/200404/08/200404/08/200404/08/200404/08/200404/08/200404/08/200404/08/200404/08/200404/08/200404/08/200404/08/200404/08/200404/08/200404/08/200404/08/200404/08/200404/08/200404/08/200404/08/200404/08/200404/08/200404/08/200404/08/200405/08/200405/08/200405/08/200405/08/200405/08/200405/08/200405/08/200405/08/200405/08/200405/08/200405/08/200405/08/200405/08/200405/08/200405/08/200405/08/200405/08/200405/08/200405/08/200405/08/200405/08/200405/08/200405/08/200405/08/200406/08/200406/08/200406/08/200406/08/200406/08/200406/08/200406/08/200406/08/200406/08/200406/08/200406/08/200406/08/200406/08/200406/08/200406/08/200406/08/200406/08/200406/08/200406/08/200406/08/200406/08/200406/08/200406/08/200406/08/200407/08/200407/08/200407/08/200407/08/200407/08/200407/08/200407/08/200407/08/200407/08/200407/08/200407/08/200407/08/200407/08/200407/08/200407/08/200407/08/200407/08/200407/08/200407/08/200407/08/200407/08/200407/08/200407/08/200407/08/200408/08/200408/08/200408/08/200408/08/200408/08/200408/08/200408/08/200408/08/200408/08/200408/08/200408/08/200408/08/200408/08/200408/08/200408/08/200408/08/200408/08/200408/08/200408/08/200408/08/200408/08/200408/08/200408/08/200408/08/200409/08/200409/08/200409/08/200409/08/200409/08/200409/08/200409/08/200409/08/200409/08/200409/08/200409/08/200409/08/200409/08/200409/08/200409/08/200409/08/200409/08/200409/08/200409/08/200409/08/200409/08/200409/08/200409/08/200409/08/200410/08/200410/08/200410/08/200410/08/200410/08/200410/08/200410/08/200410/08/200410/08/200410/08/200410/08/200410/08/200410/08/200410/08/200410/08/200410/08/200410/08/200410/08/200410/08/200410/08/200410/08/200410/08/200410/08/200410/08/200411/08/200411/08/200411/08/200411/08/200411/08/200411/08/200411/08/200411/08/200411/08/200411/08/200411/08/200411/08/200411/08/200411/08/200411/08/200411/08/200411/08/200411/08/200411/08/200411/08/200411/08/200411/08/200411/08/200411/08/200412/08/200412/08/200412/08/200412/08/200412/08/200412/08/200412/08/200412/08/200412/08/200412/08/200412/08/200412/08/200412/08/200412/08/200412/08/200412/08/200412/08/200412/08/200412/08/200412/08/200412/08/200412/08/200412/08/200412/08/200413/08/200413/08/200413/08/200413/08/200413/08/200413/08/200413/08/200413/08/200413/08/200413/08/200413/08/200413/08/200413/08/200413/08/200413/08/200413/08/200413/08/200413/08/200413/08/200413/08/200413/08/200413/08/200413/08/200413/08/200414/08/200414/08/200414/08/200414/08/200414/08/200414/08/200414/08/200414/08/200414/08/200414/08/200414/08/200414/08/200414/08/200414/08/200414/08/200414/08/200414/08/200414/08/200414/08/200414/08/200414/08/200414/08/200414/08/200414/08/200415/08/200415/08/200415/08/200415/08/200415/08/200415/08/200415/08/200415/08/200415/08/200415/08/200415/08/200415/08/200415/08/200415/08/200415/08/200415/08/200415/08/200415/08/200415/08/200415/08/200415/08/200415/08/200415/08/200415/08/200416/08/200416/08/200416/08/200416/08/200416/08/200416/08/200416/08/200416/08/200416/08/200416/08/200416/08/200416/08/200416/08/200416/08/200416/08/200416/08/200416/08/200416/08/200416/08/200416/08/200416/08/200416/08/200416/08/200416/08/200417/08/200417/08/200417/08/200417/08/200417/08/200417/08/200417/08/200417/08/200417/08/200417/08/200417/08/200417/08/200417/08/200417/08/200417/08/200417/08/200417/08/200417/08/200417/08/200417/08/200417/08/200417/08/200417/08/200417/08/200418/08/200418/08/200418/08/200418/08/200418/08/200418/08/200418/08/200418/08/200418/08/200418/08/200418/08/200418/08/200418/08/200418/08/200418/08/200418/08/200418/08/200418/08/200418/08/200418/08/200418/08/200418/08/200418/08/200418/08/200419/08/200419/08/200419/08/200419/08/200419/08/200419/08/200419/08/200419/08/200419/08/200419/08/200419/08/200419/08/200419/08/200419/08/200419/08/200419/08/200419/08/200419/08/200419/08/200419/08/200419/08/200419/08/200419/08/200419/08/200420/08/200420/08/200420/08/200420/08/200420/08/200420/08/200420/08/200420/08/200420/08/200420/08/200420/08/200420/08/200420/08/200420/08/200420/08/200420/08/200420/08/200420/08/200420/08/200420/08/200420/08/200420/08/200420/08/200420/08/200421/08/200421/08/200421/08/200421/08/200421/08/200421/08/200421/08/200421/08/200421/08/200421/08/200421/08/200421/08/200421/08/200421/08/200421/08/200421/08/200421/08/200421/08/200421/08/200421/08/200421/08/200421/08/200421/08/200421/08/200422/08/200422/08/200422/08/200422/08/200422/08/200422/08/200422/08/200422/08/200422/08/200422/08/200422/08/200422/08/200422/08/200422/08/200422/08/200422/08/200422/08/200422/08/200422/08/200422/08/200422/08/200422/08/200422/08/200422/08/200423/08/200423/08/200423/08/200423/08/200423/08/200423/08/200423/08/200423/08/200423/08/200423/08/200423/08/200423/08/200423/08/200423/08/200423/08/200423/08/200423/08/200423/08/200423/08/200423/08/200423/08/200423/08/200423/08/200423/08/200424/08/200424/08/200424/08/200424/08/200424/08/200424/08/200424/08/200424/08/200424/08/200424/08/200424/08/200424/08/200424/08/200424/08/200424/08/200424/08/200424/08/200424/08/200424/08/200424/08/200424/08/200424/08/200424/08/200424/08/200425/08/200425/08/200425/08/200425/08/200425/08/200425/08/200425/08/200425/08/200425/08/200425/08/200425/08/200425/08/200425/08/200425/08/200425/08/200425/08/200425/08/200425/08/200425/08/200425/08/200425/08/200425/08/200425/08/200425/08/200426/08/200426/08/200426/08/200426/08/200426/08/200426/08/200426/08/200426/08/200426/08/200426/08/200426/08/200426/08/200426/08/200426/08/200426/08/200426/08/200426/08/200426/08/200426/08/200426/08/200426/08/200426/08/200426/08/200426/08/200427/08/200427/08/200427/08/200427/08/200427/08/200427/08/200427/08/200427/08/200427/08/200427/08/200427/08/200427/08/200427/08/200427/08/200427/08/200427/08/200427/08/200427/08/200427/08/200427/08/200427/08/200427/08/200427/08/200427/08/200428/08/200428/08/200428/08/200428/08/200428/08/200428/08/200428/08/200428/08/200428/08/200428/08/200428/08/200428/08/200428/08/200428/08/200428/08/200428/08/200428/08/200428/08/200428/08/200428/08/200428/08/200428/08/200428/08/200428/08/200429/08/200429/08/200429/08/200429/08/200429/08/200429/08/200429/08/200429/08/200429/08/200429/08/200429/08/200429/08/200429/08/200429/08/200429/08/200429/08/200429/08/200429/08/200429/08/200429/08/200429/08/200429/08/200429/08/200429/08/200430/08/200430/08/200430/08/200430/08/200430/08/200430/08/200430/08/200430/08/200430/08/200430/08/200430/08/200430/08/200430/08/200430/08/200430/08/200430/08/200430/08/200430/08/200430/08/200430/08/200430/08/200430/08/200430/08/200430/08/200431/08/200431/08/200431/08/200431/08/200431/08/200431/08/200431/08/200431/08/200431/08/200431/08/200431/08/200431/08/200431/08/200431/08/200431/08/200431/08/200431/08/200431/08/200431/08/200431/08/200431/08/200431/08/200431/08/200431/08/200401/09/200401/09/200401/09/200401/09/200401/09/200401/09/200401/09/200401/09/200401/09/200401/09/200401/09/200401/09/200401/09/200401/09/200401/09/200401/09/200401/09/200401/09/200401/09/200401/09/200401/09/200401/09/200401/09/200401/09/200402/09/200402/09/200402/09/200402/09/200402/09/200402/09/200402/09/200402/09/200402/09/200402/09/200402/09/200402/09/200402/09/200402/09/200402/09/200402/09/200402/09/200402/09/200402/09/200402/09/200402/09/200402/09/200402/09/200402/09/200403/09/200403/09/200403/09/200403/09/200403/09/200403/09/200403/09/200403/09/200403/09/200403/09/200403/09/200403/09/200403/09/200403/09/200403/09/200403/09/200403/09/200403/09/200403/09/200403/09/200403/09/200403/09/200403/09/200403/09/200404/09/200404/09/200404/09/200404/09/200404/09/200404/09/200404/09/200404/09/200404/09/200404/09/200404/09/200404/09/200404/09/200404/09/200404/09/200404/09/200404/09/200404/09/200404/09/200404/09/200404/09/200404/09/200404/09/200404/09/200405/09/200405/09/200405/09/200405/09/200405/09/200405/09/200405/09/200405/09/200405/09/200405/09/200405/09/200405/09/200405/09/200405/09/200405/09/200405/09/200405/09/200405/09/200405/09/200405/09/200405/09/200405/09/200405/09/200405/09/200406/09/200406/09/200406/09/200406/09/200406/09/200406/09/200406/09/200406/09/200406/09/200406/09/200406/09/200406/09/200406/09/200406/09/200406/09/200406/09/200406/09/200406/09/200406/09/200406/09/200406/09/200406/09/200406/09/200406/09/200407/09/200407/09/200407/09/200407/09/200407/09/200407/09/200407/09/200407/09/200407/09/200407/09/200407/09/200407/09/200407/09/200407/09/200407/09/200407/09/200407/09/200407/09/200407/09/200407/09/200407/09/200407/09/200407/09/200407/09/200408/09/200408/09/200408/09/200408/09/200408/09/200408/09/200408/09/200408/09/200408/09/200408/09/200408/09/200408/09/200408/09/200408/09/200408/09/200408/09/200408/09/200408/09/200408/09/200408/09/200408/09/200408/09/200408/09/200408/09/200409/09/200409/09/200409/09/200409/09/200409/09/200409/09/200409/09/200409/09/200409/09/200409/09/200409/09/200409/09/200409/09/200409/09/200409/09/200409/09/200409/09/200409/09/200409/09/200409/09/200409/09/200409/09/200409/09/200409/09/200410/09/200410/09/200410/09/200410/09/200410/09/200410/09/200410/09/200410/09/200410/09/200410/09/200410/09/200410/09/200410/09/200410/09/200410/09/200410/09/200410/09/200410/09/200410/09/200410/09/200410/09/200410/09/200410/09/200410/09/200411/09/200411/09/200411/09/200411/09/200411/09/200411/09/200411/09/200411/09/200411/09/200411/09/200411/09/200411/09/200411/09/200411/09/200411/09/200411/09/200411/09/200411/09/200411/09/200411/09/200411/09/200411/09/200411/09/200411/09/200412/09/200412/09/200412/09/200412/09/200412/09/200412/09/200412/09/200412/09/200412/09/200412/09/200412/09/200412/09/200412/09/200412/09/200412/09/200412/09/200412/09/200412/09/200412/09/200412/09/200412/09/200412/09/200412/09/200412/09/200413/09/200413/09/200413/09/200413/09/200413/09/200413/09/200413/09/200413/09/200413/09/200413/09/200413/09/200413/09/200413/09/200413/09/200413/09/200413/09/200413/09/200413/09/200413/09/200413/09/200413/09/200413/09/200413/09/200413/09/200414/09/200414/09/200414/09/200414/09/200414/09/200414/09/200414/09/200414/09/200414/09/200414/09/200414/09/200414/09/200414/09/200414/09/200414/09/200414/09/200414/09/200414/09/200414/09/200414/09/200414/09/200414/09/200414/09/200414/09/200415/09/200415/09/200415/09/200415/09/200415/09/200415/09/200415/09/200415/09/200415/09/200415/09/200415/09/200415/09/200415/09/200415/09/200415/09/200415/09/200415/09/200415/09/200415/09/200415/09/200415/09/200415/09/200415/09/200415/09/200416/09/200416/09/200416/09/200416/09/200416/09/200416/09/200416/09/200416/09/200416/09/200416/09/200416/09/200416/09/200416/09/200416/09/200416/09/200416/09/200416/09/200416/09/200416/09/200416/09/200416/09/200416/09/200416/09/200416/09/200417/09/200417/09/200417/09/200417/09/200417/09/200417/09/200417/09/200417/09/200417/09/200417/09/200417/09/200417/09/200417/09/200417/09/200417/09/200417/09/200417/09/200417/09/200417/09/200417/09/200417/09/200417/09/200417/09/200417/09/200418/09/200418/09/200418/09/200418/09/200418/09/200418/09/200418/09/200418/09/200418/09/200418/09/200418/09/200418/09/200418/09/200418/09/200418/09/200418/09/200418/09/200418/09/200418/09/200418/09/200418/09/200418/09/200418/09/200418/09/200419/09/200419/09/200419/09/200419/09/200419/09/200419/09/200419/09/200419/09/200419/09/200419/09/200419/09/200419/09/200419/09/200419/09/200419/09/200419/09/200419/09/200419/09/200419/09/200419/09/200419/09/200419/09/200419/09/200419/09/200420/09/200420/09/200420/09/200420/09/200420/09/200420/09/200420/09/200420/09/200420/09/200420/09/200420/09/200420/09/200420/09/200420/09/200420/09/200420/09/200420/09/200420/09/200420/09/200420/09/200420/09/200420/09/200420/09/200420/09/200421/09/200421/09/200421/09/200421/09/200421/09/200421/09/200421/09/200421/09/200421/09/200421/09/200421/09/200421/09/200421/09/200421/09/200421/09/200421/09/200421/09/200421/09/200421/09/200421/09/200421/09/200421/09/200421/09/200421/09/200422/09/200422/09/200422/09/200422/09/200422/09/200422/09/200422/09/200422/09/200422/09/200422/09/200422/09/200422/09/200422/09/200422/09/200422/09/200422/09/200422/09/200422/09/200422/09/200422/09/200422/09/200422/09/200422/09/200422/09/200423/09/200423/09/200423/09/200423/09/200423/09/200423/09/200423/09/200423/09/200423/09/200423/09/200423/09/200423/09/200423/09/200423/09/200423/09/200423/09/200423/09/200423/09/200423/09/200423/09/200423/09/200423/09/200423/09/200423/09/200424/09/200424/09/200424/09/200424/09/200424/09/200424/09/200424/09/200424/09/200424/09/200424/09/200424/09/200424/09/200424/09/200424/09/200424/09/200424/09/200424/09/200424/09/200424/09/200424/09/200424/09/200424/09/200424/09/200424/09/200425/09/200425/09/200425/09/200425/09/200425/09/200425/09/200425/09/200425/09/200425/09/200425/09/200425/09/200425/09/200425/09/200425/09/200425/09/200425/09/200425/09/200425/09/200425/09/200425/09/200425/09/200425/09/200425/09/200425/09/200426/09/200426/09/200426/09/200426/09/200426/09/200426/09/200426/09/200426/09/200426/09/200426/09/200426/09/200426/09/200426/09/200426/09/200426/09/200426/09/200426/09/200426/09/200426/09/200426/09/200426/09/200426/09/200426/09/200426/09/200427/09/200427/09/200427/09/200427/09/200427/09/200427/09/200427/09/200427/09/200427/09/200427/09/200427/09/200427/09/200427/09/200427/09/200427/09/200427/09/200427/09/200427/09/200427/09/200427/09/200427/09/200427/09/200427/09/200427/09/200428/09/200428/09/200428/09/200428/09/200428/09/200428/09/200428/09/200428/09/200428/09/200428/09/200428/09/200428/09/200428/09/200428/09/200428/09/200428/09/200428/09/200428/09/200428/09/200428/09/200428/09/200428/09/200428/09/200428/09/200429/09/200429/09/200429/09/200429/09/200429/09/200429/09/200429/09/200429/09/200429/09/200429/09/200429/09/200429/09/200429/09/200429/09/200429/09/200429/09/200429/09/200429/09/200429/09/200429/09/200429/09/200429/09/200429/09/200429/09/200430/09/200430/09/200430/09/200430/09/200430/09/200430/09/200430/09/200430/09/200430/09/200430/09/200430/09/200430/09/200430/09/200430/09/200430/09/200430/09/200430/09/200430/09/200430/09/200430/09/200430/09/200430/09/200430/09/200430/09/200401/10/200401/10/200401/10/200401/10/200401/10/200401/10/200401/10/200401/10/200401/10/200401/10/200401/10/200401/10/200401/10/200401/10/200401/10/200401/10/200401/10/200401/10/200401/10/200401/10/200401/10/200401/10/200401/10/200401/10/200402/10/200402/10/200402/10/200402/10/200402/10/200402/10/200402/10/200402/10/200402/10/200402/10/200402/10/200402/10/200402/10/200402/10/200402/10/200402/10/200402/10/200402/10/200402/10/200402/10/200402/10/200402/10/200402/10/200402/10/200403/10/200403/10/200403/10/200403/10/200403/10/200403/10/200403/10/200403/10/200403/10/200403/10/200403/10/200403/10/200403/10/200403/10/200403/10/200403/10/200403/10/200403/10/200403/10/200403/10/200403/10/200403/10/200403/10/200403/10/200404/10/200404/10/200404/10/200404/10/200404/10/200404/10/200404/10/200404/10/200404/10/200404/10/200404/10/200404/10/200404/10/200404/10/200404/10/200404/10/200404/10/200404/10/200404/10/200404/10/200404/10/200404/10/200404/10/200404/10/200405/10/200405/10/200405/10/200405/10/200405/10/200405/10/200405/10/200405/10/200405/10/200405/10/200405/10/200405/10/200405/10/200405/10/200405/10/200405/10/200405/10/200405/10/200405/10/200405/10/200405/10/200405/10/200405/10/200405/10/200406/10/200406/10/200406/10/200406/10/200406/10/200406/10/200406/10/200406/10/200406/10/200406/10/200406/10/200406/10/200406/10/200406/10/200406/10/200406/10/200406/10/200406/10/200406/10/200406/10/200406/10/200406/10/200406/10/200406/10/200407/10/200407/10/200407/10/200407/10/200407/10/200407/10/200407/10/200407/10/200407/10/200407/10/200407/10/200407/10/200407/10/200407/10/200407/10/200407/10/200407/10/200407/10/200407/10/200407/10/200407/10/200407/10/200407/10/200407/10/200408/10/200408/10/200408/10/200408/10/200408/10/200408/10/200408/10/200408/10/200408/10/200408/10/200408/10/200408/10/200408/10/200408/10/200408/10/200408/10/200408/10/200408/10/200408/10/200408/10/200408/10/200408/10/200408/10/200408/10/200409/10/200409/10/200409/10/200409/10/200409/10/200409/10/200409/10/200409/10/200409/10/200409/10/200409/10/200409/10/200409/10/200409/10/200409/10/200409/10/200409/10/200409/10/200409/10/200409/10/200409/10/200409/10/200409/10/200409/10/200410/10/200410/10/200410/10/200410/10/200410/10/200410/10/200410/10/200410/10/200410/10/200410/10/200410/10/200410/10/200410/10/200410/10/200410/10/200410/10/200410/10/200410/10/200410/10/200410/10/200410/10/200410/10/200410/10/200410/10/200411/10/200411/10/200411/10/200411/10/200411/10/200411/10/200411/10/200411/10/200411/10/200411/10/200411/10/200411/10/200411/10/200411/10/200411/10/200411/10/200411/10/200411/10/200411/10/200411/10/200411/10/200411/10/200411/10/200411/10/200412/10/200412/10/200412/10/200412/10/200412/10/200412/10/200412/10/200412/10/200412/10/200412/10/200412/10/200412/10/200412/10/200412/10/200412/10/200412/10/200412/10/200412/10/200412/10/200412/10/200412/10/200412/10/200412/10/200412/10/200413/10/200413/10/200413/10/200413/10/200413/10/200413/10/200413/10/200413/10/200413/10/200413/10/200413/10/200413/10/200413/10/200413/10/200413/10/200413/10/200413/10/200413/10/200413/10/200413/10/200413/10/200413/10/200413/10/200413/10/200414/10/200414/10/200414/10/200414/10/200414/10/200414/10/200414/10/200414/10/200414/10/200414/10/200414/10/200414/10/200414/10/200414/10/200414/10/200414/10/200414/10/200414/10/200414/10/200414/10/200414/10/200414/10/200414/10/200414/10/200415/10/200415/10/200415/10/200415/10/200415/10/200415/10/200415/10/200415/10/200415/10/200415/10/200415/10/200415/10/200415/10/200415/10/200415/10/200415/10/200415/10/200415/10/200415/10/200415/10/200415/10/200415/10/200415/10/200415/10/200416/10/200416/10/200416/10/200416/10/200416/10/200416/10/200416/10/200416/10/200416/10/200416/10/200416/10/200416/10/200416/10/200416/10/200416/10/200416/10/200416/10/200416/10/200416/10/200416/10/200416/10/200416/10/200416/10/200416/10/200417/10/200417/10/200417/10/200417/10/200417/10/200417/10/200417/10/200417/10/200417/10/200417/10/200417/10/200417/10/200417/10/200417/10/200417/10/200417/10/200417/10/200417/10/200417/10/200417/10/200417/10/200417/10/200417/10/200417/10/200418/10/200418/10/200418/10/200418/10/200418/10/200418/10/200418/10/200418/10/200418/10/200418/10/200418/10/200418/10/200418/10/200418/10/200418/10/200418/10/200418/10/200418/10/200418/10/200418/10/200418/10/200418/10/200418/10/200418/10/200419/10/200419/10/200419/10/200419/10/200419/10/200419/10/200419/10/200419/10/200419/10/200419/10/200419/10/200419/10/200419/10/200419/10/200419/10/200419/10/200419/10/200419/10/200419/10/200419/10/200419/10/200419/10/200419/10/200419/10/200420/10/200420/10/200420/10/200420/10/200420/10/200420/10/200420/10/200420/10/200420/10/200420/10/200420/10/200420/10/200420/10/200420/10/200420/10/200420/10/200420/10/200420/10/200420/10/200420/10/200420/10/200420/10/200420/10/200420/10/200421/10/200421/10/200421/10/200421/10/200421/10/200421/10/200421/10/200421/10/200421/10/200421/10/200421/10/200421/10/200421/10/200421/10/200421/10/200421/10/200421/10/200421/10/200421/10/200421/10/200421/10/200421/10/200421/10/200421/10/200422/10/200422/10/200422/10/200422/10/200422/10/200422/10/200422/10/200422/10/200422/10/200422/10/200422/10/200422/10/200422/10/200422/10/200422/10/200422/10/200422/10/200422/10/200422/10/200422/10/200422/10/200422/10/200422/10/200422/10/200423/10/200423/10/200423/10/200423/10/200423/10/200423/10/200423/10/200423/10/200423/10/200423/10/200423/10/200423/10/200423/10/200423/10/200423/10/200423/10/200423/10/200423/10/200423/10/200423/10/200423/10/200423/10/200423/10/200423/10/200424/10/200424/10/200424/10/200424/10/200424/10/200424/10/200424/10/200424/10/200424/10/200424/10/200424/10/200424/10/200424/10/200424/10/200424/10/200424/10/200424/10/200424/10/200424/10/200424/10/200424/10/200424/10/200424/10/200424/10/200425/10/200425/10/200425/10/200425/10/200425/10/200425/10/200425/10/200425/10/200425/10/200425/10/200425/10/200425/10/200425/10/200425/10/200425/10/200425/10/200425/10/200425/10/200425/10/200425/10/200425/10/200425/10/200425/10/200425/10/200426/10/200426/10/200426/10/200426/10/200426/10/200426/10/200426/10/200426/10/200426/10/200426/10/200426/10/200426/10/200426/10/200426/10/200426/10/200426/10/200426/10/200426/10/200426/10/200426/10/200426/10/200426/10/200426/10/200426/10/200427/10/200427/10/200427/10/200427/10/200427/10/200427/10/200427/10/200427/10/200427/10/200427/10/200427/10/200427/10/200427/10/200427/10/200427/10/200427/10/200427/10/200427/10/200427/10/200427/10/200427/10/200427/10/200427/10/200427/10/200428/10/200428/10/200428/10/200428/10/200428/10/200428/10/200428/10/200428/10/200428/10/200428/10/200428/10/200428/10/200428/10/200428/10/200428/10/200428/10/200428/10/200428/10/200428/10/200428/10/200428/10/200428/10/200428/10/200428/10/200429/10/200429/10/200429/10/200429/10/200429/10/200429/10/200429/10/200429/10/200429/10/200429/10/200429/10/200429/10/200429/10/200429/10/200429/10/200429/10/200429/10/200429/10/200429/10/200429/10/200429/10/200429/10/200429/10/200429/10/200430/10/200430/10/200430/10/200430/10/200430/10/200430/10/200430/10/200430/10/200430/10/200430/10/200430/10/200430/10/200430/10/200430/10/200430/10/200430/10/200430/10/200430/10/200430/10/200430/10/200430/10/200430/10/200430/10/200430/10/200431/10/200431/10/200431/10/200431/10/200431/10/200431/10/200431/10/200431/10/200431/10/200431/10/200431/10/200431/10/200431/10/200431/10/200431/10/200431/10/200431/10/200431/10/200431/10/200431/10/200431/10/200431/10/200431/10/200431/10/200401/11/200401/11/200401/11/200401/11/200401/11/200401/11/200401/11/200401/11/200401/11/200401/11/200401/11/200401/11/200401/11/200401/11/200401/11/200401/11/200401/11/200401/11/200401/11/200401/11/200401/11/200401/11/200401/11/200401/11/200402/11/200402/11/200402/11/200402/11/200402/11/200402/11/200402/11/200402/11/200402/11/200402/11/200402/11/200402/11/200402/11/200402/11/200402/11/200402/11/200402/11/200402/11/200402/11/200402/11/200402/11/200402/11/200402/11/200402/11/200403/11/200403/11/200403/11/200403/11/200403/11/200403/11/200403/11/200403/11/200403/11/200403/11/200403/11/200403/11/200403/11/200403/11/200403/11/200403/11/200403/11/200403/11/200403/11/200403/11/200403/11/200403/11/200403/11/200403/11/200404/11/200404/11/200404/11/200404/11/200404/11/200404/11/200404/11/200404/11/200404/11/200404/11/200404/11/200404/11/200404/11/200404/11/200404/11/200404/11/200404/11/200404/11/200404/11/200404/11/200404/11/200404/11/200404/11/200404/11/200405/11/200405/11/200405/11/200405/11/200405/11/200405/11/200405/11/200405/11/200405/11/200405/11/200405/11/200405/11/200405/11/200405/11/200405/11/200405/11/200405/11/200405/11/200405/11/200405/11/200405/11/200405/11/200405/11/200405/11/200406/11/200406/11/200406/11/200406/11/200406/11/200406/11/200406/11/200406/11/200406/11/200406/11/200406/11/200406/11/200406/11/200406/11/200406/11/200406/11/200406/11/200406/11/200406/11/200406/11/200406/11/200406/11/200406/11/200406/11/200407/11/200407/11/200407/11/200407/11/200407/11/200407/11/200407/11/200407/11/200407/11/200407/11/200407/11/200407/11/200407/11/200407/11/200407/11/200407/11/200407/11/200407/11/200407/11/200407/11/200407/11/200407/11/200407/11/200407/11/200408/11/200408/11/200408/11/200408/11/200408/11/200408/11/200408/11/200408/11/200408/11/200408/11/200408/11/200408/11/200408/11/200408/11/200408/11/200408/11/200408/11/200408/11/200408/11/200408/11/200408/11/200408/11/200408/11/200408/11/200409/11/200409/11/200409/11/200409/11/200409/11/200409/11/200409/11/200409/11/200409/11/200409/11/200409/11/200409/11/200409/11/200409/11/200409/11/200409/11/200409/11/200409/11/200409/11/200409/11/200409/11/200409/11/200409/11/200409/11/200410/11/200410/11/200410/11/200410/11/200410/11/200410/11/200410/11/200410/11/200410/11/200410/11/200410/11/200410/11/200410/11/200410/11/200410/11/200410/11/200410/11/200410/11/200410/11/200410/11/200410/11/200410/11/200410/11/200410/11/200411/11/200411/11/200411/11/200411/11/200411/11/200411/11/200411/11/200411/11/200411/11/200411/11/200411/11/200411/11/200411/11/200411/11/200411/11/200411/11/200411/11/200411/11/200411/11/200411/11/200411/11/200411/11/200411/11/200411/11/200412/11/200412/11/200412/11/200412/11/200412/11/200412/11/200412/11/200412/11/200412/11/200412/11/200412/11/200412/11/200412/11/200412/11/200412/11/200412/11/200412/11/200412/11/200412/11/200412/11/200412/11/200412/11/200412/11/200412/11/200413/11/200413/11/200413/11/200413/11/200413/11/200413/11/200413/11/200413/11/200413/11/200413/11/200413/11/200413/11/200413/11/200413/11/200413/11/200413/11/200413/11/200413/11/200413/11/200413/11/200413/11/200413/11/200413/11/200413/11/200414/11/200414/11/200414/11/200414/11/200414/11/200414/11/200414/11/200414/11/200414/11/200414/11/200414/11/200414/11/200414/11/200414/11/200414/11/200414/11/200414/11/200414/11/200414/11/200414/11/200414/11/200414/11/200414/11/200414/11/200415/11/200415/11/200415/11/200415/11/200415/11/200415/11/200415/11/200415/11/200415/11/200415/11/200415/11/200415/11/200415/11/200415/11/200415/11/200415/11/200415/11/200415/11/200415/11/200415/11/200415/11/200415/11/200415/11/200415/11/200416/11/200416/11/200416/11/200416/11/200416/11/200416/11/200416/11/200416/11/200416/11/200416/11/200416/11/200416/11/200416/11/200416/11/200416/11/200416/11/200416/11/200416/11/200416/11/200416/11/200416/11/200416/11/200416/11/200416/11/200417/11/200417/11/200417/11/200417/11/200417/11/200417/11/200417/11/200417/11/200417/11/200417/11/200417/11/200417/11/200417/11/200417/11/200417/11/200417/11/200417/11/200417/11/200417/11/200417/11/200417/11/200417/11/200417/11/200417/11/200418/11/200418/11/200418/11/200418/11/200418/11/200418/11/200418/11/200418/11/200418/11/200418/11/200418/11/200418/11/200418/11/200418/11/200418/11/200418/11/200418/11/200418/11/200418/11/200418/11/200418/11/200418/11/200418/11/200418/11/200419/11/200419/11/200419/11/200419/11/200419/11/200419/11/200419/11/200419/11/200419/11/200419/11/200419/11/200419/11/200419/11/200419/11/200419/11/200419/11/200419/11/200419/11/200419/11/200419/11/200419/11/200419/11/200419/11/200419/11/200420/11/200420/11/200420/11/200420/11/200420/11/200420/11/200420/11/200420/11/200420/11/200420/11/200420/11/200420/11/200420/11/200420/11/200420/11/200420/11/200420/11/200420/11/200420/11/200420/11/200420/11/200420/11/200420/11/200420/11/200421/11/200421/11/200421/11/200421/11/200421/11/200421/11/200421/11/200421/11/200421/11/200421/11/200421/11/200421/11/200421/11/200421/11/200421/11/200421/11/200421/11/200421/11/200421/11/200421/11/200421/11/200421/11/200421/11/200421/11/200422/11/200422/11/200422/11/200422/11/200422/11/200422/11/200422/11/200422/11/200422/11/200422/11/200422/11/200422/11/200422/11/200422/11/200422/11/200422/11/200422/11/200422/11/200422/11/200422/11/200422/11/200422/11/200422/11/200422/11/200423/11/200423/11/200423/11/200423/11/200423/11/200423/11/200423/11/200423/11/200423/11/200423/11/200423/11/200423/11/200423/11/200423/11/200423/11/200423/11/200423/11/200423/11/200423/11/200423/11/200423/11/200423/11/200423/11/200423/11/200424/11/200424/11/200424/11/200424/11/200424/11/200424/11/200424/11/200424/11/200424/11/200424/11/200424/11/200424/11/200424/11/200424/11/200424/11/200424/11/200424/11/200424/11/200424/11/200424/11/200424/11/200424/11/200424/11/200424/11/200425/11/200425/11/200425/11/200425/11/200425/11/200425/11/200425/11/200425/11/200425/11/200425/11/200425/11/200425/11/200425/11/200425/11/200425/11/200425/11/200425/11/200425/11/200425/11/200425/11/200425/11/200425/11/200425/11/200425/11/200426/11/200426/11/200426/11/200426/11/200426/11/200426/11/200426/11/200426/11/200426/11/200426/11/200426/11/200426/11/200426/11/200426/11/200426/11/200426/11/200426/11/200426/11/200426/11/200426/11/200426/11/200426/11/200426/11/200426/11/200427/11/200427/11/200427/11/200427/11/200427/11/200427/11/200427/11/200427/11/200427/11/200427/11/200427/11/200427/11/200427/11/200427/11/200427/11/200427/11/200427/11/200427/11/200427/11/200427/11/200427/11/200427/11/200427/11/200427/11/200428/11/200428/11/200428/11/200428/11/200428/11/200428/11/200428/11/200428/11/200428/11/200428/11/200428/11/200428/11/200428/11/200428/11/200428/11/200428/11/200428/11/200428/11/200428/11/200428/11/200428/11/200428/11/200428/11/200428/11/200429/11/200429/11/200429/11/200429/11/200429/11/200429/11/200429/11/200429/11/200429/11/200429/11/200429/11/200429/11/200429/11/200429/11/200429/11/200429/11/200429/11/200429/11/200429/11/200429/11/200429/11/200429/11/200429/11/200429/11/200430/11/200430/11/200430/11/200430/11/200430/11/200430/11/200430/11/200430/11/200430/11/200430/11/200430/11/200430/11/200430/11/200430/11/200430/11/200430/11/200430/11/200430/11/200430/11/200430/11/200430/11/200430/11/200430/11/200430/11/200401/12/200401/12/200401/12/200401/12/200401/12/200401/12/200401/12/200401/12/200401/12/200401/12/200401/12/200401/12/200401/12/200401/12/200401/12/200401/12/200401/12/200401/12/200401/12/200401/12/200401/12/200401/12/200401/12/200401/12/200402/12/200402/12/200402/12/200402/12/200402/12/200402/12/200402/12/200402/12/200402/12/200402/12/200402/12/200402/12/200402/12/200402/12/200402/12/200402/12/200402/12/200402/12/200402/12/200402/12/200402/12/200402/12/200402/12/200402/12/200403/12/200403/12/200403/12/200403/12/200403/12/200403/12/200403/12/200403/12/200403/12/200403/12/200403/12/200403/12/200403/12/200403/12/200403/12/200403/12/200403/12/200403/12/200403/12/200403/12/200403/12/200403/12/200403/12/200403/12/200404/12/200404/12/200404/12/200404/12/200404/12/200404/12/200404/12/200404/12/200404/12/200404/12/200404/12/200404/12/200404/12/200404/12/200404/12/200404/12/200404/12/200404/12/200404/12/200404/12/200404/12/200404/12/200404/12/200404/12/200405/12/200405/12/200405/12/200405/12/200405/12/200405/12/200405/12/200405/12/200405/12/200405/12/200405/12/200405/12/200405/12/200405/12/200405/12/200405/12/200405/12/200405/12/200405/12/200405/12/200405/12/200405/12/200405/12/200405/12/200406/12/200406/12/200406/12/200406/12/200406/12/200406/12/200406/12/200406/12/200406/12/200406/12/200406/12/200406/12/200406/12/200406/12/200406/12/200406/12/200406/12/200406/12/200406/12/200406/12/200406/12/200406/12/200406/12/200406/12/200407/12/200407/12/200407/12/200407/12/200407/12/200407/12/200407/12/200407/12/200407/12/200407/12/200407/12/200407/12/200407/12/200407/12/200407/12/200407/12/200407/12/200407/12/200407/12/200407/12/200407/12/200407/12/200407/12/200407/12/200408/12/200408/12/200408/12/200408/12/200408/12/200408/12/200408/12/200408/12/200408/12/200408/12/200408/12/200408/12/200408/12/200408/12/200408/12/200408/12/200408/12/200408/12/200408/12/200408/12/200408/12/200408/12/200408/12/200408/12/200409/12/200409/12/200409/12/200409/12/200409/12/200409/12/200409/12/200409/12/200409/12/200409/12/200409/12/200409/12/200409/12/200409/12/200409/12/200409/12/200409/12/200409/12/200409/12/200409/12/200409/12/200409/12/200409/12/200409/12/200410/12/200410/12/200410/12/200410/12/200410/12/200410/12/200410/12/200410/12/200410/12/200410/12/200410/12/200410/12/200410/12/200410/12/200410/12/200410/12/200410/12/200410/12/200410/12/200410/12/200410/12/200410/12/200410/12/200410/12/200411/12/200411/12/200411/12/200411/12/200411/12/200411/12/200411/12/200411/12/200411/12/200411/12/200411/12/200411/12/200411/12/200411/12/200411/12/200411/12/200411/12/200411/12/200411/12/200411/12/200411/12/200411/12/200411/12/200411/12/200412/12/200412/12/200412/12/200412/12/200412/12/200412/12/200412/12/200412/12/200412/12/200412/12/200412/12/200412/12/200412/12/200412/12/200412/12/200412/12/200412/12/200412/12/200412/12/200412/12/200412/12/200412/12/200412/12/200412/12/200413/12/200413/12/200413/12/200413/12/200413/12/200413/12/200413/12/200413/12/200413/12/200413/12/200413/12/200413/12/200413/12/200413/12/200413/12/200413/12/200413/12/200413/12/200413/12/200413/12/200413/12/200413/12/200413/12/200413/12/200414/12/200414/12/200414/12/200414/12/200414/12/200414/12/200414/12/200414/12/200414/12/200414/12/200414/12/200414/12/200414/12/200414/12/200414/12/200414/12/200414/12/200414/12/200414/12/200414/12/200414/12/200414/12/200414/12/200414/12/200415/12/200415/12/200415/12/200415/12/200415/12/200415/12/200415/12/200415/12/200415/12/200415/12/200415/12/200415/12/200415/12/200415/12/200415/12/200415/12/200415/12/200415/12/200415/12/200415/12/200415/12/200415/12/200415/12/200415/12/200416/12/200416/12/200416/12/200416/12/200416/12/200416/12/200416/12/200416/12/200416/12/200416/12/200416/12/200416/12/200416/12/200416/12/200416/12/200416/12/200416/12/200416/12/200416/12/200416/12/200416/12/200416/12/200416/12/200416/12/200417/12/200417/12/200417/12/200417/12/200417/12/200417/12/200417/12/200417/12/200417/12/200417/12/200417/12/200417/12/200417/12/200417/12/200417/12/200417/12/200417/12/200417/12/200417/12/200417/12/200417/12/200417/12/200417/12/200417/12/200418/12/200418/12/200418/12/200418/12/200418/12/200418/12/200418/12/200418/12/200418/12/200418/12/200418/12/200418/12/200418/12/200418/12/200418/12/200418/12/200418/12/200418/12/200418/12/200418/12/200418/12/200418/12/200418/12/200418/12/200419/12/200419/12/200419/12/200419/12/200419/12/200419/12/200419/12/200419/12/200419/12/200419/12/200419/12/200419/12/200419/12/200419/12/200419/12/200419/12/200419/12/200419/12/200419/12/200419/12/200419/12/200419/12/200419/12/200419/12/200420/12/200420/12/200420/12/200420/12/200420/12/200420/12/200420/12/200420/12/200420/12/200420/12/200420/12/200420/12/200420/12/200420/12/200420/12/200420/12/200420/12/200420/12/200420/12/200420/12/200420/12/200420/12/200420/12/200420/12/200421/12/200421/12/200421/12/200421/12/200421/12/200421/12/200421/12/200421/12/200421/12/200421/12/200421/12/200421/12/200421/12/200421/12/200421/12/200421/12/200421/12/200421/12/200421/12/200421/12/200421/12/200421/12/200421/12/200421/12/200422/12/200422/12/200422/12/200422/12/200422/12/200422/12/200422/12/200422/12/200422/12/200422/12/200422/12/200422/12/200422/12/200422/12/200422/12/200422/12/200422/12/200422/12/200422/12/200422/12/200422/12/200422/12/200422/12/200422/12/200423/12/200423/12/200423/12/200423/12/200423/12/200423/12/200423/12/200423/12/200423/12/200423/12/200423/12/200423/12/200423/12/200423/12/200423/12/200423/12/200423/12/200423/12/200423/12/200423/12/200423/12/200423/12/200423/12/200423/12/200424/12/200424/12/200424/12/200424/12/200424/12/200424/12/200424/12/200424/12/200424/12/200424/12/200424/12/200424/12/200424/12/200424/12/200424/12/200424/12/200424/12/200424/12/200424/12/200424/12/200424/12/200424/12/200424/12/200424/12/200425/12/200425/12/200425/12/200425/12/200425/12/200425/12/200425/12/200425/12/200425/12/200425/12/200425/12/200425/12/200425/12/200425/12/200425/12/200425/12/200425/12/200425/12/200425/12/200425/12/200425/12/200425/12/200425/12/200425/12/200426/12/200426/12/200426/12/200426/12/200426/12/200426/12/200426/12/200426/12/200426/12/200426/12/200426/12/200426/12/200426/12/200426/12/200426/12/200426/12/200426/12/200426/12/200426/12/200426/12/200426/12/200426/12/200426/12/200426/12/200427/12/200427/12/200427/12/200427/12/200427/12/200427/12/200427/12/200427/12/200427/12/200427/12/200427/12/200427/12/200427/12/200427/12/200427/12/200427/12/200427/12/200427/12/200427/12/200427/12/200427/12/200427/12/200427/12/200427/12/200428/12/200428/12/200428/12/200428/12/200428/12/200428/12/200428/12/200428/12/200428/12/200428/12/200428/12/200428/12/200428/12/200428/12/200428/12/200428/12/200428/12/200428/12/200428/12/200428/12/200428/12/200428/12/200428/12/200428/12/200429/12/200429/12/200429/12/200429/12/200429/12/200429/12/200429/12/200429/12/200429/12/200429/12/200429/12/200429/12/200429/12/200429/12/200429/12/200429/12/200429/12/200429/12/200429/12/200429/12/200429/12/200429/12/200429/12/200429/12/200430/12/200430/12/200430/12/200430/12/200430/12/200430/12/200430/12/200430/12/200430/12/200430/12/200430/12/200430/12/200430/12/200430/12/200430/12/200430/12/200430/12/200430/12/200430/12/200430/12/200430/12/200430/12/200430/12/200430/12/200431/12/200431/12/200431/12/200431/12/200431/12/200431/12/200431/12/200431/12/200431/12/200431/12/200431/12/200431/12/200431/12/200431/12/200431/12/200431/12/200431/12/200431/12/200431/12/200431/12/200431/12/200431/12/200431/12/200431/12/200401/01/200501/01/200501/01/200501/01/200501/01/200501/01/200501/01/200501/01/200501/01/200501/01/200501/01/200501/01/200501/01/200501/01/200501/01/200501/01/200501/01/200501/01/200501/01/200501/01/200501/01/200501/01/200501/01/200501/01/200502/01/200502/01/200502/01/200502/01/200502/01/200502/01/200502/01/200502/01/200502/01/200502/01/200502/01/200502/01/200502/01/200502/01/200502/01/200502/01/200502/01/200502/01/200502/01/200502/01/200502/01/200502/01/200502/01/200502/01/200503/01/200503/01/200503/01/200503/01/200503/01/200503/01/200503/01/200503/01/200503/01/200503/01/200503/01/200503/01/200503/01/200503/01/200503/01/200503/01/200503/01/200503/01/200503/01/200503/01/200503/01/200503/01/200503/01/200503/01/200504/01/200504/01/200504/01/200504/01/200504/01/200504/01/200504/01/200504/01/200504/01/200504/01/200504/01/200504/01/200504/01/200504/01/200504/01/200504/01/200504/01/200504/01/200504/01/200504/01/200504/01/200504/01/200504/01/200504/01/200505/01/200505/01/200505/01/200505/01/200505/01/200505/01/200505/01/200505/01/200505/01/200505/01/200505/01/200505/01/200505/01/200505/01/200505/01/200505/01/200505/01/200505/01/200505/01/200505/01/200505/01/200505/01/200505/01/200505/01/200506/01/200506/01/200506/01/200506/01/200506/01/200506/01/200506/01/200506/01/200506/01/200506/01/200506/01/200506/01/200506/01/200506/01/200506/01/200506/01/200506/01/200506/01/200506/01/200506/01/200506/01/200506/01/200506/01/200506/01/200507/01/200507/01/200507/01/200507/01/200507/01/200507/01/200507/01/200507/01/200507/01/200507/01/200507/01/200507/01/200507/01/200507/01/200507/01/200507/01/200507/01/200507/01/200507/01/200507/01/200507/01/200507/01/200507/01/200507/01/200508/01/200508/01/200508/01/200508/01/200508/01/200508/01/200508/01/200508/01/200508/01/200508/01/200508/01/200508/01/200508/01/200508/01/200508/01/200508/01/200508/01/200508/01/200508/01/200508/01/200508/01/200508/01/200508/01/200508/01/200509/01/200509/01/200509/01/200509/01/200509/01/200509/01/200509/01/200509/01/200509/01/200509/01/200509/01/200509/01/200509/01/200509/01/200509/01/200509/01/200509/01/200509/01/200509/01/200509/01/200509/01/200509/01/200509/01/200509/01/200510/01/200510/01/200510/01/200510/01/200510/01/200510/01/200510/01/200510/01/200510/01/200510/01/200510/01/200510/01/200510/01/200510/01/200510/01/200510/01/200510/01/200510/01/200510/01/200510/01/200510/01/200510/01/200510/01/200510/01/200511/01/200511/01/200511/01/200511/01/200511/01/200511/01/200511/01/200511/01/200511/01/200511/01/200511/01/200511/01/200511/01/200511/01/200511/01/200511/01/200511/01/200511/01/200511/01/200511/01/200511/01/200511/01/200511/01/200511/01/200512/01/200512/01/200512/01/200512/01/200512/01/200512/01/200512/01/200512/01/200512/01/200512/01/200512/01/200512/01/200512/01/200512/01/200512/01/200512/01/200512/01/200512/01/200512/01/200512/01/200512/01/200512/01/200512/01/200512/01/200513/01/200513/01/200513/01/200513/01/200513/01/200513/01/200513/01/200513/01/200513/01/200513/01/200513/01/200513/01/200513/01/200513/01/200513/01/200513/01/200513/01/200513/01/200513/01/200513/01/200513/01/200513/01/200513/01/200513/01/200514/01/200514/01/200514/01/200514/01/200514/01/200514/01/200514/01/200514/01/200514/01/200514/01/200514/01/200514/01/200514/01/200514/01/200514/01/200514/01/200514/01/200514/01/200514/01/200514/01/200514/01/200514/01/200514/01/200514/01/200515/01/200515/01/200515/01/200515/01/200515/01/200515/01/200515/01/200515/01/200515/01/200515/01/200515/01/200515/01/200515/01/200515/01/200515/01/200515/01/200515/01/200515/01/200515/01/200515/01/200515/01/200515/01/200515/01/200515/01/200516/01/200516/01/200516/01/200516/01/200516/01/200516/01/200516/01/200516/01/200516/01/200516/01/200516/01/200516/01/200516/01/200516/01/200516/01/200516/01/200516/01/200516/01/200516/01/200516/01/200516/01/200516/01/200516/01/200516/01/200517/01/200517/01/200517/01/200517/01/200517/01/200517/01/200517/01/200517/01/200517/01/200517/01/200517/01/200517/01/200517/01/200517/01/200517/01/200517/01/200517/01/200517/01/200517/01/200517/01/200517/01/200517/01/200517/01/200517/01/200518/01/200518/01/200518/01/200518/01/200518/01/200518/01/200518/01/200518/01/200518/01/200518/01/200518/01/200518/01/200518/01/200518/01/200518/01/200518/01/200518/01/200518/01/200518/01/200518/01/200518/01/200518/01/200518/01/200518/01/200519/01/200519/01/200519/01/200519/01/200519/01/200519/01/200519/01/200519/01/200519/01/200519/01/200519/01/200519/01/200519/01/200519/01/200519/01/200519/01/200519/01/200519/01/200519/01/200519/01/200519/01/200519/01/200519/01/200519/01/200520/01/200520/01/200520/01/200520/01/200520/01/200520/01/200520/01/200520/01/200520/01/200520/01/200520/01/200520/01/200520/01/200520/01/200520/01/200520/01/200520/01/200520/01/200520/01/200520/01/200520/01/200520/01/200520/01/200520/01/200521/01/200521/01/200521/01/200521/01/200521/01/200521/01/200521/01/200521/01/200521/01/200521/01/200521/01/200521/01/200521/01/200521/01/200521/01/200521/01/200521/01/200521/01/200521/01/200521/01/200521/01/200521/01/200521/01/200521/01/200522/01/200522/01/200522/01/200522/01/200522/01/200522/01/200522/01/200522/01/200522/01/200522/01/200522/01/200522/01/200522/01/200522/01/200522/01/200522/01/200522/01/200522/01/200522/01/200522/01/200522/01/200522/01/200522/01/200522/01/200523/01/200523/01/200523/01/200523/01/200523/01/200523/01/200523/01/200523/01/200523/01/200523/01/200523/01/200523/01/200523/01/200523/01/200523/01/200523/01/200523/01/200523/01/200523/01/200523/01/200523/01/200523/01/200523/01/200523/01/200524/01/200524/01/200524/01/200524/01/200524/01/200524/01/200524/01/200524/01/200524/01/200524/01/200524/01/200524/01/200524/01/200524/01/200524/01/200524/01/200524/01/200524/01/200524/01/200524/01/200524/01/200524/01/200524/01/200524/01/200525/01/200525/01/200525/01/200525/01/200525/01/200525/01/200525/01/200525/01/200525/01/200525/01/200525/01/200525/01/200525/01/200525/01/200525/01/200525/01/200525/01/200525/01/200525/01/200525/01/200525/01/200525/01/200525/01/200525/01/200526/01/200526/01/200526/01/200526/01/200526/01/200526/01/200526/01/200526/01/200526/01/200526/01/200526/01/200526/01/200526/01/200526/01/200526/01/200526/01/200526/01/200526/01/200526/01/200526/01/200526/01/200526/01/200526/01/200526/01/200527/01/200527/01/200527/01/200527/01/200527/01/200527/01/200527/01/200527/01/200527/01/200527/01/200527/01/200527/01/200527/01/200527/01/200527/01/200527/01/200527/01/200527/01/200527/01/200527/01/200527/01/200527/01/200527/01/200527/01/200528/01/200528/01/200528/01/200528/01/200528/01/200528/01/200528/01/200528/01/200528/01/200528/01/200528/01/200528/01/200528/01/200528/01/200528/01/200528/01/200528/01/200528/01/200528/01/200528/01/200528/01/200528/01/200528/01/200528/01/200529/01/200529/01/200529/01/200529/01/200529/01/200529/01/200529/01/200529/01/200529/01/200529/01/200529/01/200529/01/200529/01/200529/01/200529/01/200529/01/200529/01/200529/01/200529/01/200529/01/200529/01/200529/01/200529/01/200529/01/200530/01/200530/01/200530/01/200530/01/200530/01/200530/01/200530/01/200530/01/200530/01/200530/01/200530/01/200530/01/200530/01/200530/01/200530/01/200530/01/200530/01/200530/01/200530/01/200530/01/200530/01/200530/01/200530/01/200530/01/200531/01/200531/01/200531/01/200531/01/200531/01/200531/01/200531/01/200531/01/200531/01/200531/01/200531/01/200531/01/200531/01/200531/01/200531/01/200531/01/200531/01/200531/01/200531/01/200531/01/200531/01/200531/01/200531/01/200531/01/200501/02/200501/02/200501/02/200501/02/200501/02/200501/02/200501/02/200501/02/200501/02/200501/02/200501/02/200501/02/200501/02/200501/02/200501/02/200501/02/200501/02/200501/02/200501/02/200501/02/200501/02/200501/02/200501/02/200501/02/200502/02/200502/02/200502/02/200502/02/200502/02/200502/02/200502/02/200502/02/200502/02/200502/02/200502/02/200502/02/200502/02/200502/02/200502/02/200502/02/200502/02/200502/02/200502/02/200502/02/200502/02/200502/02/200502/02/200502/02/200503/02/200503/02/200503/02/200503/02/200503/02/200503/02/200503/02/200503/02/200503/02/200503/02/200503/02/200503/02/200503/02/200503/02/200503/02/200503/02/200503/02/200503/02/200503/02/200503/02/200503/02/200503/02/200503/02/200503/02/200504/02/200504/02/200504/02/200504/02/200504/02/200504/02/200504/02/200504/02/200504/02/200504/02/200504/02/200504/02/200504/02/200504/02/200504/02/200504/02/200504/02/200504/02/200504/02/200504/02/200504/02/200504/02/200504/02/200504/02/200505/02/200505/02/200505/02/200505/02/200505/02/200505/02/200505/02/200505/02/200505/02/200505/02/200505/02/200505/02/200505/02/200505/02/200505/02/200505/02/200505/02/200505/02/200505/02/200505/02/200505/02/200505/02/200505/02/200505/02/200506/02/200506/02/200506/02/200506/02/200506/02/200506/02/200506/02/200506/02/200506/02/200506/02/200506/02/200506/02/200506/02/200506/02/200506/02/200506/02/200506/02/200506/02/200506/02/200506/02/200506/02/200506/02/200506/02/200506/02/200507/02/200507/02/200507/02/200507/02/200507/02/200507/02/200507/02/200507/02/200507/02/200507/02/200507/02/200507/02/200507/02/200507/02/200507/02/200507/02/200507/02/200507/02/200507/02/200507/02/200507/02/200507/02/200507/02/200507/02/200508/02/200508/02/200508/02/200508/02/200508/02/200508/02/200508/02/200508/02/200508/02/200508/02/200508/02/200508/02/200508/02/200508/02/200508/02/200508/02/200508/02/200508/02/200508/02/200508/02/200508/02/200508/02/200508/02/200508/02/200509/02/200509/02/200509/02/200509/02/200509/02/200509/02/200509/02/200509/02/200509/02/200509/02/200509/02/200509/02/200509/02/200509/02/200509/02/200509/02/200509/02/200509/02/200509/02/200509/02/200509/02/200509/02/200509/02/200509/02/200510/02/200510/02/200510/02/200510/02/200510/02/200510/02/200510/02/200510/02/200510/02/200510/02/200510/02/200510/02/200510/02/200510/02/200510/02/200510/02/200510/02/200510/02/200510/02/200510/02/200510/02/200510/02/200510/02/200510/02/200511/02/200511/02/200511/02/200511/02/200511/02/200511/02/200511/02/200511/02/200511/02/200511/02/200511/02/200511/02/200511/02/200511/02/200511/02/200511/02/200511/02/200511/02/200511/02/200511/02/200511/02/200511/02/200511/02/200511/02/200512/02/200512/02/200512/02/200512/02/200512/02/200512/02/200512/02/200512/02/200512/02/200512/02/200512/02/200512/02/200512/02/200512/02/200512/02/200512/02/200512/02/200512/02/200512/02/200512/02/200512/02/200512/02/200512/02/200512/02/200513/02/200513/02/200513/02/200513/02/200513/02/200513/02/200513/02/200513/02/200513/02/200513/02/200513/02/200513/02/200513/02/200513/02/200513/02/200513/02/200513/02/200513/02/200513/02/200513/02/200513/02/200513/02/200513/02/200513/02/200514/02/200514/02/200514/02/200514/02/200514/02/200514/02/200514/02/200514/02/200514/02/200514/02/200514/02/200514/02/200514/02/200514/02/200514/02/200514/02/200514/02/200514/02/200514/02/200514/02/200514/02/200514/02/200514/02/200514/02/200515/02/200515/02/200515/02/200515/02/200515/02/200515/02/200515/02/200515/02/200515/02/200515/02/200515/02/200515/02/200515/02/200515/02/200515/02/200515/02/200515/02/200515/02/200515/02/200515/02/200515/02/200515/02/200515/02/200515/02/200516/02/200516/02/200516/02/200516/02/200516/02/200516/02/200516/02/200516/02/200516/02/200516/02/200516/02/200516/02/200516/02/200516/02/200516/02/200516/02/200516/02/200516/02/200516/02/200516/02/200516/02/200516/02/200516/02/200516/02/200517/02/200517/02/200517/02/200517/02/200517/02/200517/02/200517/02/200517/02/200517/02/200517/02/200517/02/200517/02/200517/02/200517/02/200517/02/200517/02/200517/02/200517/02/200517/02/200517/02/200517/02/200517/02/200517/02/200517/02/200518/02/200518/02/200518/02/200518/02/200518/02/200518/02/200518/02/200518/02/200518/02/200518/02/200518/02/200518/02/200518/02/200518/02/200518/02/200518/02/200518/02/200518/02/200518/02/200518/02/200518/02/200518/02/200518/02/200518/02/200519/02/200519/02/200519/02/200519/02/200519/02/200519/02/200519/02/200519/02/200519/02/200519/02/200519/02/200519/02/200519/02/200519/02/200519/02/200519/02/200519/02/200519/02/200519/02/200519/02/200519/02/200519/02/200519/02/200519/02/200520/02/200520/02/200520/02/200520/02/200520/02/200520/02/200520/02/200520/02/200520/02/200520/02/200520/02/200520/02/200520/02/200520/02/200520/02/200520/02/200520/02/200520/02/200520/02/200520/02/200520/02/200520/02/200520/02/200520/02/200521/02/200521/02/200521/02/200521/02/200521/02/200521/02/200521/02/200521/02/200521/02/200521/02/200521/02/200521/02/200521/02/200521/02/200521/02/200521/02/200521/02/200521/02/200521/02/200521/02/200521/02/200521/02/200521/02/200521/02/200522/02/200522/02/200522/02/200522/02/200522/02/200522/02/200522/02/200522/02/200522/02/200522/02/200522/02/200522/02/200522/02/200522/02/200522/02/200522/02/200522/02/200522/02/200522/02/200522/02/200522/02/200522/02/200522/02/200522/02/200523/02/200523/02/200523/02/200523/02/200523/02/200523/02/200523/02/200523/02/200523/02/200523/02/200523/02/200523/02/200523/02/200523/02/200523/02/200523/02/200523/02/200523/02/200523/02/200523/02/200523/02/200523/02/200523/02/200523/02/200524/02/200524/02/200524/02/200524/02/200524/02/200524/02/200524/02/200524/02/200524/02/200524/02/200524/02/200524/02/200524/02/200524/02/200524/02/200524/02/200524/02/200524/02/200524/02/200524/02/200524/02/200524/02/200524/02/200524/02/200525/02/200525/02/200525/02/200525/02/200525/02/200525/02/200525/02/200525/02/200525/02/200525/02/200525/02/200525/02/200525/02/200525/02/200525/02/200525/02/200525/02/200525/02/200525/02/200525/02/200525/02/200525/02/200525/02/200525/02/200526/02/200526/02/200526/02/200526/02/200526/02/200526/02/200526/02/200526/02/200526/02/200526/02/200526/02/200526/02/200526/02/200526/02/200526/02/200526/02/200526/02/200526/02/200526/02/200526/02/200526/02/200526/02/200526/02/200526/02/200527/02/200527/02/200527/02/200527/02/200527/02/200527/02/200527/02/200527/02/200527/02/200527/02/200527/02/200527/02/200527/02/200527/02/200527/02/200527/02/200527/02/200527/02/200527/02/200527/02/200527/02/200527/02/200527/02/200527/02/200528/02/200528/02/200528/02/200528/02/200528/02/200528/02/200528/02/200528/02/200528/02/200528/02/200528/02/200528/02/200528/02/200528/02/200528/02/200528/02/200528/02/200528/02/200528/02/200528/02/200528/02/200528/02/200528/02/200528/02/200501/03/200501/03/200501/03/200501/03/200501/03/200501/03/200501/03/200501/03/200501/03/200501/03/200501/03/200501/03/200501/03/200501/03/200501/03/200501/03/200501/03/200501/03/200501/03/200501/03/200501/03/200501/03/200501/03/200501/03/200502/03/200502/03/200502/03/200502/03/200502/03/200502/03/200502/03/200502/03/200502/03/200502/03/200502/03/200502/03/200502/03/200502/03/200502/03/200502/03/200502/03/200502/03/200502/03/200502/03/200502/03/200502/03/200502/03/200502/03/200503/03/200503/03/200503/03/200503/03/200503/03/200503/03/200503/03/200503/03/200503/03/200503/03/200503/03/200503/03/200503/03/200503/03/200503/03/200503/03/200503/03/200503/03/200503/03/200503/03/200503/03/200503/03/200503/03/200503/03/200504/03/200504/03/200504/03/200504/03/200504/03/200504/03/200504/03/200504/03/200504/03/200504/03/200504/03/200504/03/200504/03/200504/03/200504/03/200504/03/200504/03/200504/03/200504/03/200504/03/200504/03/200504/03/200504/03/200504/03/200505/03/200505/03/200505/03/200505/03/200505/03/200505/03/200505/03/200505/03/200505/03/200505/03/200505/03/200505/03/200505/03/200505/03/200505/03/200505/03/200505/03/200505/03/200505/03/200505/03/200505/03/200505/03/200505/03/200505/03/200506/03/200506/03/200506/03/200506/03/200506/03/200506/03/200506/03/200506/03/200506/03/200506/03/200506/03/200506/03/200506/03/200506/03/200506/03/200506/03/200506/03/200506/03/200506/03/200506/03/200506/03/200506/03/200506/03/200506/03/200507/03/200507/03/200507/03/200507/03/200507/03/200507/03/200507/03/200507/03/200507/03/200507/03/200507/03/200507/03/200507/03/200507/03/200507/03/200507/03/200507/03/200507/03/200507/03/200507/03/200507/03/200507/03/200507/03/200507/03/200508/03/200508/03/200508/03/200508/03/200508/03/200508/03/200508/03/200508/03/200508/03/200508/03/200508/03/200508/03/200508/03/200508/03/200508/03/200508/03/200508/03/200508/03/200508/03/200508/03/200508/03/200508/03/200508/03/200508/03/200509/03/200509/03/200509/03/200509/03/200509/03/200509/03/200509/03/200509/03/200509/03/200509/03/200509/03/200509/03/200509/03/200509/03/200509/03/200509/03/200509/03/200509/03/200509/03/200509/03/200509/03/200509/03/200509/03/200509/03/200510/03/200510/03/200510/03/200510/03/200510/03/200510/03/200510/03/200510/03/200510/03/200510/03/200510/03/200510/03/200510/03/200510/03/200510/03/200510/03/200510/03/200510/03/200510/03/200510/03/200510/03/200510/03/200510/03/200510/03/200511/03/200511/03/200511/03/200511/03/200511/03/200511/03/200511/03/200511/03/200511/03/200511/03/200511/03/200511/03/200511/03/200511/03/200511/03/200511/03/200511/03/200511/03/200511/03/200511/03/200511/03/200511/03/200511/03/200511/03/200512/03/200512/03/200512/03/200512/03/200512/03/200512/03/200512/03/200512/03/200512/03/200512/03/200512/03/200512/03/200512/03/200512/03/200512/03/200512/03/200512/03/200512/03/200512/03/200512/03/200512/03/200512/03/200512/03/200512/03/200513/03/200513/03/200513/03/200513/03/200513/03/200513/03/200513/03/200513/03/200513/03/200513/03/200513/03/200513/03/200513/03/200513/03/200513/03/200513/03/200513/03/200513/03/200513/03/200513/03/200513/03/200513/03/200513/03/200513/03/200514/03/200514/03/200514/03/200514/03/200514/03/200514/03/200514/03/200514/03/200514/03/200514/03/200514/03/200514/03/200514/03/200514/03/200514/03/200514/03/200514/03/200514/03/200514/03/200514/03/200514/03/200514/03/200514/03/200514/03/200515/03/200515/03/200515/03/200515/03/200515/03/200515/03/200515/03/200515/03/200515/03/200515/03/200515/03/200515/03/200515/03/200515/03/200515/03/200515/03/200515/03/200515/03/200515/03/200515/03/200515/03/200515/03/200515/03/200515/03/200516/03/200516/03/200516/03/200516/03/200516/03/200516/03/200516/03/200516/03/200516/03/200516/03/200516/03/200516/03/200516/03/200516/03/200516/03/200516/03/200516/03/200516/03/200516/03/200516/03/200516/03/200516/03/200516/03/200516/03/200517/03/200517/03/200517/03/200517/03/200517/03/200517/03/200517/03/200517/03/200517/03/200517/03/200517/03/200517/03/200517/03/200517/03/200517/03/200517/03/200517/03/200517/03/200517/03/200517/03/200517/03/200517/03/200517/03/200517/03/200518/03/200518/03/200518/03/200518/03/200518/03/200518/03/200518/03/200518/03/200518/03/200518/03/200518/03/200518/03/200518/03/200518/03/200518/03/200518/03/200518/03/200518/03/200518/03/200518/03/200518/03/200518/03/200518/03/200518/03/200519/03/200519/03/200519/03/200519/03/200519/03/200519/03/200519/03/200519/03/200519/03/200519/03/200519/03/200519/03/200519/03/200519/03/200519/03/200519/03/200519/03/200519/03/200519/03/200519/03/200519/03/200519/03/200519/03/200519/03/200520/03/200520/03/200520/03/200520/03/200520/03/200520/03/200520/03/200520/03/200520/03/200520/03/200520/03/200520/03/200520/03/200520/03/200520/03/200520/03/200520/03/200520/03/200520/03/200520/03/200520/03/200520/03/200520/03/200520/03/200521/03/200521/03/200521/03/200521/03/200521/03/200521/03/200521/03/200521/03/200521/03/200521/03/200521/03/200521/03/200521/03/200521/03/200521/03/200521/03/200521/03/200521/03/200521/03/200521/03/200521/03/200521/03/200521/03/200521/03/200522/03/200522/03/200522/03/200522/03/200522/03/200522/03/200522/03/200522/03/200522/03/200522/03/200522/03/200522/03/200522/03/200522/03/200522/03/200522/03/200522/03/200522/03/200522/03/200522/03/200522/03/200522/03/200522/03/200522/03/200523/03/200523/03/200523/03/200523/03/200523/03/200523/03/200523/03/200523/03/200523/03/200523/03/200523/03/200523/03/200523/03/200523/03/200523/03/200523/03/200523/03/200523/03/200523/03/200523/03/200523/03/200523/03/200523/03/200523/03/200524/03/200524/03/200524/03/200524/03/200524/03/200524/03/200524/03/200524/03/200524/03/200524/03/200524/03/200524/03/200524/03/200524/03/200524/03/200524/03/200524/03/200524/03/200524/03/200524/03/200524/03/200524/03/200524/03/200524/03/200525/03/200525/03/200525/03/200525/03/200525/03/200525/03/200525/03/200525/03/200525/03/200525/03/200525/03/200525/03/200525/03/200525/03/200525/03/200525/03/200525/03/200525/03/200525/03/200525/03/200525/03/200525/03/200525/03/200525/03/200526/03/200526/03/200526/03/200526/03/200526/03/200526/03/200526/03/200526/03/200526/03/200526/03/200526/03/200526/03/200526/03/200526/03/200526/03/200526/03/200526/03/200526/03/200526/03/200526/03/200526/03/200526/03/200526/03/200526/03/200527/03/200527/03/200527/03/200527/03/200527/03/200527/03/200527/03/200527/03/200527/03/200527/03/200527/03/200527/03/200527/03/200527/03/200527/03/200527/03/200527/03/200527/03/200527/03/200527/03/200527/03/200527/03/200527/03/200527/03/200528/03/200528/03/200528/03/200528/03/200528/03/200528/03/200528/03/200528/03/200528/03/200528/03/200528/03/200528/03/200528/03/200528/03/200528/03/200528/03/200528/03/200528/03/200528/03/200528/03/200528/03/200528/03/200528/03/200528/03/200529/03/200529/03/200529/03/200529/03/200529/03/200529/03/200529/03/200529/03/200529/03/200529/03/200529/03/200529/03/200529/03/200529/03/200529/03/200529/03/200529/03/200529/03/200529/03/200529/03/200529/03/200529/03/200529/03/200529/03/200530/03/200530/03/200530/03/200530/03/200530/03/200530/03/200530/03/200530/03/200530/03/200530/03/200530/03/200530/03/200530/03/200530/03/200530/03/200530/03/200530/03/200530/03/200530/03/200530/03/200530/03/200530/03/200530/03/200530/03/200531/03/200531/03/200531/03/200531/03/200531/03/200531/03/200531/03/200531/03/200531/03/200531/03/200531/03/200531/03/200531/03/200531/03/200531/03/200531/03/200531/03/200531/03/200531/03/200531/03/200531/03/200531/03/200531/03/200531/03/200501/04/200501/04/200501/04/200501/04/200501/04/200501/04/200501/04/200501/04/200501/04/200501/04/200501/04/200501/04/200501/04/200501/04/200501/04/200501/04/200501/04/200501/04/200501/04/200501/04/200501/04/200501/04/200501/04/200501/04/200502/04/200502/04/200502/04/200502/04/200502/04/200502/04/200502/04/200502/04/200502/04/200502/04/200502/04/200502/04/200502/04/200502/04/200502/04/200502/04/200502/04/200502/04/200502/04/200502/04/200502/04/200502/04/200502/04/200502/04/200503/04/200503/04/200503/04/200503/04/200503/04/200503/04/200503/04/200503/04/200503/04/200503/04/200503/04/200503/04/200503/04/200503/04/200503/04/200503/04/200503/04/200503/04/200503/04/200503/04/200503/04/200503/04/200503/04/200503/04/200504/04/200504/04/200504/04/200504/04/200504/04/200504/04/200504/04/200504/04/200504/04/200504/04/200504/04/200504/04/200504/04/200504/04/200504/04/2005'\n '18.00.0019.00.0020.00.0021.00.0022.00.0023.00.0000.00.0001.00.0002.00.0003.00.0004.00.0005.00.0006.00.0007.00.0008.00.0009.00.0010.00.0011.00.0012.00.0013.00.0014.00.0015.00.0016.00.0017.00.0018.00.0019.00.0020.00.0021.00.0022.00.0023.00.0000.00.0001.00.0002.00.0003.00.0004.00.0005.00.0006.00.0007.00.0008.00.0009.00.0010.00.0011.00.0012.00.0013.00.0014.00.0015.00.0016.00.0017.00.0018.00.0019.00.0020.00.0021.00.0022.00.0023.00.0000.00.0001.00.0002.00.0003.00.0004.00.0005.00.0006.00.0007.00.0008.00.0009.00.0010.00.0011.00.0012.00.0013.00.0014.00.0015.00.0016.00.0017.00.0018.00.0019.00.0020.00.0021.00.0022.00.0023.00.0000.00.0001.00.0002.00.0003.00.0004.00.0005.00.0006.00.0007.00.0008.00.0009.00.0010.00.0011.00.0012.00.0013.00.0014.00.0015.00.0016.00.0017.00.0018.00.0019.00.0020.00.0021.00.0022.00.0023.00.0000.00.0001.00.0002.00.0003.00.0004.00.0005.00.0006.00.0007.00.0008.00.0009.00.0010.00.0011.00.0012.00.0013.00.0014.00.0015.00.0016.00.0017.00.0018.00.0019.00.0020.00.0021.00.0022.00.0023.00.0000.00.0001.00.0002.00.0003.00.0004.00.0005.00.0006.00.0007.00.0008.00.0009.00.0010.00.0011.00.0012.00.0013.00.0014.00.0015.00.0016.00.0017.00.0018.00.0019.00.0020.00.0021.00.0022.00.0023.00.0000.00.0001.00.0002.00.0003.00.0004.00.0005.00.0006.00.0007.00.0008.00.0009.00.0010.00.0011.00.0012.00.0013.00.0014.00.0015.00.0016.00.0017.00.0018.00.0019.00.0020.00.0021.00.0022.00.0023.00.0000.00.0001.00.0002.00.0003.00.0004.00.0005.00.0006.00.0007.00.0008.00.0009.00.0010.00.0011.00.0012.00.0013.00.0014.00.0015.00.0016.00.0017.00.0018.00.0019.00.0020.00.0021.00.0022.00.0023.00.0000.00.0001.00.0002.00.0003.00.0004.00.0005.00.0006.00.0007.00.0008.00.0009.00.0010.00.0011.00.0012.00.0013.00.0014.00.0015.00.0016.00.0017.00.0018.00.0019.00.0020.00.0021.00.0022.00.0023.00.0000.00.0001.00.0002.00.0003.00.0004.00.0005.00.0006.00.0007.00.0008.00.0009.00.0010.00.0011.00.0012.00.0013.00.0014.00.0015.00.0016.00.0017.00.0018.00.0019.00.0020.00.0021.00.0022.00.0023.00.0000.00.0001.00.0002.00.0003.00.0004.00.0005.00.0006.00.0007.00.0008.00.0009.00.0010.00.0011.00.0012.00.0013.00.0014.00.0015.00.0016.00.0017.00.0018.00.0019.00.0020.00.0021.00.0022.00.0023.00.0000.00.0001.00.0002.00.0003.00.0004.00.0005.00.0006.00.0007.00.0008.00.0009.00.0010.00.0011.00.0012.00.0013.00.0014.00.0015.00.0016.00.0017.00.0018.00.0019.00.0020.00.0021.00.0022.00.0023.00.0000.00.0001.00.0002.00.0003.00.0004.00.0005.00.0006.00.0007.00.0008.00.0009.00.0010.00.0011.00.0012.00.0013.00.0014.00.0015.00.0016.00.0017.00.0018.00.0019.00.0020.00.0021.00.0022.00.0023.00.0000.00.0001.00.0002.00.0003.00.0004.00.0005.00.0006.00.0007.00.0008.00.0009.00.0010.00.0011.00.0012.00.0013.00.0014.00.0015.00.0016.00.0017.00.0018.00.0019.00.0020.00.0021.00.0022.00.0023.00.0000.00.0001.00.0002.00.0003.00.0004.00.0005.00.0006.00.0007.00.0008.00.0009.00.0010.00.0011.00.0012.00.0013.00.0014.00.0015.00.0016.00.0017.00.0018.00.0019.00.0020.00.0021.00.0022.00.0023.00.0000.00.0001.00.0002.00.0003.00.0004.00.0005.00.0006.00.0007.00.0008.00.0009.00.0010.00.0011.00.0012.00.0013.00.0014.00.0015.00.0016.00.0017.00.0018.00.0019.00.0020.00.0021.00.0022.00.0023.00.0000.00.0001.00.0002.00.0003.00.0004.00.0005.00.0006.00.0007.00.0008.00.0009.00.0010.00.0011.00.0012.00.0013.00.0014.00.0015.00.0016.00.0017.00.0018.00.0019.00.0020.00.0021.00.0022.00.0023.00.0000.00.0001.00.0002.00.0003.00.0004.00.0005.00.0006.00.0007.00.0008.00.0009.00.0010.00.0011.00.0012.00.0013.00.0014.00.0015.00.0016.00.0017.00.0018.00.0019.00.0020.00.0021.00.0022.00.0023.00.0000.00.0001.00.0002.00.0003.00.0004.00.0005.00.0006.00.0007.00.0008.00.0009.00.0010.00.0011.00.0012.00.0013.00.0014.00.0015.00.0016.00.0017.00.0018.00.0019.00.0020.00.0021.00.0022.00.0023.00.0000.00.0001.00.0002.00.0003.00.0004.00.0005.00.0006.00.0007.00.0008.00.0009.00.0010.00.0011.00.0012.00.0013.00.0014.00.0015.00.0016.00.0017.00.0018.00.0019.00.0020.00.0021.00.0022.00.0023.00.0000.00.0001.00.0002.00.0003.00.0004.00.0005.00.0006.00.0007.00.0008.00.0009.00.0010.00.0011.00.0012.00.0013.00.0014.00.0015.00.0016.00.0017.00.0018.00.0019.00.0020.00.0021.00.0022.00.0023.00.0000.00.0001.00.0002.00.0003.00.0004.00.0005.00.0006.00.0007.00.0008.00.0009.00.0010.00.0011.00.0012.00.0013.00.0014.00.0015.00.0016.00.0017.00.0018.00.0019.00.0020.00.0021.00.0022.00.0023.00.0000.00.0001.00.0002.00.0003.00.0004.00.0005.00.0006.00.0007.00.0008.00.0009.00.0010.00.0011.00.0012.00.0013.00.0014.00.0015.00.0016.00.0017.00.0018.00.0019.00.0020.00.0021.00.0022.00.0023.00.0000.00.0001.00.0002.00.0003.00.0004.00.0005.00.0006.00.0007.00.0008.00.0009.00.0010.00.0011.00.0012.00.0013.00.0014.00.0015.00.0016.00.0017.00.0018.00.0019.00.0020.00.0021.00.0022.00.0023.00.0000.00.0001.00.0002.00.0003.00.0004.00.0005.00.0006.00.0007.00.0008.00.0009.00.0010.00.0011.00.0012.00.0013.00.0014.00.0015.00.0016.00.0017.00.0018.00.0019.00.0020.00.0021.00.0022.00.0023.00.0000.00.0001.00.0002.00.0003.00.0004.00.0005.00.0006.00.0007.00.0008.00.0009.00.0010.00.0011.00.0012.00.0013.00.0014.00.0015.00.0016.00.0017.00.0018.00.0019.00.0020.00.0021.00.0022.00.0023.00.0000.00.0001.00.0002.00.0003.00.0004.00.0005.00.0006.00.0007.00.0008.00.0009.00.0010.00.0011.00.0012.00.0013.00.0014.00.0015.00.0016.00.0017.00.0018.00.0019.00.0020.00.0021.00.0022.00.0023.00.0000.00.0001.00.0002.00.0003.00.0004.00.0005.00.0006.00.0007.00.0008.00.0009.00.0010.00.0011.00.0012.00.0013.00.0014.00.0015.00.0016.00.0017.00.0018.00.0019.00.0020.00.0021.00.0022.00.0023.00.0000.00.0001.00.0002.00.0003.00.0004.00.0005.00.0006.00.0007.00.0008.00.0009.00.0010.00.0011.00.0012.00.0013.00.0014.00.0015.00.0016.00.0017.00.0018.00.0019.00.0020.00.0021.00.0022.00.0023.00.0000.00.0001.00.0002.00.0003.00.0004.00.0005.00.0006.00.0007.00.0008.00.0009.00.0010.00.0011.00.0012.00.0013.00.0014.00.0015.00.0016.00.0017.00.0018.00.0019.00.0020.00.0021.00.0022.00.0023.00.0000.00.0001.00.0002.00.0003.00.0004.00.0005.00.0006.00.0007.00.0008.00.0009.00.0010.00.0011.00.0012.00.0013.00.0014.00.0015.00.0016.00.0017.00.0018.00.0019.00.0020.00.0021.00.0022.00.0023.00.0000.00.0001.00.0002.00.0003.00.0004.00.0005.00.0006.00.0007.00.0008.00.0009.00.0010.00.0011.00.0012.00.0013.00.0014.00.0015.00.0016.00.0017.00.0018.00.0019.00.0020.00.0021.00.0022.00.0023.00.0000.00.0001.00.0002.00.0003.00.0004.00.0005.00.0006.00.0007.00.0008.00.0009.00.0010.00.0011.00.0012.00.0013.00.0014.00.0015.00.0016.00.0017.00.0018.00.0019.00.0020.00.0021.00.0022.00.0023.00.0000.00.0001.00.0002.00.0003.00.0004.00.0005.00.0006.00.0007.00.0008.00.0009.00.0010.00.0011.00.0012.00.0013.00.0014.00.0015.00.0016.00.0017.00.0018.00.0019.00.0020.00.0021.00.0022.00.0023.00.0000.00.0001.00.0002.00.0003.00.0004.00.0005.00.0006.00.0007.00.0008.00.0009.00.0010.00.0011.00.0012.00.0013.00.0014.00.0015.00.0016.00.0017.00.0018.00.0019.00.0020.00.0021.00.0022.00.0023.00.0000.00.0001.00.0002.00.0003.00.0004.00.0005.00.0006.00.0007.00.0008.00.0009.00.0010.00.0011.00.0012.00.0013.00.0014.00.0015.00.0016.00.0017.00.0018.00.0019.00.0020.00.0021.00.0022.00.0023.00.0000.00.0001.00.0002.00.0003.00.0004.00.0005.00.0006.00.0007.00.0008.00.0009.00.0010.00.0011.00.0012.00.0013.00.0014.00.0015.00.0016.00.0017.00.0018.00.0019.00.0020.00.0021.00.0022.00.0023.00.0000.00.0001.00.0002.00.0003.00.0004.00.0005.00.0006.00.0007.00.0008.00.0009.00.0010.00.0011.00.0012.00.0013.00.0014.00.0015.00.0016.00.0017.00.0018.00.0019.00.0020.00.0021.00.0022.00.0023.00.0000.00.0001.00.0002.00.0003.00.0004.00.0005.00.0006.00.0007.00.0008.00.0009.00.0010.00.0011.00.0012.00.0013.00.0014.00.0015.00.0016.00.0017.00.0018.00.0019.00.0020.00.0021.00.0022.00.0023.00.0000.00.0001.00.0002.00.0003.00.0004.00.0005.00.0006.00.0007.00.0008.00.0009.00.0010.00.0011.00.0012.00.0013.00.0014.00.0015.00.0016.00.0017.00.0018.00.0019.00.0020.00.0021.00.0022.00.0023.00.0000.00.0001.00.0002.00.0003.00.0004.00.0005.00.0006.00.0007.00.0008.00.0009.00.0010.00.0011.00.0012.00.0013.00.0014.00.0015.00.0016.00.0017.00.0018.00.0019.00.0020.00.0021.00.0022.00.0023.00.0000.00.0001.00.0002.00.0003.00.0004.00.0005.00.0006.00.0007.00.0008.00.0009.00.0010.00.0011.00.0012.00.0013.00.0014.00.0015.00.0016.00.0017.00.0018.00.0019.00.0020.00.0021.00.0022.00.0023.00.0000.00.0001.00.0002.00.0003.00.0004.00.0005.00.0006.00.0007.00.0008.00.0009.00.0010.00.0011.00.0012.00.0013.00.0014.00.0015.00.0016.00.0017.00.0018.00.0019.00.0020.00.0021.00.0022.00.0023.00.0000.00.0001.00.0002.00.0003.00.0004.00.0005.00.0006.00.0007.00.0008.00.0009.00.0010.00.0011.00.0012.00.0013.00.0014.00.0015.00.0016.00.0017.00.0018.00.0019.00.0020.00.0021.00.0022.00.0023.00.0000.00.0001.00.0002.00.0003.00.0004.00.0005.00.0006.00.0007.00.0008.00.0009.00.0010.00.0011.00.0012.00.0013.00.0014.00.0015.00.0016.00.0017.00.0018.00.0019.00.0020.00.0021.00.0022.00.0023.00.0000.00.0001.00.0002.00.0003.00.0004.00.0005.00.0006.00.0007.00.0008.00.0009.00.0010.00.0011.00.0012.00.0013.00.0014.00.0015.00.0016.00.0017.00.0018.00.0019.00.0020.00.0021.00.0022.00.0023.00.0000.00.0001.00.0002.00.0003.00.0004.00.0005.00.0006.00.0007.00.0008.00.0009.00.0010.00.0011.00.0012.00.0013.00.0014.00.0015.00.0016.00.0017.00.0018.00.0019.00.0020.00.0021.00.0022.00.0023.00.0000.00.0001.00.0002.00.0003.00.0004.00.0005.00.0006.00.0007.00.0008.00.0009.00.0010.00.0011.00.0012.00.0013.00.0014.00.0015.00.0016.00.0017.00.0018.00.0019.00.0020.00.0021.00.0022.00.0023.00.0000.00.0001.00.0002.00.0003.00.0004.00.0005.00.0006.00.0007.00.0008.00.0009.00.0010.00.0011.00.0012.00.0013.00.0014.00.0015.00.0016.00.0017.00.0018.00.0019.00.0020.00.0021.00.0022.00.0023.00.0000.00.0001.00.0002.00.0003.00.0004.00.0005.00.0006.00.0007.00.0008.00.0009.00.0010.00.0011.00.0012.00.0013.00.0014.00.0015.00.0016.00.0017.00.0018.00.0019.00.0020.00.0021.00.0022.00.0023.00.0000.00.0001.00.0002.00.0003.00.0004.00.0005.00.0006.00.0007.00.0008.00.0009.00.0010.00.0011.00.0012.00.0013.00.0014.00.0015.00.0016.00.0017.00.0018.00.0019.00.0020.00.0021.00.0022.00.0023.00.0000.00.0001.00.0002.00.0003.00.0004.00.0005.00.0006.00.0007.00.0008.00.0009.00.0010.00.0011.00.0012.00.0013.00.0014.00.0015.00.0016.00.0017.00.0018.00.0019.00.0020.00.0021.00.0022.00.0023.00.0000.00.0001.00.0002.00.0003.00.0004.00.0005.00.0006.00.0007.00.0008.00.0009.00.0010.00.0011.00.0012.00.0013.00.0014.00.0015.00.0016.00.0017.00.0018.00.0019.00.0020.00.0021.00.0022.00.0023.00.0000.00.0001.00.0002.00.0003.00.0004.00.0005.00.0006.00.0007.00.0008.00.0009.00.0010.00.0011.00.0012.00.0013.00.0014.00.0015.00.0016.00.0017.00.0018.00.0019.00.0020.00.0021.00.0022.00.0023.00.0000.00.0001.00.0002.00.0003.00.0004.00.0005.00.0006.00.0007.00.0008.00.0009.00.0010.00.0011.00.0012.00.0013.00.0014.00.0015.00.0016.00.0017.00.0018.00.0019.00.0020.00.0021.00.0022.00.0023.00.0000.00.0001.00.0002.00.0003.00.0004.00.0005.00.0006.00.0007.00.0008.00.0009.00.0010.00.0011.00.0012.00.0013.00.0014.00.0015.00.0016.00.0017.00.0018.00.0019.00.0020.00.0021.00.0022.00.0023.00.0000.00.0001.00.0002.00.0003.00.0004.00.0005.00.0006.00.0007.00.0008.00.0009.00.0010.00.0011.00.0012.00.0013.00.0014.00.0015.00.0016.00.0017.00.0018.00.0019.00.0020.00.0021.00.0022.00.0023.00.0000.00.0001.00.0002.00.0003.00.0004.00.0005.00.0006.00.0007.00.0008.00.0009.00.0010.00.0011.00.0012.00.0013.00.0014.00.0015.00.0016.00.0017.00.0018.00.0019.00.0020.00.0021.00.0022.00.0023.00.0000.00.0001.00.0002.00.0003.00.0004.00.0005.00.0006.00.0007.00.0008.00.0009.00.0010.00.0011.00.0012.00.0013.00.0014.00.0015.00.0016.00.0017.00.0018.00.0019.00.0020.00.0021.00.0022.00.0023.00.0000.00.0001.00.0002.00.0003.00.0004.00.0005.00.0006.00.0007.00.0008.00.0009.00.0010.00.0011.00.0012.00.0013.00.0014.00.0015.00.0016.00.0017.00.0018.00.0019.00.0020.00.0021.00.0022.00.0023.00.0000.00.0001.00.0002.00.0003.00.0004.00.0005.00.0006.00.0007.00.0008.00.0009.00.0010.00.0011.00.0012.00.0013.00.0014.00.0015.00.0016.00.0017.00.0018.00.0019.00.0020.00.0021.00.0022.00.0023.00.0000.00.0001.00.0002.00.0003.00.0004.00.0005.00.0006.00.0007.00.0008.00.0009.00.0010.00.0011.00.0012.00.0013.00.0014.00.0015.00.0016.00.0017.00.0018.00.0019.00.0020.00.0021.00.0022.00.0023.00.0000.00.0001.00.0002.00.0003.00.0004.00.0005.00.0006.00.0007.00.0008.00.0009.00.0010.00.0011.00.0012.00.0013.00.0014.00.0015.00.0016.00.0017.00.0018.00.0019.00.0020.00.0021.00.0022.00.0023.00.0000.00.0001.00.0002.00.0003.00.0004.00.0005.00.0006.00.0007.00.0008.00.0009.00.0010.00.0011.00.0012.00.0013.00.0014.00.0015.00.0016.00.0017.00.0018.00.0019.00.0020.00.0021.00.0022.00.0023.00.0000.00.0001.00.0002.00.0003.00.0004.00.0005.00.0006.00.0007.00.0008.00.0009.00.0010.00.0011.00.0012.00.0013.00.0014.00.0015.00.0016.00.0017.00.0018.00.0019.00.0020.00.0021.00.0022.00.0023.00.0000.00.0001.00.0002.00.0003.00.0004.00.0005.00.0006.00.0007.00.0008.00.0009.00.0010.00.0011.00.0012.00.0013.00.0014.00.0015.00.0016.00.0017.00.0018.00.0019.00.0020.00.0021.00.0022.00.0023.00.0000.00.0001.00.0002.00.0003.00.0004.00.0005.00.0006.00.0007.00.0008.00.0009.00.0010.00.0011.00.0012.00.0013.00.0014.00.0015.00.0016.00.0017.00.0018.00.0019.00.0020.00.0021.00.0022.00.0023.00.0000.00.0001.00.0002.00.0003.00.0004.00.0005.00.0006.00.0007.00.0008.00.0009.00.0010.00.0011.00.0012.00.0013.00.0014.00.0015.00.0016.00.0017.00.0018.00.0019.00.0020.00.0021.00.0022.00.0023.00.0000.00.0001.00.0002.00.0003.00.0004.00.0005.00.0006.00.0007.00.0008.00.0009.00.0010.00.0011.00.0012.00.0013.00.0014.00.0015.00.0016.00.0017.00.0018.00.0019.00.0020.00.0021.00.0022.00.0023.00.0000.00.0001.00.0002.00.0003.00.0004.00.0005.00.0006.00.0007.00.0008.00.0009.00.0010.00.0011.00.0012.00.0013.00.0014.00.0015.00.0016.00.0017.00.0018.00.0019.00.0020.00.0021.00.0022.00.0023.00.0000.00.0001.00.0002.00.0003.00.0004.00.0005.00.0006.00.0007.00.0008.00.0009.00.0010.00.0011.00.0012.00.0013.00.0014.00.0015.00.0016.00.0017.00.0018.00.0019.00.0020.00.0021.00.0022.00.0023.00.0000.00.0001.00.0002.00.0003.00.0004.00.0005.00.0006.00.0007.00.0008.00.0009.00.0010.00.0011.00.0012.00.0013.00.0014.00.0015.00.0016.00.0017.00.0018.00.0019.00.0020.00.0021.00.0022.00.0023.00.0000.00.0001.00.0002.00.0003.00.0004.00.0005.00.0006.00.0007.00.0008.00.0009.00.0010.00.0011.00.0012.00.0013.00.0014.00.0015.00.0016.00.0017.00.0018.00.0019.00.0020.00.0021.00.0022.00.0023.00.0000.00.0001.00.0002.00.0003.00.0004.00.0005.00.0006.00.0007.00.0008.00.0009.00.0010.00.0011.00.0012.00.0013.00.0014.00.0015.00.0016.00.0017.00.0018.00.0019.00.0020.00.0021.00.0022.00.0023.00.0000.00.0001.00.0002.00.0003.00.0004.00.0005.00.0006.00.0007.00.0008.00.0009.00.0010.00.0011.00.0012.00.0013.00.0014.00.0015.00.0016.00.0017.00.0018.00.0019.00.0020.00.0021.00.0022.00.0023.00.0000.00.0001.00.0002.00.0003.00.0004.00.0005.00.0006.00.0007.00.0008.00.0009.00.0010.00.0011.00.0012.00.0013.00.0014.00.0015.00.0016.00.0017.00.0018.00.0019.00.0020.00.0021.00.0022.00.0023.00.0000.00.0001.00.0002.00.0003.00.0004.00.0005.00.0006.00.0007.00.0008.00.0009.00.0010.00.0011.00.0012.00.0013.00.0014.00.0015.00.0016.00.0017.00.0018.00.0019.00.0020.00.0021.00.0022.00.0023.00.0000.00.0001.00.0002.00.0003.00.0004.00.0005.00.0006.00.0007.00.0008.00.0009.00.0010.00.0011.00.0012.00.0013.00.0014.00.0015.00.0016.00.0017.00.0018.00.0019.00.0020.00.0021.00.0022.00.0023.00.0000.00.0001.00.0002.00.0003.00.0004.00.0005.00.0006.00.0007.00.0008.00.0009.00.0010.00.0011.00.0012.00.0013.00.0014.00.0015.00.0016.00.0017.00.0018.00.0019.00.0020.00.0021.00.0022.00.0023.00.0000.00.0001.00.0002.00.0003.00.0004.00.0005.00.0006.00.0007.00.0008.00.0009.00.0010.00.0011.00.0012.00.0013.00.0014.00.0015.00.0016.00.0017.00.0018.00.0019.00.0020.00.0021.00.0022.00.0023.00.0000.00.0001.00.0002.00.0003.00.0004.00.0005.00.0006.00.0007.00.0008.00.0009.00.0010.00.0011.00.0012.00.0013.00.0014.00.0015.00.0016.00.0017.00.0018.00.0019.00.0020.00.0021.00.0022.00.0023.00.0000.00.0001.00.0002.00.0003.00.0004.00.0005.00.0006.00.0007.00.0008.00.0009.00.0010.00.0011.00.0012.00.0013.00.0014.00.0015.00.0016.00.0017.00.0018.00.0019.00.0020.00.0021.00.0022.00.0023.00.0000.00.0001.00.0002.00.0003.00.0004.00.0005.00.0006.00.0007.00.0008.00.0009.00.0010.00.0011.00.0012.00.0013.00.0014.00.0015.00.0016.00.0017.00.0018.00.0019.00.0020.00.0021.00.0022.00.0023.00.0000.00.0001.00.0002.00.0003.00.0004.00.0005.00.0006.00.0007.00.0008.00.0009.00.0010.00.0011.00.0012.00.0013.00.0014.00.0015.00.0016.00.0017.00.0018.00.0019.00.0020.00.0021.00.0022.00.0023.00.0000.00.0001.00.0002.00.0003.00.0004.00.0005.00.0006.00.0007.00.0008.00.0009.00.0010.00.0011.00.0012.00.0013.00.0014.00.0015.00.0016.00.0017.00.0018.00.0019.00.0020.00.0021.00.0022.00.0023.00.0000.00.0001.00.0002.00.0003.00.0004.00.0005.00.0006.00.0007.00.0008.00.0009.00.0010.00.0011.00.0012.00.0013.00.0014.00.0015.00.0016.00.0017.00.0018.00.0019.00.0020.00.0021.00.0022.00.0023.00.0000.00.0001.00.0002.00.0003.00.0004.00.0005.00.0006.00.0007.00.0008.00.0009.00.0010.00.0011.00.0012.00.0013.00.0014.00.0015.00.0016.00.0017.00.0018.00.0019.00.0020.00.0021.00.0022.00.0023.00.0000.00.0001.00.0002.00.0003.00.0004.00.0005.00.0006.00.0007.00.0008.00.0009.00.0010.00.0011.00.0012.00.0013.00.0014.00.0015.00.0016.00.0017.00.0018.00.0019.00.0020.00.0021.00.0022.00.0023.00.0000.00.0001.00.0002.00.0003.00.0004.00.0005.00.0006.00.0007.00.0008.00.0009.00.0010.00.0011.00.0012.00.0013.00.0014.00.0015.00.0016.00.0017.00.0018.00.0019.00.0020.00.0021.00.0022.00.0023.00.0000.00.0001.00.0002.00.0003.00.0004.00.0005.00.0006.00.0007.00.0008.00.0009.00.0010.00.0011.00.0012.00.0013.00.0014.00.0015.00.0016.00.0017.00.0018.00.0019.00.0020.00.0021.00.0022.00.0023.00.0000.00.0001.00.0002.00.0003.00.0004.00.0005.00.0006.00.0007.00.0008.00.0009.00.0010.00.0011.00.0012.00.0013.00.0014.00.0015.00.0016.00.0017.00.0018.00.0019.00.0020.00.0021.00.0022.00.0023.00.0000.00.0001.00.0002.00.0003.00.0004.00.0005.00.0006.00.0007.00.0008.00.0009.00.0010.00.0011.00.0012.00.0013.00.0014.00.0015.00.0016.00.0017.00.0018.00.0019.00.0020.00.0021.00.0022.00.0023.00.0000.00.0001.00.0002.00.0003.00.0004.00.0005.00.0006.00.0007.00.0008.00.0009.00.0010.00.0011.00.0012.00.0013.00.0014.00.0015.00.0016.00.0017.00.0018.00.0019.00.0020.00.0021.00.0022.00.0023.00.0000.00.0001.00.0002.00.0003.00.0004.00.0005.00.0006.00.0007.00.0008.00.0009.00.0010.00.0011.00.0012.00.0013.00.0014.00.0015.00.0016.00.0017.00.0018.00.0019.00.0020.00.0021.00.0022.00.0023.00.0000.00.0001.00.0002.00.0003.00.0004.00.0005.00.0006.00.0007.00.0008.00.0009.00.0010.00.0011.00.0012.00.0013.00.0014.00.0015.00.0016.00.0017.00.0018.00.0019.00.0020.00.0021.00.0022.00.0023.00.0000.00.0001.00.0002.00.0003.00.0004.00.0005.00.0006.00.0007.00.0008.00.0009.00.0010.00.0011.00.0012.00.0013.00.0014.00.0015.00.0016.00.0017.00.0018.00.0019.00.0020.00.0021.00.0022.00.0023.00.0000.00.0001.00.0002.00.0003.00.0004.00.0005.00.0006.00.0007.00.0008.00.0009.00.0010.00.0011.00.0012.00.0013.00.0014.00.0015.00.0016.00.0017.00.0018.00.0019.00.0020.00.0021.00.0022.00.0023.00.0000.00.0001.00.0002.00.0003.00.0004.00.0005.00.0006.00.0007.00.0008.00.0009.00.0010.00.0011.00.0012.00.0013.00.0014.00.0015.00.0016.00.0017.00.0018.00.0019.00.0020.00.0021.00.0022.00.0023.00.0000.00.0001.00.0002.00.0003.00.0004.00.0005.00.0006.00.0007.00.0008.00.0009.00.0010.00.0011.00.0012.00.0013.00.0014.00.0015.00.0016.00.0017.00.0018.00.0019.00.0020.00.0021.00.0022.00.0023.00.0000.00.0001.00.0002.00.0003.00.0004.00.0005.00.0006.00.0007.00.0008.00.0009.00.0010.00.0011.00.0012.00.0013.00.0014.00.0015.00.0016.00.0017.00.0018.00.0019.00.0020.00.0021.00.0022.00.0023.00.0000.00.0001.00.0002.00.0003.00.0004.00.0005.00.0006.00.0007.00.0008.00.0009.00.0010.00.0011.00.0012.00.0013.00.0014.00.0015.00.0016.00.0017.00.0018.00.0019.00.0020.00.0021.00.0022.00.0023.00.0000.00.0001.00.0002.00.0003.00.0004.00.0005.00.0006.00.0007.00.0008.00.0009.00.0010.00.0011.00.0012.00.0013.00.0014.00.0015.00.0016.00.0017.00.0018.00.0019.00.0020.00.0021.00.0022.00.0023.00.0000.00.0001.00.0002.00.0003.00.0004.00.0005.00.0006.00.0007.00.0008.00.0009.00.0010.00.0011.00.0012.00.0013.00.0014.00.0015.00.0016.00.0017.00.0018.00.0019.00.0020.00.0021.00.0022.00.0023.00.0000.00.0001.00.0002.00.0003.00.0004.00.0005.00.0006.00.0007.00.0008.00.0009.00.0010.00.0011.00.0012.00.0013.00.0014.00.0015.00.0016.00.0017.00.0018.00.0019.00.0020.00.0021.00.0022.00.0023.00.0000.00.0001.00.0002.00.0003.00.0004.00.0005.00.0006.00.0007.00.0008.00.0009.00.0010.00.0011.00.0012.00.0013.00.0014.00.0015.00.0016.00.0017.00.0018.00.0019.00.0020.00.0021.00.0022.00.0023.00.0000.00.0001.00.0002.00.0003.00.0004.00.0005.00.0006.00.0007.00.0008.00.0009.00.0010.00.0011.00.0012.00.0013.00.0014.00.0015.00.0016.00.0017.00.0018.00.0019.00.0020.00.0021.00.0022.00.0023.00.0000.00.0001.00.0002.00.0003.00.0004.00.0005.00.0006.00.0007.00.0008.00.0009.00.0010.00.0011.00.0012.00.0013.00.0014.00.0015.00.0016.00.0017.00.0018.00.0019.00.0020.00.0021.00.0022.00.0023.00.0000.00.0001.00.0002.00.0003.00.0004.00.0005.00.0006.00.0007.00.0008.00.0009.00.0010.00.0011.00.0012.00.0013.00.0014.00.0015.00.0016.00.0017.00.0018.00.0019.00.0020.00.0021.00.0022.00.0023.00.0000.00.0001.00.0002.00.0003.00.0004.00.0005.00.0006.00.0007.00.0008.00.0009.00.0010.00.0011.00.0012.00.0013.00.0014.00.0015.00.0016.00.0017.00.0018.00.0019.00.0020.00.0021.00.0022.00.0023.00.0000.00.0001.00.0002.00.0003.00.0004.00.0005.00.0006.00.0007.00.0008.00.0009.00.0010.00.0011.00.0012.00.0013.00.0014.00.0015.00.0016.00.0017.00.0018.00.0019.00.0020.00.0021.00.0022.00.0023.00.0000.00.0001.00.0002.00.0003.00.0004.00.0005.00.0006.00.0007.00.0008.00.0009.00.0010.00.0011.00.0012.00.0013.00.0014.00.0015.00.0016.00.0017.00.0018.00.0019.00.0020.00.0021.00.0022.00.0023.00.0000.00.0001.00.0002.00.0003.00.0004.00.0005.00.0006.00.0007.00.0008.00.0009.00.0010.00.0011.00.0012.00.0013.00.0014.00.0015.00.0016.00.0017.00.0018.00.0019.00.0020.00.0021.00.0022.00.0023.00.0000.00.0001.00.0002.00.0003.00.0004.00.0005.00.0006.00.0007.00.0008.00.0009.00.0010.00.0011.00.0012.00.0013.00.0014.00.0015.00.0016.00.0017.00.0018.00.0019.00.0020.00.0021.00.0022.00.0023.00.0000.00.0001.00.0002.00.0003.00.0004.00.0005.00.0006.00.0007.00.0008.00.0009.00.0010.00.0011.00.0012.00.0013.00.0014.00.0015.00.0016.00.0017.00.0018.00.0019.00.0020.00.0021.00.0022.00.0023.00.0000.00.0001.00.0002.00.0003.00.0004.00.0005.00.0006.00.0007.00.0008.00.0009.00.0010.00.0011.00.0012.00.0013.00.0014.00.0015.00.0016.00.0017.00.0018.00.0019.00.0020.00.0021.00.0022.00.0023.00.0000.00.0001.00.0002.00.0003.00.0004.00.0005.00.0006.00.0007.00.0008.00.0009.00.0010.00.0011.00.0012.00.0013.00.0014.00.0015.00.0016.00.0017.00.0018.00.0019.00.0020.00.0021.00.0022.00.0023.00.0000.00.0001.00.0002.00.0003.00.0004.00.0005.00.0006.00.0007.00.0008.00.0009.00.0010.00.0011.00.0012.00.0013.00.0014.00.0015.00.0016.00.0017.00.0018.00.0019.00.0020.00.0021.00.0022.00.0023.00.0000.00.0001.00.0002.00.0003.00.0004.00.0005.00.0006.00.0007.00.0008.00.0009.00.0010.00.0011.00.0012.00.0013.00.0014.00.0015.00.0016.00.0017.00.0018.00.0019.00.0020.00.0021.00.0022.00.0023.00.0000.00.0001.00.0002.00.0003.00.0004.00.0005.00.0006.00.0007.00.0008.00.0009.00.0010.00.0011.00.0012.00.0013.00.0014.00.0015.00.0016.00.0017.00.0018.00.0019.00.0020.00.0021.00.0022.00.0023.00.0000.00.0001.00.0002.00.0003.00.0004.00.0005.00.0006.00.0007.00.0008.00.0009.00.0010.00.0011.00.0012.00.0013.00.0014.00.0015.00.0016.00.0017.00.0018.00.0019.00.0020.00.0021.00.0022.00.0023.00.0000.00.0001.00.0002.00.0003.00.0004.00.0005.00.0006.00.0007.00.0008.00.0009.00.0010.00.0011.00.0012.00.0013.00.0014.00.0015.00.0016.00.0017.00.0018.00.0019.00.0020.00.0021.00.0022.00.0023.00.0000.00.0001.00.0002.00.0003.00.0004.00.0005.00.0006.00.0007.00.0008.00.0009.00.0010.00.0011.00.0012.00.0013.00.0014.00.0015.00.0016.00.0017.00.0018.00.0019.00.0020.00.0021.00.0022.00.0023.00.0000.00.0001.00.0002.00.0003.00.0004.00.0005.00.0006.00.0007.00.0008.00.0009.00.0010.00.0011.00.0012.00.0013.00.0014.00.0015.00.0016.00.0017.00.0018.00.0019.00.0020.00.0021.00.0022.00.0023.00.0000.00.0001.00.0002.00.0003.00.0004.00.0005.00.0006.00.0007.00.0008.00.0009.00.0010.00.0011.00.0012.00.0013.00.0014.00.0015.00.0016.00.0017.00.0018.00.0019.00.0020.00.0021.00.0022.00.0023.00.0000.00.0001.00.0002.00.0003.00.0004.00.0005.00.0006.00.0007.00.0008.00.0009.00.0010.00.0011.00.0012.00.0013.00.0014.00.0015.00.0016.00.0017.00.0018.00.0019.00.0020.00.0021.00.0022.00.0023.00.0000.00.0001.00.0002.00.0003.00.0004.00.0005.00.0006.00.0007.00.0008.00.0009.00.0010.00.0011.00.0012.00.0013.00.0014.00.0015.00.0016.00.0017.00.0018.00.0019.00.0020.00.0021.00.0022.00.0023.00.0000.00.0001.00.0002.00.0003.00.0004.00.0005.00.0006.00.0007.00.0008.00.0009.00.0010.00.0011.00.0012.00.0013.00.0014.00.0015.00.0016.00.0017.00.0018.00.0019.00.0020.00.0021.00.0022.00.0023.00.0000.00.0001.00.0002.00.0003.00.0004.00.0005.00.0006.00.0007.00.0008.00.0009.00.0010.00.0011.00.0012.00.0013.00.0014.00.0015.00.0016.00.0017.00.0018.00.0019.00.0020.00.0021.00.0022.00.0023.00.0000.00.0001.00.0002.00.0003.00.0004.00.0005.00.0006.00.0007.00.0008.00.0009.00.0010.00.0011.00.0012.00.0013.00.0014.00.0015.00.0016.00.0017.00.0018.00.0019.00.0020.00.0021.00.0022.00.0023.00.0000.00.0001.00.0002.00.0003.00.0004.00.0005.00.0006.00.0007.00.0008.00.0009.00.0010.00.0011.00.0012.00.0013.00.0014.00.0015.00.0016.00.0017.00.0018.00.0019.00.0020.00.0021.00.0022.00.0023.00.0000.00.0001.00.0002.00.0003.00.0004.00.0005.00.0006.00.0007.00.0008.00.0009.00.0010.00.0011.00.0012.00.0013.00.0014.00.0015.00.0016.00.0017.00.0018.00.0019.00.0020.00.0021.00.0022.00.0023.00.0000.00.0001.00.0002.00.0003.00.0004.00.0005.00.0006.00.0007.00.0008.00.0009.00.0010.00.0011.00.0012.00.0013.00.0014.00.0015.00.0016.00.0017.00.0018.00.0019.00.0020.00.0021.00.0022.00.0023.00.0000.00.0001.00.0002.00.0003.00.0004.00.0005.00.0006.00.0007.00.0008.00.0009.00.0010.00.0011.00.0012.00.0013.00.0014.00.0015.00.0016.00.0017.00.0018.00.0019.00.0020.00.0021.00.0022.00.0023.00.0000.00.0001.00.0002.00.0003.00.0004.00.0005.00.0006.00.0007.00.0008.00.0009.00.0010.00.0011.00.0012.00.0013.00.0014.00.0015.00.0016.00.0017.00.0018.00.0019.00.0020.00.0021.00.0022.00.0023.00.0000.00.0001.00.0002.00.0003.00.0004.00.0005.00.0006.00.0007.00.0008.00.0009.00.0010.00.0011.00.0012.00.0013.00.0014.00.0015.00.0016.00.0017.00.0018.00.0019.00.0020.00.0021.00.0022.00.0023.00.0000.00.0001.00.0002.00.0003.00.0004.00.0005.00.0006.00.0007.00.0008.00.0009.00.0010.00.0011.00.0012.00.0013.00.0014.00.0015.00.0016.00.0017.00.0018.00.0019.00.0020.00.0021.00.0022.00.0023.00.0000.00.0001.00.0002.00.0003.00.0004.00.0005.00.0006.00.0007.00.0008.00.0009.00.0010.00.0011.00.0012.00.0013.00.0014.00.0015.00.0016.00.0017.00.0018.00.0019.00.0020.00.0021.00.0022.00.0023.00.0000.00.0001.00.0002.00.0003.00.0004.00.0005.00.0006.00.0007.00.0008.00.0009.00.0010.00.0011.00.0012.00.0013.00.0014.00.0015.00.0016.00.0017.00.0018.00.0019.00.0020.00.0021.00.0022.00.0023.00.0000.00.0001.00.0002.00.0003.00.0004.00.0005.00.0006.00.0007.00.0008.00.0009.00.0010.00.0011.00.0012.00.0013.00.0014.00.0015.00.0016.00.0017.00.0018.00.0019.00.0020.00.0021.00.0022.00.0023.00.0000.00.0001.00.0002.00.0003.00.0004.00.0005.00.0006.00.0007.00.0008.00.0009.00.0010.00.0011.00.0012.00.0013.00.0014.00.0015.00.0016.00.0017.00.0018.00.0019.00.0020.00.0021.00.0022.00.0023.00.0000.00.0001.00.0002.00.0003.00.0004.00.0005.00.0006.00.0007.00.0008.00.0009.00.0010.00.0011.00.0012.00.0013.00.0014.00.0015.00.0016.00.0017.00.0018.00.0019.00.0020.00.0021.00.0022.00.0023.00.0000.00.0001.00.0002.00.0003.00.0004.00.0005.00.0006.00.0007.00.0008.00.0009.00.0010.00.0011.00.0012.00.0013.00.0014.00.0015.00.0016.00.0017.00.0018.00.0019.00.0020.00.0021.00.0022.00.0023.00.0000.00.0001.00.0002.00.0003.00.0004.00.0005.00.0006.00.0007.00.0008.00.0009.00.0010.00.0011.00.0012.00.0013.00.0014.00.0015.00.0016.00.0017.00.0018.00.0019.00.0020.00.0021.00.0022.00.0023.00.0000.00.0001.00.0002.00.0003.00.0004.00.0005.00.0006.00.0007.00.0008.00.0009.00.0010.00.0011.00.0012.00.0013.00.0014.00.0015.00.0016.00.0017.00.0018.00.0019.00.0020.00.0021.00.0022.00.0023.00.0000.00.0001.00.0002.00.0003.00.0004.00.0005.00.0006.00.0007.00.0008.00.0009.00.0010.00.0011.00.0012.00.0013.00.0014.00.0015.00.0016.00.0017.00.0018.00.0019.00.0020.00.0021.00.0022.00.0023.00.0000.00.0001.00.0002.00.0003.00.0004.00.0005.00.0006.00.0007.00.0008.00.0009.00.0010.00.0011.00.0012.00.0013.00.0014.00.0015.00.0016.00.0017.00.0018.00.0019.00.0020.00.0021.00.0022.00.0023.00.0000.00.0001.00.0002.00.0003.00.0004.00.0005.00.0006.00.0007.00.0008.00.0009.00.0010.00.0011.00.0012.00.0013.00.0014.00.0015.00.0016.00.0017.00.0018.00.0019.00.0020.00.0021.00.0022.00.0023.00.0000.00.0001.00.0002.00.0003.00.0004.00.0005.00.0006.00.0007.00.0008.00.0009.00.0010.00.0011.00.0012.00.0013.00.0014.00.0015.00.0016.00.0017.00.0018.00.0019.00.0020.00.0021.00.0022.00.0023.00.0000.00.0001.00.0002.00.0003.00.0004.00.0005.00.0006.00.0007.00.0008.00.0009.00.0010.00.0011.00.0012.00.0013.00.0014.00.0015.00.0016.00.0017.00.0018.00.0019.00.0020.00.0021.00.0022.00.0023.00.0000.00.0001.00.0002.00.0003.00.0004.00.0005.00.0006.00.0007.00.0008.00.0009.00.0010.00.0011.00.0012.00.0013.00.0014.00.0015.00.0016.00.0017.00.0018.00.0019.00.0020.00.0021.00.0022.00.0023.00.0000.00.0001.00.0002.00.0003.00.0004.00.0005.00.0006.00.0007.00.0008.00.0009.00.0010.00.0011.00.0012.00.0013.00.0014.00.0015.00.0016.00.0017.00.0018.00.0019.00.0020.00.0021.00.0022.00.0023.00.0000.00.0001.00.0002.00.0003.00.0004.00.0005.00.0006.00.0007.00.0008.00.0009.00.0010.00.0011.00.0012.00.0013.00.0014.00.0015.00.0016.00.0017.00.0018.00.0019.00.0020.00.0021.00.0022.00.0023.00.0000.00.0001.00.0002.00.0003.00.0004.00.0005.00.0006.00.0007.00.0008.00.0009.00.0010.00.0011.00.0012.00.0013.00.0014.00.0015.00.0016.00.0017.00.0018.00.0019.00.0020.00.0021.00.0022.00.0023.00.0000.00.0001.00.0002.00.0003.00.0004.00.0005.00.0006.00.0007.00.0008.00.0009.00.0010.00.0011.00.0012.00.0013.00.0014.00.0015.00.0016.00.0017.00.0018.00.0019.00.0020.00.0021.00.0022.00.0023.00.0000.00.0001.00.0002.00.0003.00.0004.00.0005.00.0006.00.0007.00.0008.00.0009.00.0010.00.0011.00.0012.00.0013.00.0014.00.0015.00.0016.00.0017.00.0018.00.0019.00.0020.00.0021.00.0022.00.0023.00.0000.00.0001.00.0002.00.0003.00.0004.00.0005.00.0006.00.0007.00.0008.00.0009.00.0010.00.0011.00.0012.00.0013.00.0014.00.0015.00.0016.00.0017.00.0018.00.0019.00.0020.00.0021.00.0022.00.0023.00.0000.00.0001.00.0002.00.0003.00.0004.00.0005.00.0006.00.0007.00.0008.00.0009.00.0010.00.0011.00.0012.00.0013.00.0014.00.0015.00.0016.00.0017.00.0018.00.0019.00.0020.00.0021.00.0022.00.0023.00.0000.00.0001.00.0002.00.0003.00.0004.00.0005.00.0006.00.0007.00.0008.00.0009.00.0010.00.0011.00.0012.00.0013.00.0014.00.0015.00.0016.00.0017.00.0018.00.0019.00.0020.00.0021.00.0022.00.0023.00.0000.00.0001.00.0002.00.0003.00.0004.00.0005.00.0006.00.0007.00.0008.00.0009.00.0010.00.0011.00.0012.00.0013.00.0014.00.0015.00.0016.00.0017.00.0018.00.0019.00.0020.00.0021.00.0022.00.0023.00.0000.00.0001.00.0002.00.0003.00.0004.00.0005.00.0006.00.0007.00.0008.00.0009.00.0010.00.0011.00.0012.00.0013.00.0014.00.0015.00.0016.00.0017.00.0018.00.0019.00.0020.00.0021.00.0022.00.0023.00.0000.00.0001.00.0002.00.0003.00.0004.00.0005.00.0006.00.0007.00.0008.00.0009.00.0010.00.0011.00.0012.00.0013.00.0014.00.0015.00.0016.00.0017.00.0018.00.0019.00.0020.00.0021.00.0022.00.0023.00.0000.00.0001.00.0002.00.0003.00.0004.00.0005.00.0006.00.0007.00.0008.00.0009.00.0010.00.0011.00.0012.00.0013.00.0014.00.0015.00.0016.00.0017.00.0018.00.0019.00.0020.00.0021.00.0022.00.0023.00.0000.00.0001.00.0002.00.0003.00.0004.00.0005.00.0006.00.0007.00.0008.00.0009.00.0010.00.0011.00.0012.00.0013.00.0014.00.0015.00.0016.00.0017.00.0018.00.0019.00.0020.00.0021.00.0022.00.0023.00.0000.00.0001.00.0002.00.0003.00.0004.00.0005.00.0006.00.0007.00.0008.00.0009.00.0010.00.0011.00.0012.00.0013.00.0014.00.0015.00.0016.00.0017.00.0018.00.0019.00.0020.00.0021.00.0022.00.0023.00.0000.00.0001.00.0002.00.0003.00.0004.00.0005.00.0006.00.0007.00.0008.00.0009.00.0010.00.0011.00.0012.00.0013.00.0014.00.0015.00.0016.00.0017.00.0018.00.0019.00.0020.00.0021.00.0022.00.0023.00.0000.00.0001.00.0002.00.0003.00.0004.00.0005.00.0006.00.0007.00.0008.00.0009.00.0010.00.0011.00.0012.00.0013.00.0014.00.0015.00.0016.00.0017.00.0018.00.0019.00.0020.00.0021.00.0022.00.0023.00.0000.00.0001.00.0002.00.0003.00.0004.00.0005.00.0006.00.0007.00.0008.00.0009.00.0010.00.0011.00.0012.00.0013.00.0014.00.0015.00.0016.00.0017.00.0018.00.0019.00.0020.00.0021.00.0022.00.0023.00.0000.00.0001.00.0002.00.0003.00.0004.00.0005.00.0006.00.0007.00.0008.00.0009.00.0010.00.0011.00.0012.00.0013.00.0014.00.0015.00.0016.00.0017.00.0018.00.0019.00.0020.00.0021.00.0022.00.0023.00.0000.00.0001.00.0002.00.0003.00.0004.00.0005.00.0006.00.0007.00.0008.00.0009.00.0010.00.0011.00.0012.00.0013.00.0014.00.0015.00.0016.00.0017.00.0018.00.0019.00.0020.00.0021.00.0022.00.0023.00.0000.00.0001.00.0002.00.0003.00.0004.00.0005.00.0006.00.0007.00.0008.00.0009.00.0010.00.0011.00.0012.00.0013.00.0014.00.0015.00.0016.00.0017.00.0018.00.0019.00.0020.00.0021.00.0022.00.0023.00.0000.00.0001.00.0002.00.0003.00.0004.00.0005.00.0006.00.0007.00.0008.00.0009.00.0010.00.0011.00.0012.00.0013.00.0014.00.0015.00.0016.00.0017.00.0018.00.0019.00.0020.00.0021.00.0022.00.0023.00.0000.00.0001.00.0002.00.0003.00.0004.00.0005.00.0006.00.0007.00.0008.00.0009.00.0010.00.0011.00.0012.00.0013.00.0014.00.0015.00.0016.00.0017.00.0018.00.0019.00.0020.00.0021.00.0022.00.0023.00.0000.00.0001.00.0002.00.0003.00.0004.00.0005.00.0006.00.0007.00.0008.00.0009.00.0010.00.0011.00.0012.00.0013.00.0014.00.0015.00.0016.00.0017.00.0018.00.0019.00.0020.00.0021.00.0022.00.0023.00.0000.00.0001.00.0002.00.0003.00.0004.00.0005.00.0006.00.0007.00.0008.00.0009.00.0010.00.0011.00.0012.00.0013.00.0014.00.0015.00.0016.00.0017.00.0018.00.0019.00.0020.00.0021.00.0022.00.0023.00.0000.00.0001.00.0002.00.0003.00.0004.00.0005.00.0006.00.0007.00.0008.00.0009.00.0010.00.0011.00.0012.00.0013.00.0014.00.0015.00.0016.00.0017.00.0018.00.0019.00.0020.00.0021.00.0022.00.0023.00.0000.00.0001.00.0002.00.0003.00.0004.00.0005.00.0006.00.0007.00.0008.00.0009.00.0010.00.0011.00.0012.00.0013.00.0014.00.0015.00.0016.00.0017.00.0018.00.0019.00.0020.00.0021.00.0022.00.0023.00.0000.00.0001.00.0002.00.0003.00.0004.00.0005.00.0006.00.0007.00.0008.00.0009.00.0010.00.0011.00.0012.00.0013.00.0014.00.0015.00.0016.00.0017.00.0018.00.0019.00.0020.00.0021.00.0022.00.0023.00.0000.00.0001.00.0002.00.0003.00.0004.00.0005.00.0006.00.0007.00.0008.00.0009.00.0010.00.0011.00.0012.00.0013.00.0014.00.0015.00.0016.00.0017.00.0018.00.0019.00.0020.00.0021.00.0022.00.0023.00.0000.00.0001.00.0002.00.0003.00.0004.00.0005.00.0006.00.0007.00.0008.00.0009.00.0010.00.0011.00.0012.00.0013.00.0014.00.0015.00.0016.00.0017.00.0018.00.0019.00.0020.00.0021.00.0022.00.0023.00.0000.00.0001.00.0002.00.0003.00.0004.00.0005.00.0006.00.0007.00.0008.00.0009.00.0010.00.0011.00.0012.00.0013.00.0014.00.0015.00.0016.00.0017.00.0018.00.0019.00.0020.00.0021.00.0022.00.0023.00.0000.00.0001.00.0002.00.0003.00.0004.00.0005.00.0006.00.0007.00.0008.00.0009.00.0010.00.0011.00.0012.00.0013.00.0014.00.0015.00.0016.00.0017.00.0018.00.0019.00.0020.00.0021.00.0022.00.0023.00.0000.00.0001.00.0002.00.0003.00.0004.00.0005.00.0006.00.0007.00.0008.00.0009.00.0010.00.0011.00.0012.00.0013.00.0014.00.0015.00.0016.00.0017.00.0018.00.0019.00.0020.00.0021.00.0022.00.0023.00.0000.00.0001.00.0002.00.0003.00.0004.00.0005.00.0006.00.0007.00.0008.00.0009.00.0010.00.0011.00.0012.00.0013.00.0014.00.0015.00.0016.00.0017.00.0018.00.0019.00.0020.00.0021.00.0022.00.0023.00.0000.00.0001.00.0002.00.0003.00.0004.00.0005.00.0006.00.0007.00.0008.00.0009.00.0010.00.0011.00.0012.00.0013.00.0014.00.0015.00.0016.00.0017.00.0018.00.0019.00.0020.00.0021.00.0022.00.0023.00.0000.00.0001.00.0002.00.0003.00.0004.00.0005.00.0006.00.0007.00.0008.00.0009.00.0010.00.0011.00.0012.00.0013.00.0014.00.0015.00.0016.00.0017.00.0018.00.0019.00.0020.00.0021.00.0022.00.0023.00.0000.00.0001.00.0002.00.0003.00.0004.00.0005.00.0006.00.0007.00.0008.00.0009.00.0010.00.0011.00.0012.00.0013.00.0014.00.0015.00.0016.00.0017.00.0018.00.0019.00.0020.00.0021.00.0022.00.0023.00.0000.00.0001.00.0002.00.0003.00.0004.00.0005.00.0006.00.0007.00.0008.00.0009.00.0010.00.0011.00.0012.00.0013.00.0014.00.0015.00.0016.00.0017.00.0018.00.0019.00.0020.00.0021.00.0022.00.0023.00.0000.00.0001.00.0002.00.0003.00.0004.00.0005.00.0006.00.0007.00.0008.00.0009.00.0010.00.0011.00.0012.00.0013.00.0014.00.0015.00.0016.00.0017.00.0018.00.0019.00.0020.00.0021.00.0022.00.0023.00.0000.00.0001.00.0002.00.0003.00.0004.00.0005.00.0006.00.0007.00.0008.00.0009.00.0010.00.0011.00.0012.00.0013.00.0014.00.0015.00.0016.00.0017.00.0018.00.0019.00.0020.00.0021.00.0022.00.0023.00.0000.00.0001.00.0002.00.0003.00.0004.00.0005.00.0006.00.0007.00.0008.00.0009.00.0010.00.0011.00.0012.00.0013.00.0014.00.0015.00.0016.00.0017.00.0018.00.0019.00.0020.00.0021.00.0022.00.0023.00.0000.00.0001.00.0002.00.0003.00.0004.00.0005.00.0006.00.0007.00.0008.00.0009.00.0010.00.0011.00.0012.00.0013.00.0014.00.0015.00.0016.00.0017.00.0018.00.0019.00.0020.00.0021.00.0022.00.0023.00.0000.00.0001.00.0002.00.0003.00.0004.00.0005.00.0006.00.0007.00.0008.00.0009.00.0010.00.0011.00.0012.00.0013.00.0014.00.0015.00.0016.00.0017.00.0018.00.0019.00.0020.00.0021.00.0022.00.0023.00.0000.00.0001.00.0002.00.0003.00.0004.00.0005.00.0006.00.0007.00.0008.00.0009.00.0010.00.0011.00.0012.00.0013.00.0014.00.0015.00.0016.00.0017.00.0018.00.0019.00.0020.00.0021.00.0022.00.0023.00.0000.00.0001.00.0002.00.0003.00.0004.00.0005.00.0006.00.0007.00.0008.00.0009.00.0010.00.0011.00.0012.00.0013.00.0014.00.0015.00.0016.00.0017.00.0018.00.0019.00.0020.00.0021.00.0022.00.0023.00.0000.00.0001.00.0002.00.0003.00.0004.00.0005.00.0006.00.0007.00.0008.00.0009.00.0010.00.0011.00.0012.00.0013.00.0014.00.0015.00.0016.00.0017.00.0018.00.0019.00.0020.00.0021.00.0022.00.0023.00.0000.00.0001.00.0002.00.0003.00.0004.00.0005.00.0006.00.0007.00.0008.00.0009.00.0010.00.0011.00.0012.00.0013.00.0014.00.0015.00.0016.00.0017.00.0018.00.0019.00.0020.00.0021.00.0022.00.0023.00.0000.00.0001.00.0002.00.0003.00.0004.00.0005.00.0006.00.0007.00.0008.00.0009.00.0010.00.0011.00.0012.00.0013.00.0014.00.0015.00.0016.00.0017.00.0018.00.0019.00.0020.00.0021.00.0022.00.0023.00.0000.00.0001.00.0002.00.0003.00.0004.00.0005.00.0006.00.0007.00.0008.00.0009.00.0010.00.0011.00.0012.00.0013.00.0014.00.0015.00.0016.00.0017.00.0018.00.0019.00.0020.00.0021.00.0022.00.0023.00.0000.00.0001.00.0002.00.0003.00.0004.00.0005.00.0006.00.0007.00.0008.00.0009.00.0010.00.0011.00.0012.00.0013.00.0014.00.0015.00.0016.00.0017.00.0018.00.0019.00.0020.00.0021.00.0022.00.0023.00.0000.00.0001.00.0002.00.0003.00.0004.00.0005.00.0006.00.0007.00.0008.00.0009.00.0010.00.0011.00.0012.00.0013.00.0014.00.0015.00.0016.00.0017.00.0018.00.0019.00.0020.00.0021.00.0022.00.0023.00.0000.00.0001.00.0002.00.0003.00.0004.00.0005.00.0006.00.0007.00.0008.00.0009.00.0010.00.0011.00.0012.00.0013.00.0014.00.0015.00.0016.00.0017.00.0018.00.0019.00.0020.00.0021.00.0022.00.0023.00.0000.00.0001.00.0002.00.0003.00.0004.00.0005.00.0006.00.0007.00.0008.00.0009.00.0010.00.0011.00.0012.00.0013.00.0014.00.0015.00.0016.00.0017.00.0018.00.0019.00.0020.00.0021.00.0022.00.0023.00.0000.00.0001.00.0002.00.0003.00.0004.00.0005.00.0006.00.0007.00.0008.00.0009.00.0010.00.0011.00.0012.00.0013.00.0014.00.0015.00.0016.00.0017.00.0018.00.0019.00.0020.00.0021.00.0022.00.0023.00.0000.00.0001.00.0002.00.0003.00.0004.00.0005.00.0006.00.0007.00.0008.00.0009.00.0010.00.0011.00.0012.00.0013.00.0014.00.0015.00.0016.00.0017.00.0018.00.0019.00.0020.00.0021.00.0022.00.0023.00.0000.00.0001.00.0002.00.0003.00.0004.00.0005.00.0006.00.0007.00.0008.00.0009.00.0010.00.0011.00.0012.00.0013.00.0014.00.0015.00.0016.00.0017.00.0018.00.0019.00.0020.00.0021.00.0022.00.0023.00.0000.00.0001.00.0002.00.0003.00.0004.00.0005.00.0006.00.0007.00.0008.00.0009.00.0010.00.0011.00.0012.00.0013.00.0014.00.0015.00.0016.00.0017.00.0018.00.0019.00.0020.00.0021.00.0022.00.0023.00.0000.00.0001.00.0002.00.0003.00.0004.00.0005.00.0006.00.0007.00.0008.00.0009.00.0010.00.0011.00.0012.00.0013.00.0014.00.0015.00.0016.00.0017.00.0018.00.0019.00.0020.00.0021.00.0022.00.0023.00.0000.00.0001.00.0002.00.0003.00.0004.00.0005.00.0006.00.0007.00.0008.00.0009.00.0010.00.0011.00.0012.00.0013.00.0014.00.0015.00.0016.00.0017.00.0018.00.0019.00.0020.00.0021.00.0022.00.0023.00.0000.00.0001.00.0002.00.0003.00.0004.00.0005.00.0006.00.0007.00.0008.00.0009.00.0010.00.0011.00.0012.00.0013.00.0014.00.0015.00.0016.00.0017.00.0018.00.0019.00.0020.00.0021.00.0022.00.0023.00.0000.00.0001.00.0002.00.0003.00.0004.00.0005.00.0006.00.0007.00.0008.00.0009.00.0010.00.0011.00.0012.00.0013.00.0014.00.0015.00.0016.00.0017.00.0018.00.0019.00.0020.00.0021.00.0022.00.0023.00.0000.00.0001.00.0002.00.0003.00.0004.00.0005.00.0006.00.0007.00.0008.00.0009.00.0010.00.0011.00.0012.00.0013.00.0014.00.0015.00.0016.00.0017.00.0018.00.0019.00.0020.00.0021.00.0022.00.0023.00.0000.00.0001.00.0002.00.0003.00.0004.00.0005.00.0006.00.0007.00.0008.00.0009.00.0010.00.0011.00.0012.00.0013.00.0014.00.0015.00.0016.00.0017.00.0018.00.0019.00.0020.00.0021.00.0022.00.0023.00.0000.00.0001.00.0002.00.0003.00.0004.00.0005.00.0006.00.0007.00.0008.00.0009.00.0010.00.0011.00.0012.00.0013.00.0014.00.0015.00.0016.00.0017.00.0018.00.0019.00.0020.00.0021.00.0022.00.0023.00.0000.00.0001.00.0002.00.0003.00.0004.00.0005.00.0006.00.0007.00.0008.00.0009.00.0010.00.0011.00.0012.00.0013.00.0014.00.0015.00.0016.00.0017.00.0018.00.0019.00.0020.00.0021.00.0022.00.0023.00.0000.00.0001.00.0002.00.0003.00.0004.00.0005.00.0006.00.0007.00.0008.00.0009.00.0010.00.0011.00.0012.00.0013.00.0014.00.0015.00.0016.00.0017.00.0018.00.0019.00.0020.00.0021.00.0022.00.0023.00.0000.00.0001.00.0002.00.0003.00.0004.00.0005.00.0006.00.0007.00.0008.00.0009.00.0010.00.0011.00.0012.00.0013.00.0014.00.0015.00.0016.00.0017.00.0018.00.0019.00.0020.00.0021.00.0022.00.0023.00.0000.00.0001.00.0002.00.0003.00.0004.00.0005.00.0006.00.0007.00.0008.00.0009.00.0010.00.0011.00.0012.00.0013.00.0014.00.0015.00.0016.00.0017.00.0018.00.0019.00.0020.00.0021.00.0022.00.0023.00.0000.00.0001.00.0002.00.0003.00.0004.00.0005.00.0006.00.0007.00.0008.00.0009.00.0010.00.0011.00.0012.00.0013.00.0014.00.0015.00.0016.00.0017.00.0018.00.0019.00.0020.00.0021.00.0022.00.0023.00.0000.00.0001.00.0002.00.0003.00.0004.00.0005.00.0006.00.0007.00.0008.00.0009.00.0010.00.0011.00.0012.00.0013.00.0014.00.0015.00.0016.00.0017.00.0018.00.0019.00.0020.00.0021.00.0022.00.0023.00.0000.00.0001.00.0002.00.0003.00.0004.00.0005.00.0006.00.0007.00.0008.00.0009.00.0010.00.0011.00.0012.00.0013.00.0014.00.0015.00.0016.00.0017.00.0018.00.0019.00.0020.00.0021.00.0022.00.0023.00.0000.00.0001.00.0002.00.0003.00.0004.00.0005.00.0006.00.0007.00.0008.00.0009.00.0010.00.0011.00.0012.00.0013.00.0014.00.0015.00.0016.00.0017.00.0018.00.0019.00.0020.00.0021.00.0022.00.0023.00.0000.00.0001.00.0002.00.0003.00.0004.00.0005.00.0006.00.0007.00.0008.00.0009.00.0010.00.0011.00.0012.00.0013.00.0014.00.0015.00.0016.00.0017.00.0018.00.0019.00.0020.00.0021.00.0022.00.0023.00.0000.00.0001.00.0002.00.0003.00.0004.00.0005.00.0006.00.0007.00.0008.00.0009.00.0010.00.0011.00.0012.00.0013.00.0014.00.0015.00.0016.00.0017.00.0018.00.0019.00.0020.00.0021.00.0022.00.0023.00.0000.00.0001.00.0002.00.0003.00.0004.00.0005.00.0006.00.0007.00.0008.00.0009.00.0010.00.0011.00.0012.00.0013.00.0014.00.0015.00.0016.00.0017.00.0018.00.0019.00.0020.00.0021.00.0022.00.0023.00.0000.00.0001.00.0002.00.0003.00.0004.00.0005.00.0006.00.0007.00.0008.00.0009.00.0010.00.0011.00.0012.00.0013.00.0014.00.0015.00.0016.00.0017.00.0018.00.0019.00.0020.00.0021.00.0022.00.0023.00.0000.00.0001.00.0002.00.0003.00.0004.00.0005.00.0006.00.0007.00.0008.00.0009.00.0010.00.0011.00.0012.00.0013.00.0014.00.0015.00.0016.00.0017.00.0018.00.0019.00.0020.00.0021.00.0022.00.0023.00.0000.00.0001.00.0002.00.0003.00.0004.00.0005.00.0006.00.0007.00.0008.00.0009.00.0010.00.0011.00.0012.00.0013.00.0014.00.0015.00.0016.00.0017.00.0018.00.0019.00.0020.00.0021.00.0022.00.0023.00.0000.00.0001.00.0002.00.0003.00.0004.00.0005.00.0006.00.0007.00.0008.00.0009.00.0010.00.0011.00.0012.00.0013.00.0014.00.0015.00.0016.00.0017.00.0018.00.0019.00.0020.00.0021.00.0022.00.0023.00.0000.00.0001.00.0002.00.0003.00.0004.00.0005.00.0006.00.0007.00.0008.00.0009.00.0010.00.0011.00.0012.00.0013.00.0014.00.0015.00.0016.00.0017.00.0018.00.0019.00.0020.00.0021.00.0022.00.0023.00.0000.00.0001.00.0002.00.0003.00.0004.00.0005.00.0006.00.0007.00.0008.00.0009.00.0010.00.0011.00.0012.00.0013.00.0014.00.0015.00.0016.00.0017.00.0018.00.0019.00.0020.00.0021.00.0022.00.0023.00.0000.00.0001.00.0002.00.0003.00.0004.00.0005.00.0006.00.0007.00.0008.00.0009.00.0010.00.0011.00.0012.00.0013.00.0014.00.0015.00.0016.00.0017.00.0018.00.0019.00.0020.00.0021.00.0022.00.0023.00.0000.00.0001.00.0002.00.0003.00.0004.00.0005.00.0006.00.0007.00.0008.00.0009.00.0010.00.0011.00.0012.00.0013.00.0014.00.0015.00.0016.00.0017.00.0018.00.0019.00.0020.00.0021.00.0022.00.0023.00.0000.00.0001.00.0002.00.0003.00.0004.00.0005.00.0006.00.0007.00.0008.00.0009.00.0010.00.0011.00.0012.00.0013.00.0014.00.0015.00.0016.00.0017.00.0018.00.0019.00.0020.00.0021.00.0022.00.0023.00.0000.00.0001.00.0002.00.0003.00.0004.00.0005.00.0006.00.0007.00.0008.00.0009.00.0010.00.0011.00.0012.00.0013.00.0014.00.0015.00.0016.00.0017.00.0018.00.0019.00.0020.00.0021.00.0022.00.0023.00.0000.00.0001.00.0002.00.0003.00.0004.00.0005.00.0006.00.0007.00.0008.00.0009.00.0010.00.0011.00.0012.00.0013.00.0014.00.0015.00.0016.00.0017.00.0018.00.0019.00.0020.00.0021.00.0022.00.0023.00.0000.00.0001.00.0002.00.0003.00.0004.00.0005.00.0006.00.0007.00.0008.00.0009.00.0010.00.0011.00.0012.00.0013.00.0014.00.0015.00.0016.00.0017.00.0018.00.0019.00.0020.00.0021.00.0022.00.0023.00.0000.00.0001.00.0002.00.0003.00.0004.00.0005.00.0006.00.0007.00.0008.00.0009.00.0010.00.0011.00.0012.00.0013.00.0014.00.0015.00.0016.00.0017.00.0018.00.0019.00.0020.00.0021.00.0022.00.0023.00.0000.00.0001.00.0002.00.0003.00.0004.00.0005.00.0006.00.0007.00.0008.00.0009.00.0010.00.0011.00.0012.00.0013.00.0014.00.0015.00.0016.00.0017.00.0018.00.0019.00.0020.00.0021.00.0022.00.0023.00.0000.00.0001.00.0002.00.0003.00.0004.00.0005.00.0006.00.0007.00.0008.00.0009.00.0010.00.0011.00.0012.00.0013.00.0014.00.0015.00.0016.00.0017.00.0018.00.0019.00.0020.00.0021.00.0022.00.0023.00.0000.00.0001.00.0002.00.0003.00.0004.00.0005.00.0006.00.0007.00.0008.00.0009.00.0010.00.0011.00.0012.00.0013.00.0014.00.0015.00.0016.00.0017.00.0018.00.0019.00.0020.00.0021.00.0022.00.0023.00.0000.00.0001.00.0002.00.0003.00.0004.00.0005.00.0006.00.0007.00.0008.00.0009.00.0010.00.0011.00.0012.00.0013.00.0014.00.0015.00.0016.00.0017.00.0018.00.0019.00.0020.00.0021.00.0022.00.0023.00.0000.00.0001.00.0002.00.0003.00.0004.00.0005.00.0006.00.0007.00.0008.00.0009.00.0010.00.0011.00.0012.00.0013.00.0014.00.0015.00.0016.00.0017.00.0018.00.0019.00.0020.00.0021.00.0022.00.0023.00.0000.00.0001.00.0002.00.0003.00.0004.00.0005.00.0006.00.0007.00.0008.00.0009.00.0010.00.0011.00.0012.00.0013.00.0014.00.0015.00.0016.00.0017.00.0018.00.0019.00.0020.00.0021.00.0022.00.0023.00.0000.00.0001.00.0002.00.0003.00.0004.00.0005.00.0006.00.0007.00.0008.00.0009.00.0010.00.0011.00.0012.00.0013.00.0014.00.0015.00.0016.00.0017.00.0018.00.0019.00.0020.00.0021.00.0022.00.0023.00.0000.00.0001.00.0002.00.0003.00.0004.00.0005.00.0006.00.0007.00.0008.00.0009.00.0010.00.0011.00.0012.00.0013.00.0014.00.0015.00.0016.00.0017.00.0018.00.0019.00.0020.00.0021.00.0022.00.0023.00.0000.00.0001.00.0002.00.0003.00.0004.00.0005.00.0006.00.0007.00.0008.00.0009.00.0010.00.0011.00.0012.00.0013.00.0014.00.0015.00.0016.00.0017.00.0018.00.0019.00.0020.00.0021.00.0022.00.0023.00.0000.00.0001.00.0002.00.0003.00.0004.00.0005.00.0006.00.0007.00.0008.00.0009.00.0010.00.0011.00.0012.00.0013.00.0014.00.0015.00.0016.00.0017.00.0018.00.0019.00.0020.00.0021.00.0022.00.0023.00.0000.00.0001.00.0002.00.0003.00.0004.00.0005.00.0006.00.0007.00.0008.00.0009.00.0010.00.0011.00.0012.00.0013.00.0014.00.0015.00.0016.00.0017.00.0018.00.0019.00.0020.00.0021.00.0022.00.0023.00.0000.00.0001.00.0002.00.0003.00.0004.00.0005.00.0006.00.0007.00.0008.00.0009.00.0010.00.0011.00.0012.00.0013.00.0014.00.0015.00.0016.00.0017.00.0018.00.0019.00.0020.00.0021.00.0022.00.0023.00.0000.00.0001.00.0002.00.0003.00.0004.00.0005.00.0006.00.0007.00.0008.00.0009.00.0010.00.0011.00.0012.00.0013.00.0014.00.0015.00.0016.00.0017.00.0018.00.0019.00.0020.00.0021.00.0022.00.0023.00.0000.00.0001.00.0002.00.0003.00.0004.00.0005.00.0006.00.0007.00.0008.00.0009.00.0010.00.0011.00.0012.00.0013.00.0014.00.0015.00.0016.00.0017.00.0018.00.0019.00.0020.00.0021.00.0022.00.0023.00.0000.00.0001.00.0002.00.0003.00.0004.00.0005.00.0006.00.0007.00.0008.00.0009.00.0010.00.0011.00.0012.00.0013.00.0014.00.0015.00.0016.00.0017.00.0018.00.0019.00.0020.00.0021.00.0022.00.0023.00.0000.00.0001.00.0002.00.0003.00.0004.00.0005.00.0006.00.0007.00.0008.00.0009.00.0010.00.0011.00.0012.00.0013.00.0014.00.0015.00.0016.00.0017.00.0018.00.0019.00.0020.00.0021.00.0022.00.0023.00.0000.00.0001.00.0002.00.0003.00.0004.00.0005.00.0006.00.0007.00.0008.00.0009.00.0010.00.0011.00.0012.00.0013.00.0014.00.0015.00.0016.00.0017.00.0018.00.0019.00.0020.00.0021.00.0022.00.0023.00.0000.00.0001.00.0002.00.0003.00.0004.00.0005.00.0006.00.0007.00.0008.00.0009.00.0010.00.0011.00.0012.00.0013.00.0014.00.0015.00.0016.00.0017.00.0018.00.0019.00.0020.00.0021.00.0022.00.0023.00.0000.00.0001.00.0002.00.0003.00.0004.00.0005.00.0006.00.0007.00.0008.00.0009.00.0010.00.0011.00.0012.00.0013.00.0014.00.0015.00.0016.00.0017.00.0018.00.0019.00.0020.00.0021.00.0022.00.0023.00.0000.00.0001.00.0002.00.0003.00.0004.00.0005.00.0006.00.0007.00.0008.00.0009.00.0010.00.0011.00.0012.00.0013.00.0014.00.0015.00.0016.00.0017.00.0018.00.0019.00.0020.00.0021.00.0022.00.0023.00.0000.00.0001.00.0002.00.0003.00.0004.00.0005.00.0006.00.0007.00.0008.00.0009.00.0010.00.0011.00.0012.00.0013.00.0014.00.0015.00.0016.00.0017.00.0018.00.0019.00.0020.00.0021.00.0022.00.0023.00.0000.00.0001.00.0002.00.0003.00.0004.00.0005.00.0006.00.0007.00.0008.00.0009.00.0010.00.0011.00.0012.00.0013.00.0014.00.0015.00.0016.00.0017.00.0018.00.0019.00.0020.00.0021.00.0022.00.0023.00.0000.00.0001.00.0002.00.0003.00.0004.00.0005.00.0006.00.0007.00.0008.00.0009.00.0010.00.0011.00.0012.00.0013.00.0014.00.0015.00.0016.00.0017.00.0018.00.0019.00.0020.00.0021.00.0022.00.0023.00.0000.00.0001.00.0002.00.0003.00.0004.00.0005.00.0006.00.0007.00.0008.00.0009.00.0010.00.0011.00.0012.00.0013.00.0014.00.0015.00.0016.00.0017.00.0018.00.0019.00.0020.00.0021.00.0022.00.0023.00.0000.00.0001.00.0002.00.0003.00.0004.00.0005.00.0006.00.0007.00.0008.00.0009.00.0010.00.0011.00.0012.00.0013.00.0014.00.0015.00.0016.00.0017.00.0018.00.0019.00.0020.00.0021.00.0022.00.0023.00.0000.00.0001.00.0002.00.0003.00.0004.00.0005.00.0006.00.0007.00.0008.00.0009.00.0010.00.0011.00.0012.00.0013.00.0014.00.0015.00.0016.00.0017.00.0018.00.0019.00.0020.00.0021.00.0022.00.0023.00.0000.00.0001.00.0002.00.0003.00.0004.00.0005.00.0006.00.0007.00.0008.00.0009.00.0010.00.0011.00.0012.00.0013.00.0014.00.0015.00.0016.00.0017.00.0018.00.0019.00.0020.00.0021.00.0022.00.0023.00.0000.00.0001.00.0002.00.0003.00.0004.00.0005.00.0006.00.0007.00.0008.00.0009.00.0010.00.0011.00.0012.00.0013.00.0014.00.0015.00.0016.00.0017.00.0018.00.0019.00.0020.00.0021.00.0022.00.0023.00.0000.00.0001.00.0002.00.0003.00.0004.00.0005.00.0006.00.0007.00.0008.00.0009.00.0010.00.0011.00.0012.00.0013.00.0014.00.0015.00.0016.00.0017.00.0018.00.0019.00.0020.00.0021.00.0022.00.0023.00.0000.00.0001.00.0002.00.0003.00.0004.00.0005.00.0006.00.0007.00.0008.00.0009.00.0010.00.0011.00.0012.00.0013.00.0014.00.0015.00.0016.00.0017.00.0018.00.0019.00.0020.00.0021.00.0022.00.0023.00.0000.00.0001.00.0002.00.0003.00.0004.00.0005.00.0006.00.0007.00.0008.00.0009.00.0010.00.0011.00.0012.00.0013.00.0014.00.0015.00.0016.00.0017.00.0018.00.0019.00.0020.00.0021.00.0022.00.0023.00.0000.00.0001.00.0002.00.0003.00.0004.00.0005.00.0006.00.0007.00.0008.00.0009.00.0010.00.0011.00.0012.00.0013.00.0014.00.0015.00.0016.00.0017.00.0018.00.0019.00.0020.00.0021.00.0022.00.0023.00.0000.00.0001.00.0002.00.0003.00.0004.00.0005.00.0006.00.0007.00.0008.00.0009.00.0010.00.0011.00.0012.00.0013.00.0014.00.0015.00.0016.00.0017.00.0018.00.0019.00.0020.00.0021.00.0022.00.0023.00.0000.00.0001.00.0002.00.0003.00.0004.00.0005.00.0006.00.0007.00.0008.00.0009.00.0010.00.0011.00.0012.00.0013.00.0014.00.0015.00.0016.00.0017.00.0018.00.0019.00.0020.00.0021.00.0022.00.0023.00.0000.00.0001.00.0002.00.0003.00.0004.00.0005.00.0006.00.0007.00.0008.00.0009.00.0010.00.0011.00.0012.00.0013.00.0014.00.0015.00.0016.00.0017.00.0018.00.0019.00.0020.00.0021.00.0022.00.0023.00.0000.00.0001.00.0002.00.0003.00.0004.00.0005.00.0006.00.0007.00.0008.00.0009.00.0010.00.0011.00.0012.00.0013.00.0014.00.0015.00.0016.00.0017.00.0018.00.0019.00.0020.00.0021.00.0022.00.0023.00.0000.00.0001.00.0002.00.0003.00.0004.00.0005.00.0006.00.0007.00.0008.00.0009.00.0010.00.0011.00.0012.00.0013.00.0014.00.0015.00.0016.00.0017.00.0018.00.0019.00.0020.00.0021.00.0022.00.0023.00.0000.00.0001.00.0002.00.0003.00.0004.00.0005.00.0006.00.0007.00.0008.00.0009.00.0010.00.0011.00.0012.00.0013.00.0014.00.0015.00.0016.00.0017.00.0018.00.0019.00.0020.00.0021.00.0022.00.0023.00.0000.00.0001.00.0002.00.0003.00.0004.00.0005.00.0006.00.0007.00.0008.00.0009.00.0010.00.0011.00.0012.00.0013.00.0014.00.0015.00.0016.00.0017.00.0018.00.0019.00.0020.00.0021.00.0022.00.0023.00.0000.00.0001.00.0002.00.0003.00.0004.00.0005.00.0006.00.0007.00.0008.00.0009.00.0010.00.0011.00.0012.00.0013.00.0014.00.0015.00.0016.00.0017.00.0018.00.0019.00.0020.00.0021.00.0022.00.0023.00.0000.00.0001.00.0002.00.0003.00.0004.00.0005.00.0006.00.0007.00.0008.00.0009.00.0010.00.0011.00.0012.00.0013.00.0014.00.0015.00.0016.00.0017.00.0018.00.0019.00.0020.00.0021.00.0022.00.0023.00.0000.00.0001.00.0002.00.0003.00.0004.00.0005.00.0006.00.0007.00.0008.00.0009.00.0010.00.0011.00.0012.00.0013.00.0014.00.0015.00.0016.00.0017.00.0018.00.0019.00.0020.00.0021.00.0022.00.0023.00.0000.00.0001.00.0002.00.0003.00.0004.00.0005.00.0006.00.0007.00.0008.00.0009.00.0010.00.0011.00.0012.00.0013.00.0014.00.0015.00.0016.00.0017.00.0018.00.0019.00.0020.00.0021.00.0022.00.0023.00.0000.00.0001.00.0002.00.0003.00.0004.00.0005.00.0006.00.0007.00.0008.00.0009.00.0010.00.0011.00.0012.00.0013.00.0014.00.0015.00.0016.00.0017.00.0018.00.0019.00.0020.00.0021.00.0022.00.0023.00.0000.00.0001.00.0002.00.0003.00.0004.00.0005.00.0006.00.0007.00.0008.00.0009.00.0010.00.0011.00.0012.00.0013.00.0014.00.0015.00.0016.00.0017.00.0018.00.0019.00.0020.00.0021.00.0022.00.0023.00.0000.00.0001.00.0002.00.0003.00.0004.00.0005.00.0006.00.0007.00.0008.00.0009.00.0010.00.0011.00.0012.00.0013.00.0014.00.0015.00.0016.00.0017.00.0018.00.0019.00.0020.00.0021.00.0022.00.0023.00.0000.00.0001.00.0002.00.0003.00.0004.00.0005.00.0006.00.0007.00.0008.00.0009.00.0010.00.0011.00.0012.00.0013.00.0014.00.0015.00.0016.00.0017.00.0018.00.0019.00.0020.00.0021.00.0022.00.0023.00.0000.00.0001.00.0002.00.0003.00.0004.00.0005.00.0006.00.0007.00.0008.00.0009.00.0010.00.0011.00.0012.00.0013.00.0014.00.0015.00.0016.00.0017.00.0018.00.0019.00.0020.00.0021.00.0022.00.0023.00.0000.00.0001.00.0002.00.0003.00.0004.00.0005.00.0006.00.0007.00.0008.00.0009.00.0010.00.0011.00.0012.00.0013.00.0014.00.0015.00.0016.00.0017.00.0018.00.0019.00.0020.00.0021.00.0022.00.0023.00.0000.00.0001.00.0002.00.0003.00.0004.00.0005.00.0006.00.0007.00.0008.00.0009.00.0010.00.0011.00.0012.00.0013.00.0014.00.0015.00.0016.00.0017.00.0018.00.0019.00.0020.00.0021.00.0022.00.0023.00.0000.00.0001.00.0002.00.0003.00.0004.00.0005.00.0006.00.0007.00.0008.00.0009.00.0010.00.0011.00.0012.00.0013.00.0014.00.0015.00.0016.00.0017.00.0018.00.0019.00.0020.00.0021.00.0022.00.0023.00.0000.00.0001.00.0002.00.0003.00.0004.00.0005.00.0006.00.0007.00.0008.00.0009.00.0010.00.0011.00.0012.00.0013.00.0014.00.0015.00.0016.00.0017.00.0018.00.0019.00.0020.00.0021.00.0022.00.0023.00.0000.00.0001.00.0002.00.0003.00.0004.00.0005.00.0006.00.0007.00.0008.00.0009.00.0010.00.0011.00.0012.00.0013.00.0014.00.0015.00.0016.00.0017.00.0018.00.0019.00.0020.00.0021.00.0022.00.0023.00.0000.00.0001.00.0002.00.0003.00.0004.00.0005.00.0006.00.0007.00.0008.00.0009.00.0010.00.0011.00.0012.00.0013.00.0014.00.0015.00.0016.00.0017.00.0018.00.0019.00.0020.00.0021.00.0022.00.0023.00.0000.00.0001.00.0002.00.0003.00.0004.00.0005.00.0006.00.0007.00.0008.00.0009.00.0010.00.0011.00.0012.00.0013.00.0014.00.0015.00.0016.00.0017.00.0018.00.0019.00.0020.00.0021.00.0022.00.0023.00.0000.00.0001.00.0002.00.0003.00.0004.00.0005.00.0006.00.0007.00.0008.00.0009.00.0010.00.0011.00.0012.00.0013.00.0014.00.0015.00.0016.00.0017.00.0018.00.0019.00.0020.00.0021.00.0022.00.0023.00.0000.00.0001.00.0002.00.0003.00.0004.00.0005.00.0006.00.0007.00.0008.00.0009.00.0010.00.0011.00.0012.00.0013.00.0014.00.0015.00.0016.00.0017.00.0018.00.0019.00.0020.00.0021.00.0022.00.0023.00.0000.00.0001.00.0002.00.0003.00.0004.00.0005.00.0006.00.0007.00.0008.00.0009.00.0010.00.0011.00.0012.00.0013.00.0014.00.0015.00.0016.00.0017.00.0018.00.0019.00.0020.00.0021.00.0022.00.0023.00.0000.00.0001.00.0002.00.0003.00.0004.00.0005.00.0006.00.0007.00.0008.00.0009.00.0010.00.0011.00.0012.00.0013.00.0014.00.0015.00.0016.00.0017.00.0018.00.0019.00.0020.00.0021.00.0022.00.0023.00.0000.00.0001.00.0002.00.0003.00.0004.00.0005.00.0006.00.0007.00.0008.00.0009.00.0010.00.0011.00.0012.00.0013.00.0014.00.0015.00.0016.00.0017.00.0018.00.0019.00.0020.00.0021.00.0022.00.0023.00.0000.00.0001.00.0002.00.0003.00.0004.00.0005.00.0006.00.0007.00.0008.00.0009.00.0010.00.0011.00.0012.00.0013.00.0014.00.0015.00.0016.00.0017.00.0018.00.0019.00.0020.00.0021.00.0022.00.0023.00.0000.00.0001.00.0002.00.0003.00.0004.00.0005.00.0006.00.0007.00.0008.00.0009.00.0010.00.0011.00.0012.00.0013.00.0014.00.0015.00.0016.00.0017.00.0018.00.0019.00.0020.00.0021.00.0022.00.0023.00.0000.00.0001.00.0002.00.0003.00.0004.00.0005.00.0006.00.0007.00.0008.00.0009.00.0010.00.0011.00.0012.00.0013.00.0014.00.0015.00.0016.00.0017.00.0018.00.0019.00.0020.00.0021.00.0022.00.0023.00.0000.00.0001.00.0002.00.0003.00.0004.00.0005.00.0006.00.0007.00.0008.00.0009.00.0010.00.0011.00.0012.00.0013.00.0014.00.0015.00.0016.00.0017.00.0018.00.0019.00.0020.00.0021.00.0022.00.0023.00.0000.00.0001.00.0002.00.0003.00.0004.00.0005.00.0006.00.0007.00.0008.00.0009.00.0010.00.0011.00.0012.00.0013.00.0014.00.0015.00.0016.00.0017.00.0018.00.0019.00.0020.00.0021.00.0022.00.0023.00.0000.00.0001.00.0002.00.0003.00.0004.00.0005.00.0006.00.0007.00.0008.00.0009.00.0010.00.0011.00.0012.00.0013.00.0014.00.0015.00.0016.00.0017.00.0018.00.0019.00.0020.00.0021.00.0022.00.0023.00.0000.00.0001.00.0002.00.0003.00.0004.00.0005.00.0006.00.0007.00.0008.00.0009.00.0010.00.0011.00.0012.00.0013.00.0014.00.0015.00.0016.00.0017.00.0018.00.0019.00.0020.00.0021.00.0022.00.0023.00.0000.00.0001.00.0002.00.0003.00.0004.00.0005.00.0006.00.0007.00.0008.00.0009.00.0010.00.0011.00.0012.00.0013.00.0014.00.0015.00.0016.00.0017.00.0018.00.0019.00.0020.00.0021.00.0022.00.0023.00.0000.00.0001.00.0002.00.0003.00.0004.00.0005.00.0006.00.0007.00.0008.00.0009.00.0010.00.0011.00.0012.00.0013.00.0014.00.0015.00.0016.00.0017.00.0018.00.0019.00.0020.00.0021.00.0022.00.0023.00.0000.00.0001.00.0002.00.0003.00.0004.00.0005.00.0006.00.0007.00.0008.00.0009.00.0010.00.0011.00.0012.00.0013.00.0014.00.0015.00.0016.00.0017.00.0018.00.0019.00.0020.00.0021.00.0022.00.0023.00.0000.00.0001.00.0002.00.0003.00.0004.00.0005.00.0006.00.0007.00.0008.00.0009.00.0010.00.0011.00.0012.00.0013.00.0014.00.0015.00.0016.00.0017.00.0018.00.0019.00.0020.00.0021.00.0022.00.0023.00.0000.00.0001.00.0002.00.0003.00.0004.00.0005.00.0006.00.0007.00.0008.00.0009.00.0010.00.0011.00.0012.00.0013.00.0014.00.0015.00.0016.00.0017.00.0018.00.0019.00.0020.00.0021.00.0022.00.0023.00.0000.00.0001.00.0002.00.0003.00.0004.00.0005.00.0006.00.0007.00.0008.00.0009.00.0010.00.0011.00.0012.00.0013.00.0014.00.0015.00.0016.00.0017.00.0018.00.0019.00.0020.00.0021.00.0022.00.0023.00.0000.00.0001.00.0002.00.0003.00.0004.00.0005.00.0006.00.0007.00.0008.00.0009.00.0010.00.0011.00.0012.00.0013.00.0014.00.0015.00.0016.00.0017.00.0018.00.0019.00.0020.00.0021.00.0022.00.0023.00.0000.00.0001.00.0002.00.0003.00.0004.00.0005.00.0006.00.0007.00.0008.00.0009.00.0010.00.0011.00.0012.00.0013.00.0014.00.0015.00.0016.00.0017.00.0018.00.0019.00.0020.00.0021.00.0022.00.0023.00.0000.00.0001.00.0002.00.0003.00.0004.00.0005.00.0006.00.0007.00.0008.00.0009.00.0010.00.0011.00.0012.00.0013.00.0014.00.0015.00.0016.00.0017.00.0018.00.0019.00.0020.00.0021.00.0022.00.0023.00.0000.00.0001.00.0002.00.0003.00.0004.00.0005.00.0006.00.0007.00.0008.00.0009.00.0010.00.0011.00.0012.00.0013.00.0014.00.0015.00.0016.00.0017.00.0018.00.0019.00.0020.00.0021.00.0022.00.0023.00.0000.00.0001.00.0002.00.0003.00.0004.00.0005.00.0006.00.0007.00.0008.00.0009.00.0010.00.0011.00.0012.00.0013.00.0014.00.0015.00.0016.00.0017.00.0018.00.0019.00.0020.00.0021.00.0022.00.0023.00.0000.00.0001.00.0002.00.0003.00.0004.00.0005.00.0006.00.0007.00.0008.00.0009.00.0010.00.0011.00.0012.00.0013.00.0014.00.0015.00.0016.00.0017.00.0018.00.0019.00.0020.00.0021.00.0022.00.0023.00.0000.00.0001.00.0002.00.0003.00.0004.00.0005.00.0006.00.0007.00.0008.00.0009.00.0010.00.0011.00.0012.00.0013.00.0014.00.0015.00.0016.00.0017.00.0018.00.0019.00.0020.00.0021.00.0022.00.0023.00.0000.00.0001.00.0002.00.0003.00.0004.00.0005.00.0006.00.0007.00.0008.00.0009.00.0010.00.0011.00.0012.00.0013.00.0014.00.0015.00.0016.00.0017.00.0018.00.0019.00.0020.00.0021.00.0022.00.0023.00.0000.00.0001.00.0002.00.0003.00.0004.00.0005.00.0006.00.0007.00.0008.00.0009.00.0010.00.0011.00.0012.00.0013.00.0014.00.0015.00.0016.00.0017.00.0018.00.0019.00.0020.00.0021.00.0022.00.0023.00.0000.00.0001.00.0002.00.0003.00.0004.00.0005.00.0006.00.0007.00.0008.00.0009.00.0010.00.0011.00.0012.00.0013.00.0014.00.0015.00.0016.00.0017.00.0018.00.0019.00.0020.00.0021.00.0022.00.0023.00.0000.00.0001.00.0002.00.0003.00.0004.00.0005.00.0006.00.0007.00.0008.00.0009.00.0010.00.0011.00.0012.00.0013.00.0014.00.0015.00.0016.00.0017.00.0018.00.0019.00.0020.00.0021.00.0022.00.0023.00.0000.00.0001.00.0002.00.0003.00.0004.00.0005.00.0006.00.0007.00.0008.00.0009.00.0010.00.0011.00.0012.00.0013.00.0014.00.0015.00.0016.00.0017.00.0018.00.0019.00.0020.00.0021.00.0022.00.0023.00.0000.00.0001.00.0002.00.0003.00.0004.00.0005.00.0006.00.0007.00.0008.00.0009.00.0010.00.0011.00.0012.00.0013.00.0014.00.0015.00.0016.00.0017.00.0018.00.0019.00.0020.00.0021.00.0022.00.0023.00.0000.00.0001.00.0002.00.0003.00.0004.00.0005.00.0006.00.0007.00.0008.00.0009.00.0010.00.0011.00.0012.00.0013.00.0014.00.0015.00.0016.00.0017.00.0018.00.0019.00.0020.00.0021.00.0022.00.0023.00.0000.00.0001.00.0002.00.0003.00.0004.00.0005.00.0006.00.0007.00.0008.00.0009.00.0010.00.0011.00.0012.00.0013.00.0014.00.0015.00.0016.00.0017.00.0018.00.0019.00.0020.00.0021.00.0022.00.0023.00.0000.00.0001.00.0002.00.0003.00.0004.00.0005.00.0006.00.0007.00.0008.00.0009.00.0010.00.0011.00.0012.00.0013.00.0014.00.0015.00.0016.00.0017.00.0018.00.0019.00.0020.00.0021.00.0022.00.0023.00.0000.00.0001.00.0002.00.0003.00.0004.00.0005.00.0006.00.0007.00.0008.00.0009.00.0010.00.0011.00.0012.00.0013.00.0014.00.0015.00.0016.00.0017.00.0018.00.0019.00.0020.00.0021.00.0022.00.0023.00.0000.00.0001.00.0002.00.0003.00.0004.00.0005.00.0006.00.0007.00.0008.00.0009.00.0010.00.0011.00.0012.00.0013.00.0014.00.0015.00.0016.00.0017.00.0018.00.0019.00.0020.00.0021.00.0022.00.0023.00.0000.00.0001.00.0002.00.0003.00.0004.00.0005.00.0006.00.0007.00.0008.00.0009.00.0010.00.0011.00.0012.00.0013.00.0014.00.0015.00.0016.00.0017.00.0018.00.0019.00.0020.00.0021.00.0022.00.0023.00.0000.00.0001.00.0002.00.0003.00.0004.00.0005.00.0006.00.0007.00.0008.00.0009.00.0010.00.0011.00.0012.00.0013.00.0014.00.0015.00.0016.00.0017.00.0018.00.0019.00.0020.00.0021.00.0022.00.0023.00.0000.00.0001.00.0002.00.0003.00.0004.00.0005.00.0006.00.0007.00.0008.00.0009.00.0010.00.0011.00.0012.00.0013.00.0014.00.0015.00.0016.00.0017.00.0018.00.0019.00.0020.00.0021.00.0022.00.0023.00.0000.00.0001.00.0002.00.0003.00.0004.00.0005.00.0006.00.0007.00.0008.00.0009.00.0010.00.0011.00.0012.00.0013.00.0014.00.0015.00.0016.00.0017.00.0018.00.0019.00.0020.00.0021.00.0022.00.0023.00.0000.00.0001.00.0002.00.0003.00.0004.00.0005.00.0006.00.0007.00.0008.00.0009.00.0010.00.0011.00.0012.00.0013.00.0014.00.0015.00.0016.00.0017.00.0018.00.0019.00.0020.00.0021.00.0022.00.0023.00.0000.00.0001.00.0002.00.0003.00.0004.00.0005.00.0006.00.0007.00.0008.00.0009.00.0010.00.0011.00.0012.00.0013.00.0014.00.0015.00.0016.00.0017.00.0018.00.0019.00.0020.00.0021.00.0022.00.0023.00.0000.00.0001.00.0002.00.0003.00.0004.00.0005.00.0006.00.0007.00.0008.00.0009.00.0010.00.0011.00.0012.00.0013.00.0014.00.0015.00.0016.00.0017.00.0018.00.0019.00.0020.00.0021.00.0022.00.0023.00.0000.00.0001.00.0002.00.0003.00.0004.00.0005.00.0006.00.0007.00.0008.00.0009.00.0010.00.0011.00.0012.00.0013.00.0014.00.0015.00.0016.00.0017.00.0018.00.0019.00.0020.00.0021.00.0022.00.0023.00.0000.00.0001.00.0002.00.0003.00.0004.00.0005.00.0006.00.0007.00.0008.00.0009.00.0010.00.0011.00.0012.00.0013.00.0014.00.0015.00.0016.00.0017.00.0018.00.0019.00.0020.00.0021.00.0022.00.0023.00.0000.00.0001.00.0002.00.0003.00.0004.00.0005.00.0006.00.0007.00.0008.00.0009.00.0010.00.0011.00.0012.00.0013.00.0014.00.0015.00.0016.00.0017.00.0018.00.0019.00.0020.00.0021.00.0022.00.0023.00.0000.00.0001.00.0002.00.0003.00.0004.00.0005.00.0006.00.0007.00.0008.00.0009.00.0010.00.0011.00.0012.00.0013.00.0014.00.0015.00.0016.00.0017.00.0018.00.0019.00.0020.00.0021.00.0022.00.0023.00.0000.00.0001.00.0002.00.0003.00.0004.00.0005.00.0006.00.0007.00.0008.00.0009.00.0010.00.0011.00.0012.00.0013.00.0014.00.0015.00.0016.00.0017.00.0018.00.0019.00.0020.00.0021.00.0022.00.0023.00.0000.00.0001.00.0002.00.0003.00.0004.00.0005.00.0006.00.0007.00.0008.00.0009.00.0010.00.0011.00.0012.00.0013.00.0014.00.0015.00.0016.00.0017.00.0018.00.0019.00.0020.00.0021.00.0022.00.0023.00.0000.00.0001.00.0002.00.0003.00.0004.00.0005.00.0006.00.0007.00.0008.00.0009.00.0010.00.0011.00.0012.00.0013.00.0014.00.0015.00.0016.00.0017.00.0018.00.0019.00.0020.00.0021.00.0022.00.0023.00.0000.00.0001.00.0002.00.0003.00.0004.00.0005.00.0006.00.0007.00.0008.00.0009.00.0010.00.0011.00.0012.00.0013.00.0014.00.0015.00.0016.00.0017.00.0018.00.0019.00.0020.00.0021.00.0022.00.0023.00.0000.00.0001.00.0002.00.0003.00.0004.00.0005.00.0006.00.0007.00.0008.00.0009.00.0010.00.0011.00.0012.00.0013.00.0014.00.0015.00.0016.00.0017.00.0018.00.0019.00.0020.00.0021.00.0022.00.0023.00.0000.00.0001.00.0002.00.0003.00.0004.00.0005.00.0006.00.0007.00.0008.00.0009.00.0010.00.0011.00.0012.00.0013.00.0014.00.0015.00.0016.00.0017.00.0018.00.0019.00.0020.00.0021.00.0022.00.0023.00.0000.00.0001.00.0002.00.0003.00.0004.00.0005.00.0006.00.0007.00.0008.00.0009.00.0010.00.0011.00.0012.00.0013.00.0014.00.0015.00.0016.00.0017.00.0018.00.0019.00.0020.00.0021.00.0022.00.0023.00.0000.00.0001.00.0002.00.0003.00.0004.00.0005.00.0006.00.0007.00.0008.00.0009.00.0010.00.0011.00.0012.00.0013.00.0014.00.0015.00.0016.00.0017.00.0018.00.0019.00.0020.00.0021.00.0022.00.0023.00.0000.00.0001.00.0002.00.0003.00.0004.00.0005.00.0006.00.0007.00.0008.00.0009.00.0010.00.0011.00.0012.00.0013.00.0014.00.0015.00.0016.00.0017.00.0018.00.0019.00.0020.00.0021.00.0022.00.0023.00.0000.00.0001.00.0002.00.0003.00.0004.00.0005.00.0006.00.0007.00.0008.00.0009.00.0010.00.0011.00.0012.00.0013.00.0014.00.0015.00.0016.00.0017.00.0018.00.0019.00.0020.00.0021.00.0022.00.0023.00.0000.00.0001.00.0002.00.0003.00.0004.00.0005.00.0006.00.0007.00.0008.00.0009.00.0010.00.0011.00.0012.00.0013.00.0014.00.0015.00.0016.00.0017.00.0018.00.0019.00.0020.00.0021.00.0022.00.0023.00.0000.00.0001.00.0002.00.0003.00.0004.00.0005.00.0006.00.0007.00.0008.00.0009.00.0010.00.0011.00.0012.00.0013.00.0014.00.0015.00.0016.00.0017.00.0018.00.0019.00.0020.00.0021.00.0022.00.0023.00.0000.00.0001.00.0002.00.0003.00.0004.00.0005.00.0006.00.0007.00.0008.00.0009.00.0010.00.0011.00.0012.00.0013.00.0014.00.0015.00.0016.00.0017.00.0018.00.0019.00.0020.00.0021.00.0022.00.0023.00.0000.00.0001.00.0002.00.0003.00.0004.00.0005.00.0006.00.0007.00.0008.00.0009.00.0010.00.0011.00.0012.00.0013.00.0014.00.0015.00.0016.00.0017.00.0018.00.0019.00.0020.00.0021.00.0022.00.0023.00.0000.00.0001.00.0002.00.0003.00.0004.00.0005.00.0006.00.0007.00.0008.00.0009.00.0010.00.0011.00.0012.00.0013.00.0014.00.0015.00.0016.00.0017.00.0018.00.0019.00.0020.00.0021.00.0022.00.0023.00.0000.00.0001.00.0002.00.0003.00.0004.00.0005.00.0006.00.0007.00.0008.00.0009.00.0010.00.0011.00.0012.00.0013.00.0014.00.0015.00.0016.00.0017.00.0018.00.0019.00.0020.00.0021.00.0022.00.0023.00.0000.00.0001.00.0002.00.0003.00.0004.00.0005.00.0006.00.0007.00.0008.00.0009.00.0010.00.0011.00.0012.00.0013.00.0014.00.0015.00.0016.00.0017.00.0018.00.0019.00.0020.00.0021.00.0022.00.0023.00.0000.00.0001.00.0002.00.0003.00.0004.00.0005.00.0006.00.0007.00.0008.00.0009.00.0010.00.0011.00.0012.00.0013.00.0014.00.0015.00.0016.00.0017.00.0018.00.0019.00.0020.00.0021.00.0022.00.0023.00.0000.00.0001.00.0002.00.0003.00.0004.00.0005.00.0006.00.0007.00.0008.00.0009.00.0010.00.0011.00.0012.00.0013.00.0014.00.0015.00.0016.00.0017.00.0018.00.0019.00.0020.00.0021.00.0022.00.0023.00.0000.00.0001.00.0002.00.0003.00.0004.00.0005.00.0006.00.0007.00.0008.00.0009.00.0010.00.0011.00.0012.00.0013.00.0014.00.0015.00.0016.00.0017.00.0018.00.0019.00.0020.00.0021.00.0022.00.0023.00.0000.00.0001.00.0002.00.0003.00.0004.00.0005.00.0006.00.0007.00.0008.00.0009.00.0010.00.0011.00.0012.00.0013.00.0014.00.0015.00.0016.00.0017.00.0018.00.0019.00.0020.00.0021.00.0022.00.0023.00.0000.00.0001.00.0002.00.0003.00.0004.00.0005.00.0006.00.0007.00.0008.00.0009.00.0010.00.0011.00.0012.00.0013.00.0014.00.0015.00.0016.00.0017.00.0018.00.0019.00.0020.00.0021.00.0022.00.0023.00.0000.00.0001.00.0002.00.0003.00.0004.00.0005.00.0006.00.0007.00.0008.00.0009.00.0010.00.0011.00.0012.00.0013.00.0014.00.0015.00.0016.00.0017.00.0018.00.0019.00.0020.00.0021.00.0022.00.0023.00.0000.00.0001.00.0002.00.0003.00.0004.00.0005.00.0006.00.0007.00.0008.00.0009.00.0010.00.0011.00.0012.00.0013.00.0014.00.0015.00.0016.00.0017.00.0018.00.0019.00.0020.00.0021.00.0022.00.0023.00.0000.00.0001.00.0002.00.0003.00.0004.00.0005.00.0006.00.0007.00.0008.00.0009.00.0010.00.0011.00.0012.00.0013.00.0014.00.0015.00.0016.00.0017.00.0018.00.0019.00.0020.00.0021.00.0022.00.0023.00.0000.00.0001.00.0002.00.0003.00.0004.00.0005.00.0006.00.0007.00.0008.00.0009.00.0010.00.0011.00.0012.00.0013.00.0014.00.0015.00.0016.00.0017.00.0018.00.0019.00.0020.00.0021.00.0022.00.0023.00.0000.00.0001.00.0002.00.0003.00.0004.00.0005.00.0006.00.0007.00.0008.00.0009.00.0010.00.0011.00.0012.00.0013.00.0014.00.0015.00.0016.00.0017.00.0018.00.0019.00.0020.00.0021.00.0022.00.0023.00.0000.00.0001.00.0002.00.0003.00.0004.00.0005.00.0006.00.0007.00.0008.00.0009.00.0010.00.0011.00.0012.00.0013.00.0014.00.0015.00.0016.00.0017.00.0018.00.0019.00.0020.00.0021.00.0022.00.0023.00.0000.00.0001.00.0002.00.0003.00.0004.00.0005.00.0006.00.0007.00.0008.00.0009.00.0010.00.0011.00.0012.00.0013.00.0014.00.0015.00.0016.00.0017.00.0018.00.0019.00.0020.00.0021.00.0022.00.0023.00.0000.00.0001.00.0002.00.0003.00.0004.00.0005.00.0006.00.0007.00.0008.00.0009.00.0010.00.0011.00.0012.00.0013.00.0014.00.0015.00.0016.00.0017.00.0018.00.0019.00.0020.00.0021.00.0022.00.0023.00.0000.00.0001.00.0002.00.0003.00.0004.00.0005.00.0006.00.0007.00.0008.00.0009.00.0010.00.0011.00.0012.00.0013.00.0014.00.0015.00.0016.00.0017.00.0018.00.0019.00.0020.00.0021.00.0022.00.0023.00.0000.00.0001.00.0002.00.0003.00.0004.00.0005.00.0006.00.0007.00.0008.00.0009.00.0010.00.0011.00.0012.00.0013.00.0014.00.0015.00.0016.00.0017.00.0018.00.0019.00.0020.00.0021.00.0022.00.0023.00.0000.00.0001.00.0002.00.0003.00.0004.00.0005.00.0006.00.0007.00.0008.00.0009.00.0010.00.0011.00.0012.00.0013.00.0014.00.0015.00.0016.00.0017.00.0018.00.0019.00.0020.00.0021.00.0022.00.0023.00.0000.00.0001.00.0002.00.0003.00.0004.00.0005.00.0006.00.0007.00.0008.00.0009.00.0010.00.0011.00.0012.00.0013.00.0014.00.0015.00.0016.00.0017.00.0018.00.0019.00.0020.00.0021.00.0022.00.0023.00.0000.00.0001.00.0002.00.0003.00.0004.00.0005.00.0006.00.0007.00.0008.00.0009.00.0010.00.0011.00.0012.00.0013.00.0014.00.0015.00.0016.00.0017.00.0018.00.0019.00.0020.00.0021.00.0022.00.0023.00.0000.00.0001.00.0002.00.0003.00.0004.00.0005.00.0006.00.0007.00.0008.00.0009.00.0010.00.0011.00.0012.00.0013.00.0014.00.0015.00.0016.00.0017.00.0018.00.0019.00.0020.00.0021.00.0022.00.0023.00.0000.00.0001.00.0002.00.0003.00.0004.00.0005.00.0006.00.0007.00.0008.00.0009.00.0010.00.0011.00.0012.00.0013.00.0014.00.0015.00.0016.00.0017.00.0018.00.0019.00.0020.00.0021.00.0022.00.0023.00.0000.00.0001.00.0002.00.0003.00.0004.00.0005.00.0006.00.0007.00.0008.00.0009.00.0010.00.0011.00.0012.00.0013.00.0014.00.0015.00.0016.00.0017.00.0018.00.0019.00.0020.00.0021.00.0022.00.0023.00.0000.00.0001.00.0002.00.0003.00.0004.00.0005.00.0006.00.0007.00.0008.00.0009.00.0010.00.0011.00.0012.00.0013.00.0014.00.0015.00.0016.00.0017.00.0018.00.0019.00.0020.00.0021.00.0022.00.0023.00.0000.00.0001.00.0002.00.0003.00.0004.00.0005.00.0006.00.0007.00.0008.00.0009.00.0010.00.0011.00.0012.00.0013.00.0014.00.0015.00.0016.00.0017.00.0018.00.0019.00.0020.00.0021.00.0022.00.0023.00.0000.00.0001.00.0002.00.0003.00.0004.00.0005.00.0006.00.0007.00.0008.00.0009.00.0010.00.0011.00.0012.00.0013.00.0014.00.0015.00.0016.00.0017.00.0018.00.0019.00.0020.00.0021.00.0022.00.0023.00.0000.00.0001.00.0002.00.0003.00.0004.00.0005.00.0006.00.0007.00.0008.00.0009.00.0010.00.0011.00.0012.00.0013.00.0014.00.0015.00.0016.00.0017.00.0018.00.0019.00.0020.00.0021.00.0022.00.0023.00.0000.00.0001.00.0002.00.0003.00.0004.00.0005.00.0006.00.0007.00.0008.00.0009.00.0010.00.0011.00.0012.00.0013.00.0014.00.0015.00.0016.00.0017.00.0018.00.0019.00.0020.00.0021.00.0022.00.0023.00.0000.00.0001.00.0002.00.0003.00.0004.00.0005.00.0006.00.0007.00.0008.00.0009.00.0010.00.0011.00.0012.00.0013.00.0014.00.0015.00.0016.00.0017.00.0018.00.0019.00.0020.00.0021.00.0022.00.0023.00.0000.00.0001.00.0002.00.0003.00.0004.00.0005.00.0006.00.0007.00.0008.00.0009.00.0010.00.0011.00.0012.00.0013.00.0014.00.0015.00.0016.00.0017.00.0018.00.0019.00.0020.00.0021.00.0022.00.0023.00.0000.00.0001.00.0002.00.0003.00.0004.00.0005.00.0006.00.0007.00.0008.00.0009.00.0010.00.0011.00.0012.00.0013.00.0014.00.0015.00.0016.00.0017.00.0018.00.0019.00.0020.00.0021.00.0022.00.0023.00.0000.00.0001.00.0002.00.0003.00.0004.00.0005.00.0006.00.0007.00.0008.00.0009.00.0010.00.0011.00.0012.00.0013.00.0014.00.0015.00.0016.00.0017.00.0018.00.0019.00.0020.00.0021.00.0022.00.0023.00.0000.00.0001.00.0002.00.0003.00.0004.00.0005.00.0006.00.0007.00.0008.00.0009.00.0010.00.0011.00.0012.00.0013.00.0014.00.0015.00.0016.00.0017.00.0018.00.0019.00.0020.00.0021.00.0022.00.0023.00.0000.00.0001.00.0002.00.0003.00.0004.00.0005.00.0006.00.0007.00.0008.00.0009.00.0010.00.0011.00.0012.00.0013.00.0014.00.0015.00.0016.00.0017.00.0018.00.0019.00.0020.00.0021.00.0022.00.0023.00.0000.00.0001.00.0002.00.0003.00.0004.00.0005.00.0006.00.0007.00.0008.00.0009.00.0010.00.0011.00.0012.00.0013.00.0014.00.0015.00.0016.00.0017.00.0018.00.0019.00.0020.00.0021.00.0022.00.0023.00.0000.00.0001.00.0002.00.0003.00.0004.00.0005.00.0006.00.0007.00.0008.00.0009.00.0010.00.0011.00.0012.00.0013.00.0014.00.00'] to numeric",
          "traceback": [
            "\u001b[0;31m---------------------------------------------------------------------------\u001b[0m",
            "\u001b[0;31mTypeError\u001b[0m                                 Traceback (most recent call last)",
            "\u001b[0;32m<ipython-input-19-7976a159d11f>\u001b[0m in \u001b[0;36m<cell line: 2>\u001b[0;34m()\u001b[0m\n\u001b[1;32m      1\u001b[0m \u001b[0;31m# Fill missing numeric values with the column mean\u001b[0m\u001b[0;34m\u001b[0m\u001b[0;34m\u001b[0m\u001b[0m\n\u001b[0;32m----> 2\u001b[0;31m \u001b[0mair_quality_df\u001b[0m \u001b[0;34m=\u001b[0m \u001b[0mair_quality_df\u001b[0m\u001b[0;34m.\u001b[0m\u001b[0mfillna\u001b[0m\u001b[0;34m(\u001b[0m\u001b[0mair_quality_df\u001b[0m\u001b[0;34m.\u001b[0m\u001b[0mmean\u001b[0m\u001b[0;34m(\u001b[0m\u001b[0;34m)\u001b[0m\u001b[0;34m)\u001b[0m\u001b[0;34m\u001b[0m\u001b[0;34m\u001b[0m\u001b[0m\n\u001b[0m",
            "\u001b[0;32m/usr/local/lib/python3.10/dist-packages/pandas/core/frame.py\u001b[0m in \u001b[0;36mmean\u001b[0;34m(self, axis, skipna, numeric_only, **kwargs)\u001b[0m\n\u001b[1;32m  11691\u001b[0m         \u001b[0;34m**\u001b[0m\u001b[0mkwargs\u001b[0m\u001b[0;34m,\u001b[0m\u001b[0;34m\u001b[0m\u001b[0;34m\u001b[0m\u001b[0m\n\u001b[1;32m  11692\u001b[0m     ):\n\u001b[0;32m> 11693\u001b[0;31m         \u001b[0mresult\u001b[0m \u001b[0;34m=\u001b[0m \u001b[0msuper\u001b[0m\u001b[0;34m(\u001b[0m\u001b[0;34m)\u001b[0m\u001b[0;34m.\u001b[0m\u001b[0mmean\u001b[0m\u001b[0;34m(\u001b[0m\u001b[0maxis\u001b[0m\u001b[0;34m,\u001b[0m \u001b[0mskipna\u001b[0m\u001b[0;34m,\u001b[0m \u001b[0mnumeric_only\u001b[0m\u001b[0;34m,\u001b[0m \u001b[0;34m**\u001b[0m\u001b[0mkwargs\u001b[0m\u001b[0;34m)\u001b[0m\u001b[0;34m\u001b[0m\u001b[0;34m\u001b[0m\u001b[0m\n\u001b[0m\u001b[1;32m  11694\u001b[0m         \u001b[0;32mif\u001b[0m \u001b[0misinstance\u001b[0m\u001b[0;34m(\u001b[0m\u001b[0mresult\u001b[0m\u001b[0;34m,\u001b[0m \u001b[0mSeries\u001b[0m\u001b[0;34m)\u001b[0m\u001b[0;34m:\u001b[0m\u001b[0;34m\u001b[0m\u001b[0;34m\u001b[0m\u001b[0m\n\u001b[1;32m  11695\u001b[0m             \u001b[0mresult\u001b[0m \u001b[0;34m=\u001b[0m \u001b[0mresult\u001b[0m\u001b[0;34m.\u001b[0m\u001b[0m__finalize__\u001b[0m\u001b[0;34m(\u001b[0m\u001b[0mself\u001b[0m\u001b[0;34m,\u001b[0m \u001b[0mmethod\u001b[0m\u001b[0;34m=\u001b[0m\u001b[0;34m\"mean\"\u001b[0m\u001b[0;34m)\u001b[0m\u001b[0;34m\u001b[0m\u001b[0;34m\u001b[0m\u001b[0m\n",
            "\u001b[0;32m/usr/local/lib/python3.10/dist-packages/pandas/core/generic.py\u001b[0m in \u001b[0;36mmean\u001b[0;34m(self, axis, skipna, numeric_only, **kwargs)\u001b[0m\n\u001b[1;32m  12418\u001b[0m         \u001b[0;34m**\u001b[0m\u001b[0mkwargs\u001b[0m\u001b[0;34m,\u001b[0m\u001b[0;34m\u001b[0m\u001b[0;34m\u001b[0m\u001b[0m\n\u001b[1;32m  12419\u001b[0m     ) -> Series | float:\n\u001b[0;32m> 12420\u001b[0;31m         return self._stat_function(\n\u001b[0m\u001b[1;32m  12421\u001b[0m             \u001b[0;34m\"mean\"\u001b[0m\u001b[0;34m,\u001b[0m \u001b[0mnanops\u001b[0m\u001b[0;34m.\u001b[0m\u001b[0mnanmean\u001b[0m\u001b[0;34m,\u001b[0m \u001b[0maxis\u001b[0m\u001b[0;34m,\u001b[0m \u001b[0mskipna\u001b[0m\u001b[0;34m,\u001b[0m \u001b[0mnumeric_only\u001b[0m\u001b[0;34m,\u001b[0m \u001b[0;34m**\u001b[0m\u001b[0mkwargs\u001b[0m\u001b[0;34m\u001b[0m\u001b[0;34m\u001b[0m\u001b[0m\n\u001b[1;32m  12422\u001b[0m         )\n",
            "\u001b[0;32m/usr/local/lib/python3.10/dist-packages/pandas/core/generic.py\u001b[0m in \u001b[0;36m_stat_function\u001b[0;34m(self, name, func, axis, skipna, numeric_only, **kwargs)\u001b[0m\n\u001b[1;32m  12375\u001b[0m         \u001b[0mvalidate_bool_kwarg\u001b[0m\u001b[0;34m(\u001b[0m\u001b[0mskipna\u001b[0m\u001b[0;34m,\u001b[0m \u001b[0;34m\"skipna\"\u001b[0m\u001b[0;34m,\u001b[0m \u001b[0mnone_allowed\u001b[0m\u001b[0;34m=\u001b[0m\u001b[0;32mFalse\u001b[0m\u001b[0;34m)\u001b[0m\u001b[0;34m\u001b[0m\u001b[0;34m\u001b[0m\u001b[0m\n\u001b[1;32m  12376\u001b[0m \u001b[0;34m\u001b[0m\u001b[0m\n\u001b[0;32m> 12377\u001b[0;31m         return self._reduce(\n\u001b[0m\u001b[1;32m  12378\u001b[0m             \u001b[0mfunc\u001b[0m\u001b[0;34m,\u001b[0m \u001b[0mname\u001b[0m\u001b[0;34m=\u001b[0m\u001b[0mname\u001b[0m\u001b[0;34m,\u001b[0m \u001b[0maxis\u001b[0m\u001b[0;34m=\u001b[0m\u001b[0maxis\u001b[0m\u001b[0;34m,\u001b[0m \u001b[0mskipna\u001b[0m\u001b[0;34m=\u001b[0m\u001b[0mskipna\u001b[0m\u001b[0;34m,\u001b[0m \u001b[0mnumeric_only\u001b[0m\u001b[0;34m=\u001b[0m\u001b[0mnumeric_only\u001b[0m\u001b[0;34m\u001b[0m\u001b[0;34m\u001b[0m\u001b[0m\n\u001b[1;32m  12379\u001b[0m         )\n",
            "\u001b[0;32m/usr/local/lib/python3.10/dist-packages/pandas/core/frame.py\u001b[0m in \u001b[0;36m_reduce\u001b[0;34m(self, op, name, axis, skipna, numeric_only, filter_type, **kwds)\u001b[0m\n\u001b[1;32m  11560\u001b[0m         \u001b[0;31m# After possibly _get_data and transposing, we are now in the\u001b[0m\u001b[0;34m\u001b[0m\u001b[0;34m\u001b[0m\u001b[0m\n\u001b[1;32m  11561\u001b[0m         \u001b[0;31m#  simple case where we can use BlockManager.reduce\u001b[0m\u001b[0;34m\u001b[0m\u001b[0;34m\u001b[0m\u001b[0m\n\u001b[0;32m> 11562\u001b[0;31m         \u001b[0mres\u001b[0m \u001b[0;34m=\u001b[0m \u001b[0mdf\u001b[0m\u001b[0;34m.\u001b[0m\u001b[0m_mgr\u001b[0m\u001b[0;34m.\u001b[0m\u001b[0mreduce\u001b[0m\u001b[0;34m(\u001b[0m\u001b[0mblk_func\u001b[0m\u001b[0;34m)\u001b[0m\u001b[0;34m\u001b[0m\u001b[0;34m\u001b[0m\u001b[0m\n\u001b[0m\u001b[1;32m  11563\u001b[0m         \u001b[0mout\u001b[0m \u001b[0;34m=\u001b[0m \u001b[0mdf\u001b[0m\u001b[0;34m.\u001b[0m\u001b[0m_constructor_from_mgr\u001b[0m\u001b[0;34m(\u001b[0m\u001b[0mres\u001b[0m\u001b[0;34m,\u001b[0m \u001b[0maxes\u001b[0m\u001b[0;34m=\u001b[0m\u001b[0mres\u001b[0m\u001b[0;34m.\u001b[0m\u001b[0maxes\u001b[0m\u001b[0;34m)\u001b[0m\u001b[0;34m.\u001b[0m\u001b[0miloc\u001b[0m\u001b[0;34m[\u001b[0m\u001b[0;36m0\u001b[0m\u001b[0;34m]\u001b[0m\u001b[0;34m\u001b[0m\u001b[0;34m\u001b[0m\u001b[0m\n\u001b[1;32m  11564\u001b[0m         \u001b[0;32mif\u001b[0m \u001b[0mout_dtype\u001b[0m \u001b[0;32mis\u001b[0m \u001b[0;32mnot\u001b[0m \u001b[0;32mNone\u001b[0m \u001b[0;32mand\u001b[0m \u001b[0mout\u001b[0m\u001b[0;34m.\u001b[0m\u001b[0mdtype\u001b[0m \u001b[0;34m!=\u001b[0m \u001b[0;34m\"boolean\"\u001b[0m\u001b[0;34m:\u001b[0m\u001b[0;34m\u001b[0m\u001b[0;34m\u001b[0m\u001b[0m\n",
            "\u001b[0;32m/usr/local/lib/python3.10/dist-packages/pandas/core/internals/managers.py\u001b[0m in \u001b[0;36mreduce\u001b[0;34m(self, func)\u001b[0m\n\u001b[1;32m   1498\u001b[0m         \u001b[0mres_blocks\u001b[0m\u001b[0;34m:\u001b[0m \u001b[0mlist\u001b[0m\u001b[0;34m[\u001b[0m\u001b[0mBlock\u001b[0m\u001b[0;34m]\u001b[0m \u001b[0;34m=\u001b[0m \u001b[0;34m[\u001b[0m\u001b[0;34m]\u001b[0m\u001b[0;34m\u001b[0m\u001b[0;34m\u001b[0m\u001b[0m\n\u001b[1;32m   1499\u001b[0m         \u001b[0;32mfor\u001b[0m \u001b[0mblk\u001b[0m \u001b[0;32min\u001b[0m \u001b[0mself\u001b[0m\u001b[0;34m.\u001b[0m\u001b[0mblocks\u001b[0m\u001b[0;34m:\u001b[0m\u001b[0;34m\u001b[0m\u001b[0;34m\u001b[0m\u001b[0m\n\u001b[0;32m-> 1500\u001b[0;31m             \u001b[0mnbs\u001b[0m \u001b[0;34m=\u001b[0m \u001b[0mblk\u001b[0m\u001b[0;34m.\u001b[0m\u001b[0mreduce\u001b[0m\u001b[0;34m(\u001b[0m\u001b[0mfunc\u001b[0m\u001b[0;34m)\u001b[0m\u001b[0;34m\u001b[0m\u001b[0;34m\u001b[0m\u001b[0m\n\u001b[0m\u001b[1;32m   1501\u001b[0m             \u001b[0mres_blocks\u001b[0m\u001b[0;34m.\u001b[0m\u001b[0mextend\u001b[0m\u001b[0;34m(\u001b[0m\u001b[0mnbs\u001b[0m\u001b[0;34m)\u001b[0m\u001b[0;34m\u001b[0m\u001b[0;34m\u001b[0m\u001b[0m\n\u001b[1;32m   1502\u001b[0m \u001b[0;34m\u001b[0m\u001b[0m\n",
            "\u001b[0;32m/usr/local/lib/python3.10/dist-packages/pandas/core/internals/blocks.py\u001b[0m in \u001b[0;36mreduce\u001b[0;34m(self, func)\u001b[0m\n\u001b[1;32m    402\u001b[0m         \u001b[0;32massert\u001b[0m \u001b[0mself\u001b[0m\u001b[0;34m.\u001b[0m\u001b[0mndim\u001b[0m \u001b[0;34m==\u001b[0m \u001b[0;36m2\u001b[0m\u001b[0;34m\u001b[0m\u001b[0;34m\u001b[0m\u001b[0m\n\u001b[1;32m    403\u001b[0m \u001b[0;34m\u001b[0m\u001b[0m\n\u001b[0;32m--> 404\u001b[0;31m         \u001b[0mresult\u001b[0m \u001b[0;34m=\u001b[0m \u001b[0mfunc\u001b[0m\u001b[0;34m(\u001b[0m\u001b[0mself\u001b[0m\u001b[0;34m.\u001b[0m\u001b[0mvalues\u001b[0m\u001b[0;34m)\u001b[0m\u001b[0;34m\u001b[0m\u001b[0;34m\u001b[0m\u001b[0m\n\u001b[0m\u001b[1;32m    405\u001b[0m \u001b[0;34m\u001b[0m\u001b[0m\n\u001b[1;32m    406\u001b[0m         \u001b[0;32mif\u001b[0m \u001b[0mself\u001b[0m\u001b[0;34m.\u001b[0m\u001b[0mvalues\u001b[0m\u001b[0;34m.\u001b[0m\u001b[0mndim\u001b[0m \u001b[0;34m==\u001b[0m \u001b[0;36m1\u001b[0m\u001b[0;34m:\u001b[0m\u001b[0;34m\u001b[0m\u001b[0;34m\u001b[0m\u001b[0m\n",
            "\u001b[0;32m/usr/local/lib/python3.10/dist-packages/pandas/core/frame.py\u001b[0m in \u001b[0;36mblk_func\u001b[0;34m(values, axis)\u001b[0m\n\u001b[1;32m  11479\u001b[0m                     \u001b[0;32mreturn\u001b[0m \u001b[0mnp\u001b[0m\u001b[0;34m.\u001b[0m\u001b[0marray\u001b[0m\u001b[0;34m(\u001b[0m\u001b[0;34m[\u001b[0m\u001b[0mresult\u001b[0m\u001b[0;34m]\u001b[0m\u001b[0;34m)\u001b[0m\u001b[0;34m\u001b[0m\u001b[0;34m\u001b[0m\u001b[0m\n\u001b[1;32m  11480\u001b[0m             \u001b[0;32melse\u001b[0m\u001b[0;34m:\u001b[0m\u001b[0;34m\u001b[0m\u001b[0;34m\u001b[0m\u001b[0m\n\u001b[0;32m> 11481\u001b[0;31m                 \u001b[0;32mreturn\u001b[0m \u001b[0mop\u001b[0m\u001b[0;34m(\u001b[0m\u001b[0mvalues\u001b[0m\u001b[0;34m,\u001b[0m \u001b[0maxis\u001b[0m\u001b[0;34m=\u001b[0m\u001b[0maxis\u001b[0m\u001b[0;34m,\u001b[0m \u001b[0mskipna\u001b[0m\u001b[0;34m=\u001b[0m\u001b[0mskipna\u001b[0m\u001b[0;34m,\u001b[0m \u001b[0;34m**\u001b[0m\u001b[0mkwds\u001b[0m\u001b[0;34m)\u001b[0m\u001b[0;34m\u001b[0m\u001b[0;34m\u001b[0m\u001b[0m\n\u001b[0m\u001b[1;32m  11482\u001b[0m \u001b[0;34m\u001b[0m\u001b[0m\n\u001b[1;32m  11483\u001b[0m         \u001b[0;32mdef\u001b[0m \u001b[0m_get_data\u001b[0m\u001b[0;34m(\u001b[0m\u001b[0;34m)\u001b[0m \u001b[0;34m->\u001b[0m \u001b[0mDataFrame\u001b[0m\u001b[0;34m:\u001b[0m\u001b[0;34m\u001b[0m\u001b[0;34m\u001b[0m\u001b[0m\n",
            "\u001b[0;32m/usr/local/lib/python3.10/dist-packages/pandas/core/nanops.py\u001b[0m in \u001b[0;36mf\u001b[0;34m(values, axis, skipna, **kwds)\u001b[0m\n\u001b[1;32m    145\u001b[0m                     \u001b[0mresult\u001b[0m \u001b[0;34m=\u001b[0m \u001b[0malt\u001b[0m\u001b[0;34m(\u001b[0m\u001b[0mvalues\u001b[0m\u001b[0;34m,\u001b[0m \u001b[0maxis\u001b[0m\u001b[0;34m=\u001b[0m\u001b[0maxis\u001b[0m\u001b[0;34m,\u001b[0m \u001b[0mskipna\u001b[0m\u001b[0;34m=\u001b[0m\u001b[0mskipna\u001b[0m\u001b[0;34m,\u001b[0m \u001b[0;34m**\u001b[0m\u001b[0mkwds\u001b[0m\u001b[0;34m)\u001b[0m\u001b[0;34m\u001b[0m\u001b[0;34m\u001b[0m\u001b[0m\n\u001b[1;32m    146\u001b[0m             \u001b[0;32melse\u001b[0m\u001b[0;34m:\u001b[0m\u001b[0;34m\u001b[0m\u001b[0;34m\u001b[0m\u001b[0m\n\u001b[0;32m--> 147\u001b[0;31m                 \u001b[0mresult\u001b[0m \u001b[0;34m=\u001b[0m \u001b[0malt\u001b[0m\u001b[0;34m(\u001b[0m\u001b[0mvalues\u001b[0m\u001b[0;34m,\u001b[0m \u001b[0maxis\u001b[0m\u001b[0;34m=\u001b[0m\u001b[0maxis\u001b[0m\u001b[0;34m,\u001b[0m \u001b[0mskipna\u001b[0m\u001b[0;34m=\u001b[0m\u001b[0mskipna\u001b[0m\u001b[0;34m,\u001b[0m \u001b[0;34m**\u001b[0m\u001b[0mkwds\u001b[0m\u001b[0;34m)\u001b[0m\u001b[0;34m\u001b[0m\u001b[0;34m\u001b[0m\u001b[0m\n\u001b[0m\u001b[1;32m    148\u001b[0m \u001b[0;34m\u001b[0m\u001b[0m\n\u001b[1;32m    149\u001b[0m             \u001b[0;32mreturn\u001b[0m \u001b[0mresult\u001b[0m\u001b[0;34m\u001b[0m\u001b[0;34m\u001b[0m\u001b[0m\n",
            "\u001b[0;32m/usr/local/lib/python3.10/dist-packages/pandas/core/nanops.py\u001b[0m in \u001b[0;36mnew_func\u001b[0;34m(values, axis, skipna, mask, **kwargs)\u001b[0m\n\u001b[1;32m    402\u001b[0m             \u001b[0mmask\u001b[0m \u001b[0;34m=\u001b[0m \u001b[0misna\u001b[0m\u001b[0;34m(\u001b[0m\u001b[0mvalues\u001b[0m\u001b[0;34m)\u001b[0m\u001b[0;34m\u001b[0m\u001b[0;34m\u001b[0m\u001b[0m\n\u001b[1;32m    403\u001b[0m \u001b[0;34m\u001b[0m\u001b[0m\n\u001b[0;32m--> 404\u001b[0;31m         \u001b[0mresult\u001b[0m \u001b[0;34m=\u001b[0m \u001b[0mfunc\u001b[0m\u001b[0;34m(\u001b[0m\u001b[0mvalues\u001b[0m\u001b[0;34m,\u001b[0m \u001b[0maxis\u001b[0m\u001b[0;34m=\u001b[0m\u001b[0maxis\u001b[0m\u001b[0;34m,\u001b[0m \u001b[0mskipna\u001b[0m\u001b[0;34m=\u001b[0m\u001b[0mskipna\u001b[0m\u001b[0;34m,\u001b[0m \u001b[0mmask\u001b[0m\u001b[0;34m=\u001b[0m\u001b[0mmask\u001b[0m\u001b[0;34m,\u001b[0m \u001b[0;34m**\u001b[0m\u001b[0mkwargs\u001b[0m\u001b[0;34m)\u001b[0m\u001b[0;34m\u001b[0m\u001b[0;34m\u001b[0m\u001b[0m\n\u001b[0m\u001b[1;32m    405\u001b[0m \u001b[0;34m\u001b[0m\u001b[0m\n\u001b[1;32m    406\u001b[0m         \u001b[0;32mif\u001b[0m \u001b[0mdatetimelike\u001b[0m\u001b[0;34m:\u001b[0m\u001b[0;34m\u001b[0m\u001b[0;34m\u001b[0m\u001b[0m\n",
            "\u001b[0;32m/usr/local/lib/python3.10/dist-packages/pandas/core/nanops.py\u001b[0m in \u001b[0;36mnanmean\u001b[0;34m(values, axis, skipna, mask)\u001b[0m\n\u001b[1;32m    718\u001b[0m     \u001b[0mcount\u001b[0m \u001b[0;34m=\u001b[0m \u001b[0m_get_counts\u001b[0m\u001b[0;34m(\u001b[0m\u001b[0mvalues\u001b[0m\u001b[0;34m.\u001b[0m\u001b[0mshape\u001b[0m\u001b[0;34m,\u001b[0m \u001b[0mmask\u001b[0m\u001b[0;34m,\u001b[0m \u001b[0maxis\u001b[0m\u001b[0;34m,\u001b[0m \u001b[0mdtype\u001b[0m\u001b[0;34m=\u001b[0m\u001b[0mdtype_count\u001b[0m\u001b[0;34m)\u001b[0m\u001b[0;34m\u001b[0m\u001b[0;34m\u001b[0m\u001b[0m\n\u001b[1;32m    719\u001b[0m     \u001b[0mthe_sum\u001b[0m \u001b[0;34m=\u001b[0m \u001b[0mvalues\u001b[0m\u001b[0;34m.\u001b[0m\u001b[0msum\u001b[0m\u001b[0;34m(\u001b[0m\u001b[0maxis\u001b[0m\u001b[0;34m,\u001b[0m \u001b[0mdtype\u001b[0m\u001b[0;34m=\u001b[0m\u001b[0mdtype_sum\u001b[0m\u001b[0;34m)\u001b[0m\u001b[0;34m\u001b[0m\u001b[0;34m\u001b[0m\u001b[0m\n\u001b[0;32m--> 720\u001b[0;31m     \u001b[0mthe_sum\u001b[0m \u001b[0;34m=\u001b[0m \u001b[0m_ensure_numeric\u001b[0m\u001b[0;34m(\u001b[0m\u001b[0mthe_sum\u001b[0m\u001b[0;34m)\u001b[0m\u001b[0;34m\u001b[0m\u001b[0;34m\u001b[0m\u001b[0m\n\u001b[0m\u001b[1;32m    721\u001b[0m \u001b[0;34m\u001b[0m\u001b[0m\n\u001b[1;32m    722\u001b[0m     \u001b[0;32mif\u001b[0m \u001b[0maxis\u001b[0m \u001b[0;32mis\u001b[0m \u001b[0;32mnot\u001b[0m \u001b[0;32mNone\u001b[0m \u001b[0;32mand\u001b[0m \u001b[0mgetattr\u001b[0m\u001b[0;34m(\u001b[0m\u001b[0mthe_sum\u001b[0m\u001b[0;34m,\u001b[0m \u001b[0;34m\"ndim\"\u001b[0m\u001b[0;34m,\u001b[0m \u001b[0;32mFalse\u001b[0m\u001b[0;34m)\u001b[0m\u001b[0;34m:\u001b[0m\u001b[0;34m\u001b[0m\u001b[0;34m\u001b[0m\u001b[0m\n",
            "\u001b[0;32m/usr/local/lib/python3.10/dist-packages/pandas/core/nanops.py\u001b[0m in \u001b[0;36m_ensure_numeric\u001b[0;34m(x)\u001b[0m\n\u001b[1;32m   1684\u001b[0m             \u001b[0;32mif\u001b[0m \u001b[0minferred\u001b[0m \u001b[0;32min\u001b[0m \u001b[0;34m[\u001b[0m\u001b[0;34m\"string\"\u001b[0m\u001b[0;34m,\u001b[0m \u001b[0;34m\"mixed\"\u001b[0m\u001b[0;34m]\u001b[0m\u001b[0;34m:\u001b[0m\u001b[0;34m\u001b[0m\u001b[0;34m\u001b[0m\u001b[0m\n\u001b[1;32m   1685\u001b[0m                 \u001b[0;31m# GH#44008, GH#36703 avoid casting e.g. strings to numeric\u001b[0m\u001b[0;34m\u001b[0m\u001b[0;34m\u001b[0m\u001b[0m\n\u001b[0;32m-> 1686\u001b[0;31m                 \u001b[0;32mraise\u001b[0m \u001b[0mTypeError\u001b[0m\u001b[0;34m(\u001b[0m\u001b[0;34mf\"Could not convert {x} to numeric\"\u001b[0m\u001b[0;34m)\u001b[0m\u001b[0;34m\u001b[0m\u001b[0;34m\u001b[0m\u001b[0m\n\u001b[0m\u001b[1;32m   1687\u001b[0m             \u001b[0;32mtry\u001b[0m\u001b[0;34m:\u001b[0m\u001b[0;34m\u001b[0m\u001b[0;34m\u001b[0m\u001b[0m\n\u001b[1;32m   1688\u001b[0m                 \u001b[0mx\u001b[0m \u001b[0;34m=\u001b[0m \u001b[0mx\u001b[0m\u001b[0;34m.\u001b[0m\u001b[0mastype\u001b[0m\u001b[0;34m(\u001b[0m\u001b[0mnp\u001b[0m\u001b[0;34m.\u001b[0m\u001b[0mcomplex128\u001b[0m\u001b[0;34m)\u001b[0m\u001b[0;34m\u001b[0m\u001b[0;34m\u001b[0m\u001b[0m\n",
            "\u001b[0;31mTypeError\u001b[0m: Could not convert ['10/03/200410/03/200410/03/200410/03/200410/03/200410/03/200411/03/200411/03/200411/03/200411/03/200411/03/200411/03/200411/03/200411/03/200411/03/200411/03/200411/03/200411/03/200411/03/200411/03/200411/03/200411/03/200411/03/200411/03/200411/03/200411/03/200411/03/200411/03/200411/03/200411/03/200412/03/200412/03/200412/03/200412/03/200412/03/200412/03/200412/03/200412/03/200412/03/200412/03/200412/03/200412/03/200412/03/200412/03/200412/03/200412/03/200412/03/200412/03/200412/03/200412/03/200412/03/200412/03/200412/03/200412/03/200413/03/200413/03/200413/03/200413/03/200413/03/200413/03/200413/03/200413/03/200413/03/200413/03/200413/03/200413/03/200413/03/200413/03/200413/03/200413/03/200413/03/200413/03/200413/03/200413/03/200413/03/200413/03/200413/03/200413/03/200414/03/200414/03/200414/03/200414/03/200414/03/200414/03/200414/03/200414/03/200414/03/200414/03/200414/03/200414/03/200414/03/200414/03/200414/03/200414/03/200414/03/200414/03/200414/03/200414/03/200414/03/200414/03/200414/03/200414/03/200415/03/200415/03/200415/03/200415/03/200415/03/200415/03/200415/03/200415/03/200415/03/200415/03/200415/03/200415/03/200415/03/200415/03/200415/03/200415/03/200415/03/200415/03/200415/03/200415/03/200415/03/200415/03/200415/03/200415/03/200416/03/200416/03/200416/03/200416/03/200416/03/200416/03/200416/03/200416/03/200416/03/200416/03/200416/03/200416/03/200416/03/200416/03/200416/03/200416/03/200416/03/200416/03/200416/03/200416/03...\n '18.00.0019.00.0020.00.0021.00.0022.00.0023.00.0000.00.0001.00.0002.00.0003.00.0004.00.0005.00.0006.00.0007.00.0008.00.0009.00.0010.00.0011.00.0012.00.0013.00.0014.00.0015.00.0016.00.0017.00.0018.00.0019.00.0020.00.0021.00.0022.00.0023.00.0000.00.0001.00.0002.00.0003.00.0004.00.0005.00.0006.00.0007.00.0008.00.0009.00.0010.00.0011.00.0012.00.0013.00.0014.00.0015.00.0016.00.0017.00.0018.00.0019.00.0020.00.0021.00.0022.00.0023.00.0000.00.0001.00.0002.00.0003.00.0004.00.0005.00.0006.00.0007.00.0008.00.0009.00.0010.00.0011.00.0012.00.0013.00.0014.00.0015.00.0016.00.0017.00.0018.00.0019.00.0020.00.0021.00.0022.00.0023.00.0000.00.0001.00.0002.00.0003.00.0004.00.0005.00.0006.00.0007.00.0008.00.0009.00.0010.00.0011.00.0012.00.0013.00.0014.00.0015.00.0016.00.0017.00.0018.00.0019.00.0020.00.0021.00.0022.00.0023.00.0000.00.0001.00.0002.00.0003.00.0004.00.0005.00.0006.00.0007.00.0008.00.0009.00.0010.00.0011.00.0012.00.0013.00.0014.00.0015.00.0016.00.0017.00.0018.00.0019.00.0020.00.0021.00.0022.00.0023.00.0000.00.0001.00.0002.00.0003.00.0004.00.0005.00.0006.00.0007.00.0008.00.0009.00.0010.00.0011.00.0012.00.0013.00.0014.00.0015.00.0016.00.0017.00.0018.00.0019.00.0020.00.0021.00.0022.00.0023.00.0000.00.0001.00.0002.00.0003.00.0004.00.0005.00.0006.00.0007.00.0008.00.0009.00.0010.00.0011.00.0012.00.0013.00.0014.00.0015.00.0016.00.0017.00.0018.00.0019.00.0020.00.0021.00.0022.00.0023.00.0000.00.0001.00.0002.00.0003.00.0004.00.0005.00.0006.00.0007.00.0008.00.0009.00.0010.00.0011.00.0012.00.0..."
          ]
        }
      ]
    },
    {
      "cell_type": "code",
      "source": [
        "# Drop rows with missing values in key columns\n",
        "air_quality_df = air_quality_df.dropna(subset=['CO(GT)', 'C6H6(GT)', 'T', 'RH'])"
      ],
      "metadata": {
        "id": "kpw26nDz1CX4"
      },
      "execution_count": 16,
      "outputs": []
    },
    {
      "cell_type": "markdown",
      "source": [
        "### Convert Numeric Columns"
      ],
      "metadata": {
        "id": "VPDca40l1I_f"
      }
    },
    {
      "cell_type": "code",
      "source": [
        "# Convert numeric columns with commas to floats\n",
        "cols_to_convert = ['CO(GT)', 'C6H6(GT)', 'T', 'RH', 'AH']\n",
        "for col in cols_to_convert:\n",
        "    air_quality_df[col] = air_quality_df[col].str.replace(',', '.').astype(float)"
      ],
      "metadata": {
        "id": "Z7HlLQX01JiX"
      },
      "execution_count": 17,
      "outputs": []
    },
    {
      "cell_type": "code",
      "source": [
        "# Check data types and null values\n",
        "print(air_quality_df.info())\n",
        "print(air_quality_df.isnull().sum())"
      ],
      "metadata": {
        "colab": {
          "base_uri": "https://localhost:8080/"
        },
        "id": "oaoKW7841Rmf",
        "outputId": "8fd003ca-3d40-4bfa-984e-722960ed0b42"
      },
      "execution_count": 18,
      "outputs": [
        {
          "output_type": "stream",
          "name": "stdout",
          "text": [
            "<class 'pandas.core.frame.DataFrame'>\n",
            "Index: 9357 entries, 0 to 9356\n",
            "Data columns (total 15 columns):\n",
            " #   Column         Non-Null Count  Dtype  \n",
            "---  ------         --------------  -----  \n",
            " 0   Date           9357 non-null   object \n",
            " 1   Time           9357 non-null   object \n",
            " 2   CO(GT)         9357 non-null   float64\n",
            " 3   PT08.S1(CO)    9357 non-null   float64\n",
            " 4   NMHC(GT)       9357 non-null   float64\n",
            " 5   C6H6(GT)       9357 non-null   float64\n",
            " 6   PT08.S2(NMHC)  9357 non-null   float64\n",
            " 7   NOx(GT)        9357 non-null   float64\n",
            " 8   PT08.S3(NOx)   9357 non-null   float64\n",
            " 9   NO2(GT)        9357 non-null   float64\n",
            " 10  PT08.S4(NO2)   9357 non-null   float64\n",
            " 11  PT08.S5(O3)    9357 non-null   float64\n",
            " 12  T              9357 non-null   float64\n",
            " 13  RH             9357 non-null   float64\n",
            " 14  AH             9357 non-null   float64\n",
            "dtypes: float64(13), object(2)\n",
            "memory usage: 1.1+ MB\n",
            "None\n",
            "Date             0\n",
            "Time             0\n",
            "CO(GT)           0\n",
            "PT08.S1(CO)      0\n",
            "NMHC(GT)         0\n",
            "C6H6(GT)         0\n",
            "PT08.S2(NMHC)    0\n",
            "NOx(GT)          0\n",
            "PT08.S3(NOx)     0\n",
            "NO2(GT)          0\n",
            "PT08.S4(NO2)     0\n",
            "PT08.S5(O3)      0\n",
            "T                0\n",
            "RH               0\n",
            "AH               0\n",
            "dtype: int64\n"
          ]
        }
      ]
    },
    {
      "cell_type": "markdown",
      "source": [
        "## Understand and apply subtopic 1 (Linear Regression) to the dataset"
      ],
      "metadata": {
        "id": "3p0E7MtBfMok"
      }
    },
    {
      "cell_type": "markdown",
      "source": [
        "  ### Define target and feature variables\n",
        "Target variable `y`: `CO(GT)` (Carbon Monoxide levels)"
      ],
      "metadata": {
        "id": "n5k347jwDCMN"
      }
    },
    {
      "cell_type": "code",
      "source": [
        "# Features (X) and target variable (y)\n",
        "X = air_quality_df.drop(columns=['CO(GT)', 'Date', 'Time'], axis=True)\n",
        "y = air_quality_df['CO(GT)']\n",
        "\n",
        "# Split into training and testing sets\n",
        "X_train, X_test, y_train, y_test = train_test_split(X, y, test_size=0.2, random_state=42)\n",
        "print(\"Training set shape:\", X_train.shape)\n",
        "print(\"Testing set shape:\", X_test.shape)"
      ],
      "metadata": {
        "colab": {
          "base_uri": "https://localhost:8080/"
        },
        "id": "4KgPoRpjD9T7",
        "outputId": "65137ce2-e336-4142-9beb-9a40e98a3837"
      },
      "execution_count": 21,
      "outputs": [
        {
          "output_type": "stream",
          "name": "stdout",
          "text": [
            "Training set shape: (7485, 12)\n",
            "Testing set shape: (1872, 12)\n"
          ]
        }
      ]
    },
    {
      "cell_type": "markdown",
      "source": [
        "### `LinearRegression` Model Train and Evaluate"
      ],
      "metadata": {
        "id": "kE6IB7tKHUhM"
      }
    },
    {
      "cell_type": "code",
      "source": [
        "# Standardize the feature data\n",
        "scaler = StandardScaler()\n",
        "X_train_scaled = scaler.fit_transform(X_train)\n",
        "X_test_scaled = scaler.transform(X_test)\n",
        "\n",
        "# Add polynomial features (degree=2)\n",
        "poly = PolynomialFeatures(degree=2, include_bias=False)\n",
        "X_train_poly = poly.fit_transform(X_train_scaled)\n",
        "X_test_poly = poly.transform(X_test_scaled)\n",
        "\n",
        "# Initialize and train Linear Regression model\n",
        "lr_model = LinearRegression()\n",
        "lr_model.fit(X_train_poly, y_train)\n",
        "\n",
        "# Predict on test set\n",
        "y_pred = lr_model.predict(X_test_poly)\n",
        "\n",
        "# Evaluate the model\n",
        "mse = mean_squared_error(y_test, y_pred)\n",
        "r2 = r2_score(y_test, y_pred)\n",
        "\n",
        "print(\"Mean Squared Error (MSE):\", mse)\n",
        "print(\"R² Score:\", r2)"
      ],
      "metadata": {
        "id": "2_rKgYKffWFM",
        "colab": {
          "base_uri": "https://localhost:8080/"
        },
        "outputId": "96091e83-19a3-42a9-e5e4-63082fe0ab6b"
      },
      "execution_count": 43,
      "outputs": [
        {
          "output_type": "stream",
          "name": "stdout",
          "text": [
            "Mean Squared Error (MSE): 2488.195155987528\n",
            "R² Score: 0.5788516811668626\n"
          ]
        }
      ]
    },
    {
      "cell_type": "markdown",
      "source": [
        "## Apply subtopic 2 (Classification)"
      ],
      "metadata": {
        "id": "X6NxZl6rfkmc"
      }
    },
    {
      "cell_type": "markdown",
      "source": [
        "### Binarize the target variable\n",
        "Low CO vs High CO:\n",
        "- 1 if CO >= 2\n",
        "- 0 otherwise"
      ],
      "metadata": {
        "id": "_bsBYmwRLm5i"
      }
    },
    {
      "cell_type": "code",
      "source": [
        "y_class = (y >= 2).astype(int)\n",
        "\n",
        "# Split the data\n",
        "X_train, X_test, y_train_class, y_test_class = train_test_split(X, y_class, test_size=0.2, random_state=42)"
      ],
      "metadata": {
        "id": "WynoKI67fzYM"
      },
      "execution_count": 25,
      "outputs": []
    },
    {
      "cell_type": "markdown",
      "source": [
        "### `LogisticRegression` model training"
      ],
      "metadata": {
        "id": "vutmdW3sMHnS"
      }
    },
    {
      "cell_type": "code",
      "source": [
        "# Train a Logistic Regression model\n",
        "clf = LogisticRegression(max_iter=5000)\n",
        "clf.fit(X_train, y_train_class)\n",
        "\n",
        "# Predict on test set\n",
        "y_pred_class = clf.predict(X_test)\n",
        "\n",
        "# Evaluate the model\n",
        "accuracy = accuracy_score(y_test_class, y_pred_class)\n",
        "print(\"Classification Accuracy:\", accuracy)\n",
        "print(\"\\nClassification Report:\\n\", classification_report(y_test_class, y_pred_class))"
      ],
      "metadata": {
        "colab": {
          "base_uri": "https://localhost:8080/"
        },
        "id": "ZmRO1uxoMUoB",
        "outputId": "8ac34b5e-d89f-4d55-d758-ff9142b8d947"
      },
      "execution_count": 48,
      "outputs": [
        {
          "output_type": "stream",
          "name": "stdout",
          "text": [
            "Classification Accuracy: 0.9246794871794872\n",
            "\n",
            "Classification Report:\n",
            "               precision    recall  f1-score   support\n",
            "\n",
            "           0       0.94      0.94      0.94      1166\n",
            "           1       0.91      0.89      0.90       706\n",
            "\n",
            "    accuracy                           0.92      1872\n",
            "   macro avg       0.92      0.92      0.92      1872\n",
            "weighted avg       0.92      0.92      0.92      1872\n",
            "\n"
          ]
        }
      ]
    },
    {
      "cell_type": "markdown",
      "source": [
        "## Compare and contrast both results (subtopic 1 vs subtopic 2)"
      ],
      "metadata": {
        "id": "ArocvbVef0Cl"
      }
    },
    {
      "cell_type": "code",
      "source": [],
      "metadata": {
        "id": "JhoUGT6qf5ns"
      },
      "execution_count": null,
      "outputs": []
    }
  ]
}